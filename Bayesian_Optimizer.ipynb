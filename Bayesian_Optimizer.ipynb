{
 "cells": [
  {
   "cell_type": "markdown",
   "id": "fc9ec92b",
   "metadata": {},
   "source": [
    "# Bayesian Optimizer using Gaussian Process"
   ]
  },
  {
   "cell_type": "code",
   "execution_count": 1,
   "id": "ea86be8b",
   "metadata": {},
   "outputs": [],
   "source": [
    "import time\n",
    "t1 = time.time()"
   ]
  },
  {
   "cell_type": "code",
   "execution_count": 2,
   "id": "006156c4",
   "metadata": {},
   "outputs": [
    {
     "name": "stderr",
     "output_type": "stream",
     "text": [
      "2021-11-03 04:09:52.878724: W tensorflow/stream_executor/platform/default/dso_loader.cc:59] Could not load dynamic library 'libcudart.so.10.1'; dlerror: libcudart.so.10.1: cannot open shared object file: No such file or directory; LD_LIBRARY_PATH: /opt/xilinx/xrt/lib:/usr/lib:/usr/lib/x86_64-linux-gnu:/usr/local/lib:/opt/vitis_ai/conda/envs/vitis-ai-tensorflow/lib\n",
      "2021-11-03 04:09:52.878750: I tensorflow/stream_executor/cuda/cudart_stub.cc:29] Ignore above cudart dlerror if you do not have a GPU set up on your machine.\n"
     ]
    }
   ],
   "source": [
    "%matplotlib inline\n",
    "import matplotlib.pyplot as plt\n",
    "import tensorflow as tf\n",
    "import numpy as np\n",
    "import math"
   ]
  },
  {
   "cell_type": "code",
   "execution_count": 3,
   "id": "105343e4",
   "metadata": {},
   "outputs": [],
   "source": [
    "from tensorflow.keras import backend as K\n",
    "from tensorflow.keras.models import Sequential\n",
    "from tensorflow.keras.layers import InputLayer, Input\n",
    "from tensorflow.keras.layers import Reshape, MaxPooling2D\n",
    "from tensorflow.keras.layers import Conv2D, Dense, Flatten\n",
    "from tensorflow.keras.callbacks import TensorBoard\n",
    "from tensorflow.keras.optimizers import Adam\n",
    "from tensorflow.keras.optimizers import SGD\n",
    "from tensorflow.keras.optimizers import RMSprop\n",
    "from tensorflow.keras.optimizers import Adagrad\n",
    "from tensorflow.keras.models import load_model"
   ]
  },
  {
   "cell_type": "code",
   "execution_count": 4,
   "id": "e0942fce",
   "metadata": {},
   "outputs": [],
   "source": [
    "# Python package scikit-optimize (or skopt) for finding the best choices of these hyper-parameters.\n",
    "import skopt\n",
    "from skopt import gp_minimize, forest_minimize\n",
    "from skopt.space import Real, Categorical, Integer\n",
    "from skopt.plots import plot_convergence\n",
    "from skopt.plots import plot_objective, plot_evaluations\n",
    "from skopt.plots import plot_histogram, plot_objective_2D\n",
    "from skopt.utils import use_named_args"
   ]
  },
  {
   "cell_type": "markdown",
   "id": "052f45b7",
   "metadata": {},
   "source": [
    "## Hyper-Parameters\n",
    "1. The learning-rate\n",
    "\n",
    "2. The number of fully-connected / dense layers.\n",
    "\n",
    "3. The number of nodes for each of the dense layers.\n",
    "\n",
    "4. Activation function('sigmoid' or 'relu').\n",
    "\n",
    "5. Batch Size\n",
    "\n",
    "6. Optimizer \n"
   ]
  },
  {
   "cell_type": "code",
   "execution_count": 5,
   "id": "c5adc78e",
   "metadata": {},
   "outputs": [],
   "source": [
    "# search-ranges for hyper-parqameter\n",
    "batch_size = 128\n",
    "range_learning_rate = Real(low=1e-6, high=1e-2, prior='log-uniform', name='learning_rate')\n",
    "range_num_dense_layers = Integer(low=1, high=5, name='num_dense_layers')\n",
    "range_num_dense_nodes = Integer(low=5, high=512, name='num_dense_nodes')\n",
    "activation_function = Categorical(categories=['relu', 'sigmoid'], name='activation')\n",
    "\n",
    "dimensions = [range_learning_rate, range_num_dense_layers, range_num_dense_nodes, activation_function]"
   ]
  },
  {
   "cell_type": "code",
   "execution_count": 6,
   "id": "efcf453a",
   "metadata": {},
   "outputs": [],
   "source": [
    "default_parameters = [1e-5, 1, 16, 'relu']"
   ]
  },
  {
   "cell_type": "code",
   "execution_count": 7,
   "id": "68e3da06",
   "metadata": {},
   "outputs": [],
   "source": [
    "# log the training-progress for all parameter-combinations\n",
    "def log_dir_name(learning_rate, num_dense_layers, num_dense_nodes, activation):\n",
    "\n",
    "    # The dir-name for the TensorBoard log-dir.\n",
    "    s = \"./logs/lr_{0:.0e}_layers_{1}_nodes_{2}_{3}/\"\n",
    "    \n",
    "    log_dir = s.format(learning_rate, num_dense_layers, \n",
    "                       num_dense_nodes, activation)\n",
    "    return log_dir"
   ]
  },
  {
   "cell_type": "markdown",
   "id": "c5695028",
   "metadata": {},
   "source": [
    "## Load MNIST Dataset\n",
    "\n",
    "70.000 images and class-numbers for the images.\n",
    "- Training-set:\t\t48999\n",
    "- Validation-set:\t14000\n",
    "- Test-set:\t\t7001"
   ]
  },
  {
   "cell_type": "code",
   "execution_count": 8,
   "id": "a7109450",
   "metadata": {},
   "outputs": [
    {
     "name": "stdout",
     "output_type": "stream",
     "text": [
      "Training data: (50000, 784). (50000, 10)\n",
      "Validation data: (5000, 784). (5000, 10)\n",
      "Test data: (15000, 784). (15000, 10)\n"
     ]
    }
   ],
   "source": [
    "from sklearn.model_selection import train_test_split\n",
    "DATASET_SIZE = 70000\n",
    "TRAIN_RATIO = 5/7\n",
    "VALIDATION_RATIO = (1-5/7)/4\n",
    "TEST_RATIO = ((1-5/7)/4)*3\n",
    "(x_train, y_train), (x_test, y_test) = tf.keras.datasets.mnist.load_data()\n",
    "x_train = x_train.reshape((60000,784)).astype('float32') / 255.0\n",
    "y_train = tf.keras.utils.to_categorical(y_train)\n",
    "\n",
    "x_test = x_test.reshape((10000,784)).astype('float32') / 255.0\n",
    "y_test = tf.keras.utils.to_categorical(y_test)\n",
    "\n",
    "x = np.concatenate([x_train, x_test])\n",
    "y = np.concatenate([y_train, y_test])\n",
    "\n",
    "x_train, x_val, y_train, y_val = train_test_split(x, y, test_size=(1-TRAIN_RATIO))\n",
    "x_val, x_test, y_val, y_test = train_test_split(\n",
    "    x_val, y_val, test_size=((TEST_RATIO/(VALIDATION_RATIO+TEST_RATIO))))\n",
    "\n",
    "print('Training data: {}. {}'.format(x_train.shape, y_train.shape))\n",
    "print('Validation data: {}. {}'.format(x_val.shape, y_val.shape))\n",
    "print('Test data: {}. {}'.format(x_test.shape, y_test.shape))"
   ]
  },
  {
   "cell_type": "code",
   "execution_count": 9,
   "id": "50b8ad8e",
   "metadata": {},
   "outputs": [],
   "source": [
    "img_size = 28\n",
    "img_size_flat = 784\n",
    "img_shape = (28, 28)\n",
    "img_shape_full = (28, 28, 1)\n",
    "num_classes = 10\n",
    "num_channels = 1\n",
    "validation_data = (x_val, y_val) "
   ]
  },
  {
   "cell_type": "markdown",
   "id": "e8bac49d",
   "metadata": {},
   "source": [
    "## Helper-function for plotting images"
   ]
  },
  {
   "cell_type": "code",
   "execution_count": 10,
   "id": "9b10e3a0",
   "metadata": {},
   "outputs": [],
   "source": [
    "def plot_images(images, cls_true, cls_pred=None):\n",
    "    assert len(images) == len(cls_true) == 9\n",
    "    \n",
    "    # Create figure with 3x3 sub-plots.\n",
    "    fig, axes = plt.subplots(3, 3)\n",
    "    fig.subplots_adjust(hspace=0.3, wspace=0.3)\n",
    "\n",
    "    for i, ax in enumerate(axes.flat):\n",
    "        # Plot image.\n",
    "        ax.imshow(images[i].reshape(img_shape), cmap='binary')\n",
    "\n",
    "        # Show true and predicted classes.\n",
    "        if cls_pred is None:\n",
    "            xlabel = \"True: {0}\".format(cls_true[i])\n",
    "        else:\n",
    "            xlabel = \"True: {0}, Pred: {1}\".format(cls_true[i], cls_pred[i])\n",
    "\n",
    "        # Show the classes as the label on the x-axis.\n",
    "        ax.set_xlabel(xlabel)\n",
    "        \n",
    "        # Remove ticks from the plot.\n",
    "        ax.set_xticks([])\n",
    "        ax.set_yticks([])\n",
    "    \n",
    "    # Ensure the plot is shown correctly with multiple plots\n",
    "    # in a single Notebook cell.\n",
    "    plt.show()"
   ]
  },
  {
   "cell_type": "code",
   "execution_count": 11,
   "id": "4bf9db57",
   "metadata": {
    "scrolled": true
   },
   "outputs": [
    {
     "data": {
      "image/png": "[encoded data removed]",
      "text/plain": [
       "<Figure size 432x288 with 9 Axes>"
      ]
     },
     "metadata": {},
     "output_type": "display_data"
    }
   ],
   "source": [
    "y_test_cls = [np.argmax(y, axis=None, out=None) for y in y_test]\n",
    "images = x_test[0:9]\n",
    "cls_true = y_test_cls[0:9]\n",
    "plot_images(images=images, cls_true=cls_true)"
   ]
  },
  {
   "cell_type": "code",
   "execution_count": 12,
   "id": "0e87060e",
   "metadata": {},
   "outputs": [],
   "source": [
    "def plot_example_errors(cls_pred):\n",
    "    # Boolean array whether the predicted class is incorrect.\n",
    "    incorrect = (cls_pred != y_test_cls)\n",
    "\n",
    "    # Get the images from the test-set that have been\n",
    "    # incorrectly classified.\n",
    "    images = x_test[incorrect]\n",
    "    \n",
    "    # Get the predicted classes for those images.\n",
    "    cls_pred = cls_pred[incorrect]\n",
    "\n",
    "    # Get the true classes for those images.\n",
    "    cls_true = y_test_cls[incorrect]\n",
    "    \n",
    "    # Plot the first 9 images.\n",
    "    plot_images(images=images[0:9],\n",
    "                cls_true=cls_true[0:9],\n",
    "                cls_pred=cls_pred[0:9])"
   ]
  },
  {
   "cell_type": "markdown",
   "id": "db25427e",
   "metadata": {},
   "source": [
    "## Hyper-Parameter Optimization"
   ]
  },
  {
   "cell_type": "code",
   "execution_count": 13,
   "id": "09d057d5",
   "metadata": {},
   "outputs": [],
   "source": [
    "def create_model(learning_rate, num_dense_layers, num_dense_nodes, activation):\n",
    "    \n",
    "    model = Sequential()\n",
    "    # Add fully-connected / dense layers.\n",
    "    for i in range(num_dense_layers):\n",
    "        name = 'layer_dense_{0}'.format(i+1)\n",
    "        model.add(Dense(num_dense_nodes, activation=activation, name=name))\n",
    "    # Last fully-connected / dense layer with softmax-activation\n",
    "    model.add(Dense(num_classes, activation='softmax'))\n",
    "    \n",
    "    # Use the Adam method for training the network.\n",
    "    optimizer = Adam(learning_rate=learning_rate)\n",
    "    #optimizer = sel_optimizer(learning_rate=learning_rate)\n",
    "    \n",
    "    # In Keras we need to compile the model so it can be trained.\n",
    "    model.compile(optimizer=optimizer, \n",
    "                  loss='categorical_crossentropy', \n",
    "                  metrics=['accuracy'])\n",
    "    \n",
    "    return model\n",
    "\n",
    "path_best_model = 'best_trained_model.h5'\n",
    "best_accuracy = 0.0"
   ]
  },
  {
   "cell_type": "code",
   "execution_count": 14,
   "id": "6132f19b",
   "metadata": {},
   "outputs": [],
   "source": [
    "@use_named_args(dimensions=dimensions)\n",
    "def fitness(learning_rate, num_dense_layers, num_dense_nodes, activation):\n",
    "    # Print the hyper-parameters.\n",
    "    print('learning rate: {0:.1e}'.format(learning_rate))\n",
    "    print('num_dense_layers:', num_dense_layers)\n",
    "    print('num_dense_nodes:', num_dense_nodes)\n",
    "    print('activation:', activation)\n",
    "    print()\n",
    "    \n",
    "    # Create the neural network with these hyper-parameters.\n",
    "    model = create_model(learning_rate=learning_rate, num_dense_layers=num_dense_layers,\n",
    "                         num_dense_nodes=num_dense_nodes, activation=activation)\n",
    "\n",
    "\n",
    "    # Dir-name for the TensorBoard log-files.\n",
    "    log_dir = log_dir_name(learning_rate, num_dense_layers, \n",
    "                           num_dense_nodes, activation)\n",
    "\n",
    "    # saves the log-files for TensorBoard.\n",
    "    callback_log = TensorBoard(log_dir=log_dir, histogram_freq=0, write_graph=True,\n",
    "                               write_grads=False, write_images=False)\n",
    "   \n",
    "    # Use Keras to train the model.\n",
    "    history = model.fit(x=x_train, y=y_train, \n",
    "                        epochs=3, batch_size=batch_size, \n",
    "                        validation_data=validation_data, \n",
    "                        callbacks=[callback_log])\n",
    "\n",
    "    # Get the classification accuracy on the validation-set\n",
    "    accuracy = history.history['val_accuracy'][-1]\n",
    "    print()\n",
    "    print(\"Accuracy: {0:.2%}\".format(accuracy))\n",
    "    print()\n",
    "\n",
    "    # Save the new model\n",
    "    global best_accuracy\n",
    "    if accuracy > best_accuracy:\n",
    "        model.save(path_best_model)\n",
    "        best_accuracy = accuracy\n",
    "\n",
    "    # Delete the Keras model with these hyper-parameters from memory.\n",
    "    del model\n",
    "    K.clear_session()\n",
    "    return -accuracy"
   ]
  },
  {
   "cell_type": "markdown",
   "id": "92926fd0",
   "metadata": {},
   "source": [
    "## Run Test for default hyper parameters"
   ]
  },
  {
   "cell_type": "code",
   "execution_count": 15,
   "id": "9c3385c4",
   "metadata": {
    "scrolled": true
   },
   "outputs": [
    {
     "name": "stdout",
     "output_type": "stream",
     "text": [
      "learning rate: 1.0e-05\n",
      "num_dense_layers: 1\n",
      "num_dense_nodes: 16\n",
      "activation: relu\n",
      "\n"
     ]
    },
    {
     "name": "stderr",
     "output_type": "stream",
     "text": [
      "2021-11-03 04:09:55.551532: W tensorflow/stream_executor/platform/default/dso_loader.cc:59] Could not load dynamic library 'libcuda.so.1'; dlerror: libcuda.so.1: cannot open shared object file: No such file or directory; LD_LIBRARY_PATH: /opt/xilinx/xrt/lib:/usr/lib:/usr/lib/x86_64-linux-gnu:/usr/local/lib:/opt/vitis_ai/conda/envs/vitis-ai-tensorflow/lib\n",
      "2021-11-03 04:09:55.551551: W tensorflow/stream_executor/cuda/cuda_driver.cc:312] failed call to cuInit: UNKNOWN ERROR (303)\n",
      "2021-11-03 04:09:55.551585: I tensorflow/stream_executor/cuda/cuda_diagnostics.cc:156] kernel driver does not appear to be running on this host (ECE-util1): /proc/driver/nvidia/version does not exist\n",
      "2021-11-03 04:09:55.551802: I tensorflow/core/platform/cpu_feature_guard.cc:142] This TensorFlow binary is optimized with oneAPI Deep Neural Network Library (oneDNN)to use the following CPU instructions in performance-critical operations:  AVX2 AVX512F FMA\n",
      "To enable them in other operations, rebuild TensorFlow with the appropriate compiler flags.\n",
      "2021-11-03 04:09:55.585253: I tensorflow/core/platform/profile_utils/cpu_utils.cc:104] CPU Frequency: 2200000000 Hz\n",
      "2021-11-03 04:09:55.588113: I tensorflow/compiler/xla/service/service.cc:168] XLA service 0x559dbc933950 initialized for platform Host (this does not guarantee that XLA will be used). Devices:\n",
      "2021-11-03 04:09:55.588142: I tensorflow/compiler/xla/service/service.cc:176]   StreamExecutor device (0): Host, Default Version\n",
      "2021-11-03 04:09:55.614379: I tensorflow/core/profiler/lib/profiler_session.cc:164] Profiler session started.\n"
     ]
    },
    {
     "name": "stdout",
     "output_type": "stream",
     "text": [
      "Epoch 1/3\n",
      "  1/391 [..............................] - ETA: 0s - loss: 2.4781 - accuracy: 0.0625WARNING:tensorflow:From /opt/vitis_ai/conda/envs/vitis-ai-tensorflow2/lib/python3.7/site-packages/tensorflow/python/ops/summary_ops_v2.py:1277: stop (from tensorflow.python.eager.profiler) is deprecated and will be removed after 2020-07-01.\n",
      "Instructions for updating:\n",
      "use `tf.profiler.experimental.stop` instead.\n",
      "  2/391 [..............................] - ETA: 12s - loss: 2.4311 - accuracy: 0.0508WARNING:tensorflow:Callbacks method `on_train_batch_end` is slow compared to the batch time (batch time: 0.0029s vs `on_train_batch_end` time: 0.0626s). Check your callbacks.\n",
      " 50/391 [==>...........................] - ETA: 1s - loss: 2.4036 - accuracy: 0.0870"
     ]
    },
    {
     "name": "stderr",
     "output_type": "stream",
     "text": [
      "2021-11-03 04:09:56.135169: I tensorflow/core/profiler/lib/profiler_session.cc:164] Profiler session started.\n",
      "2021-11-03 04:09:56.157768: I tensorflow/core/profiler/rpc/client/save_profile.cc:176] Creating directory: ./logs/lr_1e-05_layers_1_nodes_16_relu/train/plugins/profile/2021_11_03_04_09_56\n",
      "2021-11-03 04:09:56.162438: I tensorflow/core/profiler/rpc/client/save_profile.cc:182] Dumped gzipped tool data for trace.json.gz to ./logs/lr_1e-05_layers_1_nodes_16_relu/train/plugins/profile/2021_11_03_04_09_56/ECE-util1.trace.json.gz\n",
      "2021-11-03 04:09:56.174598: I tensorflow/core/profiler/rpc/client/save_profile.cc:176] Creating directory: ./logs/lr_1e-05_layers_1_nodes_16_relu/train/plugins/profile/2021_11_03_04_09_56\n",
      "2021-11-03 04:09:56.178157: I tensorflow/core/profiler/rpc/client/save_profile.cc:182] Dumped gzipped tool data for memory_profile.json.gz to ./logs/lr_1e-05_layers_1_nodes_16_relu/train/plugins/profile/2021_11_03_04_09_56/ECE-util1.memory_profile.json.gz\n",
      "2021-11-03 04:09:56.198173: I tensorflow/python/profiler/internal/profiler_wrapper.cc:111] Creating directory: ./logs/lr_1e-05_layers_1_nodes_16_relu/train/plugins/profile/2021_11_03_04_09_56Dumped tool data for xplane.pb to ./logs/lr_1e-05_layers_1_nodes_16_relu/train/plugins/profile/2021_11_03_04_09_56/ECE-util1.xplane.pb\n",
      "Dumped tool data for overview_page.pb to ./logs/lr_1e-05_layers_1_nodes_16_relu/train/plugins/profile/2021_11_03_04_09_56/ECE-util1.overview_page.pb\n",
      "Dumped tool data for input_pipeline.pb to ./logs/lr_1e-05_layers_1_nodes_16_relu/train/plugins/profile/2021_11_03_04_09_56/ECE-util1.input_pipeline.pb\n",
      "Dumped tool data for tensorflow_stats.pb to ./logs/lr_1e-05_layers_1_nodes_16_relu/train/plugins/profile/2021_11_03_04_09_56/ECE-util1.tensorflow_stats.pb\n",
      "Dumped tool data for kernel_stats.pb to ./logs/lr_1e-05_layers_1_nodes_16_relu/train/plugins/profile/2021_11_03_04_09_56/ECE-util1.kernel_stats.pb\n",
      "\n"
     ]
    },
    {
     "name": "stdout",
     "output_type": "stream",
     "text": [
      "391/391 [==============================] - 1s 3ms/step - loss: 2.3275 - accuracy: 0.1194 - val_loss: 2.2584 - val_accuracy: 0.1498\n",
      "Epoch 2/3\n",
      "391/391 [==============================] - 1s 2ms/step - loss: 2.1879 - accuracy: 0.2027 - val_loss: 2.1169 - val_accuracy: 0.2602\n",
      "Epoch 3/3\n",
      "391/391 [==============================] - 1s 2ms/step - loss: 2.0455 - accuracy: 0.3232 - val_loss: 1.9716 - val_accuracy: 0.3914\n",
      "\n",
      "Accuracy: 39.14%\n",
      "\n"
     ]
    },
    {
     "data": {
      "text/plain": [
       "-0.391400009393692"
      ]
     },
     "execution_count": 15,
     "metadata": {},
     "output_type": "execute_result"
    }
   ],
   "source": [
    "fitness(x=default_parameters)"
   ]
  },
  {
   "cell_type": "markdown",
   "id": "3488651e",
   "metadata": {},
   "source": [
    "## Run the Hyper-Parameter Optimization"
   ]
  },
  {
   "cell_type": "code",
   "execution_count": 16,
   "id": "401a0143",
   "metadata": {
    "scrolled": true
   },
   "outputs": [
    {
     "name": "stdout",
     "output_type": "stream",
     "text": [
      "learning rate: 1.0e-05\n",
      "num_dense_layers: 1\n",
      "num_dense_nodes: 16\n",
      "activation: relu\n",
      "\n",
      "Epoch 1/3\n"
     ]
    },
    {
     "name": "stderr",
     "output_type": "stream",
     "text": [
      "2021-11-03 04:09:58.847834: I tensorflow/core/profiler/lib/profiler_session.cc:164] Profiler session started.\n"
     ]
    },
    {
     "name": "stdout",
     "output_type": "stream",
     "text": [
      "  2/391 [..............................] - ETA: 14s - loss: 2.3267 - accuracy: 0.1523WARNING:tensorflow:Callbacks method `on_train_batch_end` is slow compared to the batch time (batch time: 0.0024s vs `on_train_batch_end` time: 0.0700s). Check your callbacks.\n",
      " 47/391 [==>...........................] - ETA: 1s - loss: 2.2919 - accuracy: 0.1775"
     ]
    },
    {
     "name": "stderr",
     "output_type": "stream",
     "text": [
      "2021-11-03 04:09:59.249194: I tensorflow/core/profiler/lib/profiler_session.cc:164] Profiler session started.\n",
      "2021-11-03 04:09:59.284133: I tensorflow/core/profiler/rpc/client/save_profile.cc:176] Creating directory: ./logs/lr_1e-05_layers_1_nodes_16_relu/train/plugins/profile/2021_11_03_04_09_59\n",
      "2021-11-03 04:09:59.288608: I tensorflow/core/profiler/rpc/client/save_profile.cc:182] Dumped gzipped tool data for trace.json.gz to ./logs/lr_1e-05_layers_1_nodes_16_relu/train/plugins/profile/2021_11_03_04_09_59/ECE-util1.trace.json.gz\n",
      "2021-11-03 04:09:59.297319: I tensorflow/core/profiler/rpc/client/save_profile.cc:176] Creating directory: ./logs/lr_1e-05_layers_1_nodes_16_relu/train/plugins/profile/2021_11_03_04_09_59\n",
      "2021-11-03 04:09:59.300085: I tensorflow/core/profiler/rpc/client/save_profile.cc:182] Dumped gzipped tool data for memory_profile.json.gz to ./logs/lr_1e-05_layers_1_nodes_16_relu/train/plugins/profile/2021_11_03_04_09_59/ECE-util1.memory_profile.json.gz\n",
      "2021-11-03 04:09:59.318906: I tensorflow/python/profiler/internal/profiler_wrapper.cc:111] Creating directory: ./logs/lr_1e-05_layers_1_nodes_16_relu/train/plugins/profile/2021_11_03_04_09_59Dumped tool data for xplane.pb to ./logs/lr_1e-05_layers_1_nodes_16_relu/train/plugins/profile/2021_11_03_04_09_59/ECE-util1.xplane.pb\n",
      "Dumped tool data for overview_page.pb to ./logs/lr_1e-05_layers_1_nodes_16_relu/train/plugins/profile/2021_11_03_04_09_59/ECE-util1.overview_page.pb\n",
      "Dumped tool data for input_pipeline.pb to ./logs/lr_1e-05_layers_1_nodes_16_relu/train/plugins/profile/2021_11_03_04_09_59/ECE-util1.input_pipeline.pb\n",
      "Dumped tool data for tensorflow_stats.pb to ./logs/lr_1e-05_layers_1_nodes_16_relu/train/plugins/profile/2021_11_03_04_09_59/ECE-util1.tensorflow_stats.pb\n",
      "Dumped tool data for kernel_stats.pb to ./logs/lr_1e-05_layers_1_nodes_16_relu/train/plugins/profile/2021_11_03_04_09_59/ECE-util1.kernel_stats.pb\n",
      "\n"
     ]
    },
    {
     "name": "stdout",
     "output_type": "stream",
     "text": [
      "391/391 [==============================] - 1s 3ms/step - loss: 2.2496 - accuracy: 0.2187 - val_loss: 2.1919 - val_accuracy: 0.2870\n",
      "Epoch 2/3\n",
      "391/391 [==============================] - 1s 2ms/step - loss: 2.1374 - accuracy: 0.3378 - val_loss: 2.0718 - val_accuracy: 0.3848\n",
      "Epoch 3/3\n",
      "391/391 [==============================] - 1s 2ms/step - loss: 2.0182 - accuracy: 0.4170 - val_loss: 1.9517 - val_accuracy: 0.4596\n",
      "\n",
      "Accuracy: 45.96%\n",
      "\n",
      "learning rate: 2.5e-03\n",
      "num_dense_layers: 2\n",
      "num_dense_nodes: 481\n",
      "activation: sigmoid\n",
      "\n",
      "Epoch 1/3\n"
     ]
    },
    {
     "name": "stderr",
     "output_type": "stream",
     "text": [
      "2021-11-03 04:10:01.906694: I tensorflow/core/profiler/lib/profiler_session.cc:164] Profiler session started.\n"
     ]
    },
    {
     "name": "stdout",
     "output_type": "stream",
     "text": [
      "  2/391 [..............................] - ETA: 12s - loss: 2.6699 - accuracy: 0.0977WARNING:tensorflow:Callbacks method `on_train_batch_end` is slow compared to the batch time (batch time: 0.0048s vs `on_train_batch_end` time: 0.0619s). Check your callbacks.\n",
      " 32/391 [=>............................] - ETA: 1s - loss: 1.6477 - accuracy: 0.5032"
     ]
    },
    {
     "name": "stderr",
     "output_type": "stream",
     "text": [
      "2021-11-03 04:10:02.487472: I tensorflow/core/profiler/lib/profiler_session.cc:164] Profiler session started.\n",
      "2021-11-03 04:10:02.524341: I tensorflow/core/profiler/rpc/client/save_profile.cc:176] Creating directory: ./logs/lr_2e-03_layers_2_nodes_481_sigmoid/train/plugins/profile/2021_11_03_04_10_02\n",
      "2021-11-03 04:10:02.527336: I tensorflow/core/profiler/rpc/client/save_profile.cc:182] Dumped gzipped tool data for trace.json.gz to ./logs/lr_2e-03_layers_2_nodes_481_sigmoid/train/plugins/profile/2021_11_03_04_10_02/ECE-util1.trace.json.gz\n",
      "2021-11-03 04:10:02.533561: I tensorflow/core/profiler/rpc/client/save_profile.cc:176] Creating directory: ./logs/lr_2e-03_layers_2_nodes_481_sigmoid/train/plugins/profile/2021_11_03_04_10_02\n",
      "2021-11-03 04:10:02.535427: I tensorflow/core/profiler/rpc/client/save_profile.cc:182] Dumped gzipped tool data for memory_profile.json.gz to ./logs/lr_2e-03_layers_2_nodes_481_sigmoid/train/plugins/profile/2021_11_03_04_10_02/ECE-util1.memory_profile.json.gz\n",
      "2021-11-03 04:10:02.551507: I tensorflow/python/profiler/internal/profiler_wrapper.cc:111] Creating directory: ./logs/lr_2e-03_layers_2_nodes_481_sigmoid/train/plugins/profile/2021_11_03_04_10_02Dumped tool data for xplane.pb to ./logs/lr_2e-03_layers_2_nodes_481_sigmoid/train/plugins/profile/2021_11_03_04_10_02/ECE-util1.xplane.pb\n",
      "Dumped tool data for overview_page.pb to ./logs/lr_2e-03_layers_2_nodes_481_sigmoid/train/plugins/profile/2021_11_03_04_10_02/ECE-util1.overview_page.pb\n",
      "Dumped tool data for input_pipeline.pb to ./logs/lr_2e-03_layers_2_nodes_481_sigmoid/train/plugins/profile/2021_11_03_04_10_02/ECE-util1.input_pipeline.pb\n",
      "Dumped tool data for tensorflow_stats.pb to ./logs/lr_2e-03_layers_2_nodes_481_sigmoid/train/plugins/profile/2021_11_03_04_10_02/ECE-util1.tensorflow_stats.pb\n",
      "Dumped tool data for kernel_stats.pb to ./logs/lr_2e-03_layers_2_nodes_481_sigmoid/train/plugins/profile/2021_11_03_04_10_02/ECE-util1.kernel_stats.pb\n",
      "\n"
     ]
    },
    {
     "name": "stdout",
     "output_type": "stream",
     "text": [
      "391/391 [==============================] - 2s 4ms/step - loss: 0.4100 - accuracy: 0.8762 - val_loss: 0.2273 - val_accuracy: 0.9292\n",
      "Epoch 2/3\n",
      "391/391 [==============================] - 1s 3ms/step - loss: 0.1529 - accuracy: 0.9539 - val_loss: 0.1405 - val_accuracy: 0.9570\n",
      "Epoch 3/3\n",
      "391/391 [==============================] - 1s 3ms/step - loss: 0.0971 - accuracy: 0.9699 - val_loss: 0.1084 - val_accuracy: 0.9654\n",
      "\n",
      "Accuracy: 96.54%\n",
      "\n",
      "learning rate: 6.7e-05\n",
      "num_dense_layers: 3\n",
      "num_dense_nodes: 66\n",
      "activation: sigmoid\n",
      "\n",
      "Epoch 1/3\n"
     ]
    },
    {
     "name": "stderr",
     "output_type": "stream",
     "text": [
      "2021-11-03 04:10:06.761435: I tensorflow/core/profiler/lib/profiler_session.cc:164] Profiler session started.\n"
     ]
    },
    {
     "name": "stdout",
     "output_type": "stream",
     "text": [
      "  2/391 [..............................] - ETA: 16s - loss: 2.5105 - accuracy: 0.1172WARNING:tensorflow:Callbacks method `on_train_batch_end` is slow compared to the batch time (batch time: 0.0026s vs `on_train_batch_end` time: 0.0817s). Check your callbacks.\n",
      " 46/391 [==>...........................] - ETA: 1s - loss: 2.4508 - accuracy: 0.1705"
     ]
    },
    {
     "name": "stderr",
     "output_type": "stream",
     "text": [
      "2021-11-03 04:10:07.218172: I tensorflow/core/profiler/lib/profiler_session.cc:164] Profiler session started.\n",
      "2021-11-03 04:10:07.263500: I tensorflow/core/profiler/rpc/client/save_profile.cc:176] Creating directory: ./logs/lr_7e-05_layers_3_nodes_66_sigmoid/train/plugins/profile/2021_11_03_04_10_07\n",
      "2021-11-03 04:10:07.268886: I tensorflow/core/profiler/rpc/client/save_profile.cc:182] Dumped gzipped tool data for trace.json.gz to ./logs/lr_7e-05_layers_3_nodes_66_sigmoid/train/plugins/profile/2021_11_03_04_10_07/ECE-util1.trace.json.gz\n",
      "2021-11-03 04:10:07.279017: I tensorflow/core/profiler/rpc/client/save_profile.cc:176] Creating directory: ./logs/lr_7e-05_layers_3_nodes_66_sigmoid/train/plugins/profile/2021_11_03_04_10_07\n",
      "2021-11-03 04:10:07.282362: I tensorflow/core/profiler/rpc/client/save_profile.cc:182] Dumped gzipped tool data for memory_profile.json.gz to ./logs/lr_7e-05_layers_3_nodes_66_sigmoid/train/plugins/profile/2021_11_03_04_10_07/ECE-util1.memory_profile.json.gz\n",
      "2021-11-03 04:10:07.299594: I tensorflow/python/profiler/internal/profiler_wrapper.cc:111] Creating directory: ./logs/lr_7e-05_layers_3_nodes_66_sigmoid/train/plugins/profile/2021_11_03_04_10_07Dumped tool data for xplane.pb to ./logs/lr_7e-05_layers_3_nodes_66_sigmoid/train/plugins/profile/2021_11_03_04_10_07/ECE-util1.xplane.pb\n",
      "Dumped tool data for overview_page.pb to ./logs/lr_7e-05_layers_3_nodes_66_sigmoid/train/plugins/profile/2021_11_03_04_10_07/ECE-util1.overview_page.pb\n",
      "Dumped tool data for input_pipeline.pb to ./logs/lr_7e-05_layers_3_nodes_66_sigmoid/train/plugins/profile/2021_11_03_04_10_07/ECE-util1.input_pipeline.pb\n",
      "Dumped tool data for tensorflow_stats.pb to ./logs/lr_7e-05_layers_3_nodes_66_sigmoid/train/plugins/profile/2021_11_03_04_10_07/ECE-util1.tensorflow_stats.pb\n",
      "Dumped tool data for kernel_stats.pb to ./logs/lr_7e-05_layers_3_nodes_66_sigmoid/train/plugins/profile/2021_11_03_04_10_07/ECE-util1.kernel_stats.pb\n",
      "\n"
     ]
    },
    {
     "name": "stdout",
     "output_type": "stream",
     "text": [
      "391/391 [==============================] - 1s 3ms/step - loss: 2.3169 - accuracy: 0.2151 - val_loss: 2.2425 - val_accuracy: 0.3186\n",
      "Epoch 2/3\n",
      "391/391 [==============================] - 1s 3ms/step - loss: 2.1684 - accuracy: 0.3557 - val_loss: 2.0749 - val_accuracy: 0.4042\n",
      "Epoch 3/3\n",
      "391/391 [==============================] - 1s 3ms/step - loss: 1.9429 - accuracy: 0.4196 - val_loss: 1.8156 - val_accuracy: 0.4608\n",
      "\n",
      "Accuracy: 46.08%\n",
      "\n",
      "learning rate: 3.3e-06\n",
      "num_dense_layers: 3\n",
      "num_dense_nodes: 351\n",
      "activation: sigmoid\n",
      "\n",
      "Epoch 1/3\n"
     ]
    },
    {
     "name": "stderr",
     "output_type": "stream",
     "text": [
      "2021-11-03 04:10:10.481915: I tensorflow/core/profiler/lib/profiler_session.cc:164] Profiler session started.\n"
     ]
    },
    {
     "name": "stdout",
     "output_type": "stream",
     "text": [
      "  2/391 [..............................] - ETA: 15s - loss: 2.4843 - accuracy: 0.0977WARNING:tensorflow:Callbacks method `on_train_batch_end` is slow compared to the batch time (batch time: 0.0074s vs `on_train_batch_end` time: 0.0752s). Check your callbacks.\n",
      " 24/391 [>.............................] - ETA: 2s - loss: 2.4790 - accuracy: 0.0990"
     ]
    },
    {
     "name": "stderr",
     "output_type": "stream",
     "text": [
      "2021-11-03 04:10:10.950322: I tensorflow/core/profiler/lib/profiler_session.cc:164] Profiler session started.\n",
      "2021-11-03 04:10:10.994571: I tensorflow/core/profiler/rpc/client/save_profile.cc:176] Creating directory: ./logs/lr_3e-06_layers_3_nodes_351_sigmoid/train/plugins/profile/2021_11_03_04_10_10\n",
      "2021-11-03 04:10:10.999095: I tensorflow/core/profiler/rpc/client/save_profile.cc:182] Dumped gzipped tool data for trace.json.gz to ./logs/lr_3e-06_layers_3_nodes_351_sigmoid/train/plugins/profile/2021_11_03_04_10_10/ECE-util1.trace.json.gz\n",
      "2021-11-03 04:10:11.007451: I tensorflow/core/profiler/rpc/client/save_profile.cc:176] Creating directory: ./logs/lr_3e-06_layers_3_nodes_351_sigmoid/train/plugins/profile/2021_11_03_04_10_10\n",
      "2021-11-03 04:10:11.009954: I tensorflow/core/profiler/rpc/client/save_profile.cc:182] Dumped gzipped tool data for memory_profile.json.gz to ./logs/lr_3e-06_layers_3_nodes_351_sigmoid/train/plugins/profile/2021_11_03_04_10_10/ECE-util1.memory_profile.json.gz\n",
      "2021-11-03 04:10:11.029699: I tensorflow/python/profiler/internal/profiler_wrapper.cc:111] Creating directory: ./logs/lr_3e-06_layers_3_nodes_351_sigmoid/train/plugins/profile/2021_11_03_04_10_10Dumped tool data for xplane.pb to ./logs/lr_3e-06_layers_3_nodes_351_sigmoid/train/plugins/profile/2021_11_03_04_10_10/ECE-util1.xplane.pb\n",
      "Dumped tool data for overview_page.pb to ./logs/lr_3e-06_layers_3_nodes_351_sigmoid/train/plugins/profile/2021_11_03_04_10_10/ECE-util1.overview_page.pb\n",
      "Dumped tool data for input_pipeline.pb to ./logs/lr_3e-06_layers_3_nodes_351_sigmoid/train/plugins/profile/2021_11_03_04_10_10/ECE-util1.input_pipeline.pb\n",
      "Dumped tool data for tensorflow_stats.pb to ./logs/lr_3e-06_layers_3_nodes_351_sigmoid/train/plugins/profile/2021_11_03_04_10_10/ECE-util1.tensorflow_stats.pb\n",
      "Dumped tool data for kernel_stats.pb to ./logs/lr_3e-06_layers_3_nodes_351_sigmoid/train/plugins/profile/2021_11_03_04_10_10/ECE-util1.kernel_stats.pb\n",
      "\n"
     ]
    },
    {
     "name": "stdout",
     "output_type": "stream",
     "text": [
      "391/391 [==============================] - 2s 4ms/step - loss: 2.3931 - accuracy: 0.1001 - val_loss: 2.3229 - val_accuracy: 0.1046\n",
      "Epoch 2/3\n",
      "391/391 [==============================] - 1s 4ms/step - loss: 2.3015 - accuracy: 0.1219 - val_loss: 2.2907 - val_accuracy: 0.1088\n",
      "Epoch 3/3\n",
      "391/391 [==============================] - 1s 4ms/step - loss: 2.2853 - accuracy: 0.1140 - val_loss: 2.2816 - val_accuracy: 0.1060\n",
      "\n",
      "Accuracy: 10.60%\n",
      "\n",
      "learning rate: 3.8e-05\n",
      "num_dense_layers: 5\n",
      "num_dense_nodes: 262\n",
      "activation: sigmoid\n",
      "\n",
      "Epoch 1/3\n"
     ]
    },
    {
     "name": "stderr",
     "output_type": "stream",
     "text": [
      "2021-11-03 04:10:15.586122: I tensorflow/core/profiler/lib/profiler_session.cc:164] Profiler session started.\n"
     ]
    },
    {
     "name": "stdout",
     "output_type": "stream",
     "text": [
      "  2/391 [..............................] - ETA: 16s - loss: 2.4915 - accuracy: 0.1055WARNING:tensorflow:Callbacks method `on_train_batch_end` is slow compared to the batch time (batch time: 0.0050s vs `on_train_batch_end` time: 0.0820s). Check your callbacks.\n",
      " 27/391 [=>............................] - ETA: 2s - loss: 2.3963 - accuracy: 0.1056"
     ]
    },
    {
     "name": "stderr",
     "output_type": "stream",
     "text": [
      "2021-11-03 04:10:16.111491: I tensorflow/core/profiler/lib/profiler_session.cc:164] Profiler session started.\n",
      "2021-11-03 04:10:16.161267: I tensorflow/core/profiler/rpc/client/save_profile.cc:176] Creating directory: ./logs/lr_4e-05_layers_5_nodes_262_sigmoid/train/plugins/profile/2021_11_03_04_10_16\n",
      "2021-11-03 04:10:16.164793: I tensorflow/core/profiler/rpc/client/save_profile.cc:182] Dumped gzipped tool data for trace.json.gz to ./logs/lr_4e-05_layers_5_nodes_262_sigmoid/train/plugins/profile/2021_11_03_04_10_16/ECE-util1.trace.json.gz\n",
      "2021-11-03 04:10:16.172349: I tensorflow/core/profiler/rpc/client/save_profile.cc:176] Creating directory: ./logs/lr_4e-05_layers_5_nodes_262_sigmoid/train/plugins/profile/2021_11_03_04_10_16\n",
      "2021-11-03 04:10:16.174934: I tensorflow/core/profiler/rpc/client/save_profile.cc:182] Dumped gzipped tool data for memory_profile.json.gz to ./logs/lr_4e-05_layers_5_nodes_262_sigmoid/train/plugins/profile/2021_11_03_04_10_16/ECE-util1.memory_profile.json.gz\n",
      "2021-11-03 04:10:16.195504: I tensorflow/python/profiler/internal/profiler_wrapper.cc:111] Creating directory: ./logs/lr_4e-05_layers_5_nodes_262_sigmoid/train/plugins/profile/2021_11_03_04_10_16Dumped tool data for xplane.pb to ./logs/lr_4e-05_layers_5_nodes_262_sigmoid/train/plugins/profile/2021_11_03_04_10_16/ECE-util1.xplane.pb\n",
      "Dumped tool data for overview_page.pb to ./logs/lr_4e-05_layers_5_nodes_262_sigmoid/train/plugins/profile/2021_11_03_04_10_16/ECE-util1.overview_page.pb\n",
      "Dumped tool data for input_pipeline.pb to ./logs/lr_4e-05_layers_5_nodes_262_sigmoid/train/plugins/profile/2021_11_03_04_10_16/ECE-util1.input_pipeline.pb\n",
      "Dumped tool data for tensorflow_stats.pb to ./logs/lr_4e-05_layers_5_nodes_262_sigmoid/train/plugins/profile/2021_11_03_04_10_16/ECE-util1.tensorflow_stats.pb\n",
      "Dumped tool data for kernel_stats.pb to ./logs/lr_4e-05_layers_5_nodes_262_sigmoid/train/plugins/profile/2021_11_03_04_10_16/ECE-util1.kernel_stats.pb\n",
      "\n"
     ]
    },
    {
     "name": "stdout",
     "output_type": "stream",
     "text": [
      "391/391 [==============================] - 2s 5ms/step - loss: 2.3084 - accuracy: 0.1125 - val_loss: 2.2971 - val_accuracy: 0.1060\n",
      "Epoch 2/3\n",
      "391/391 [==============================] - 2s 4ms/step - loss: 2.2587 - accuracy: 0.1908 - val_loss: 2.1270 - val_accuracy: 0.3600\n",
      "Epoch 3/3\n",
      "391/391 [==============================] - 2s 4ms/step - loss: 1.8563 - accuracy: 0.3722 - val_loss: 1.6732 - val_accuracy: 0.3702\n",
      "\n",
      "Accuracy: 37.02%\n",
      "\n",
      "learning rate: 1.9e-05\n",
      "num_dense_layers: 2\n",
      "num_dense_nodes: 15\n",
      "activation: relu\n",
      "\n",
      "Epoch 1/3\n"
     ]
    },
    {
     "name": "stderr",
     "output_type": "stream",
     "text": [
      "2021-11-03 04:10:21.276757: I tensorflow/core/profiler/lib/profiler_session.cc:164] Profiler session started.\n"
     ]
    },
    {
     "name": "stdout",
     "output_type": "stream",
     "text": [
      "  2/391 [..............................] - ETA: 15s - loss: 2.3882 - accuracy: 0.0938WARNING:tensorflow:Callbacks method `on_train_batch_end` is slow compared to the batch time (batch time: 0.0024s vs `on_train_batch_end` time: 0.0778s). Check your callbacks.\n",
      " 56/391 [===>..........................] - ETA: 1s - loss: 2.3447 - accuracy: 0.1138"
     ]
    },
    {
     "name": "stderr",
     "output_type": "stream",
     "text": [
      "2021-11-03 04:10:21.723298: I tensorflow/core/profiler/lib/profiler_session.cc:164] Profiler session started.\n",
      "2021-11-03 04:10:21.762978: I tensorflow/core/profiler/rpc/client/save_profile.cc:176] Creating directory: ./logs/lr_2e-05_layers_2_nodes_15_relu/train/plugins/profile/2021_11_03_04_10_21\n",
      "2021-11-03 04:10:21.767715: I tensorflow/core/profiler/rpc/client/save_profile.cc:182] Dumped gzipped tool data for trace.json.gz to ./logs/lr_2e-05_layers_2_nodes_15_relu/train/plugins/profile/2021_11_03_04_10_21/ECE-util1.trace.json.gz\n",
      "2021-11-03 04:10:21.777177: I tensorflow/core/profiler/rpc/client/save_profile.cc:176] Creating directory: ./logs/lr_2e-05_layers_2_nodes_15_relu/train/plugins/profile/2021_11_03_04_10_21\n",
      "2021-11-03 04:10:21.780018: I tensorflow/core/profiler/rpc/client/save_profile.cc:182] Dumped gzipped tool data for memory_profile.json.gz to ./logs/lr_2e-05_layers_2_nodes_15_relu/train/plugins/profile/2021_11_03_04_10_21/ECE-util1.memory_profile.json.gz\n",
      "2021-11-03 04:10:21.799513: I tensorflow/python/profiler/internal/profiler_wrapper.cc:111] Creating directory: ./logs/lr_2e-05_layers_2_nodes_15_relu/train/plugins/profile/2021_11_03_04_10_21Dumped tool data for xplane.pb to ./logs/lr_2e-05_layers_2_nodes_15_relu/train/plugins/profile/2021_11_03_04_10_21/ECE-util1.xplane.pb\n",
      "Dumped tool data for overview_page.pb to ./logs/lr_2e-05_layers_2_nodes_15_relu/train/plugins/profile/2021_11_03_04_10_21/ECE-util1.overview_page.pb\n",
      "Dumped tool data for input_pipeline.pb to ./logs/lr_2e-05_layers_2_nodes_15_relu/train/plugins/profile/2021_11_03_04_10_21/ECE-util1.input_pipeline.pb\n",
      "Dumped tool data for tensorflow_stats.pb to ./logs/lr_2e-05_layers_2_nodes_15_relu/train/plugins/profile/2021_11_03_04_10_21/ECE-util1.tensorflow_stats.pb\n",
      "Dumped tool data for kernel_stats.pb to ./logs/lr_2e-05_layers_2_nodes_15_relu/train/plugins/profile/2021_11_03_04_10_21/ECE-util1.kernel_stats.pb\n",
      "\n"
     ]
    },
    {
     "name": "stdout",
     "output_type": "stream",
     "text": [
      "391/391 [==============================] - 1s 3ms/step - loss: 2.2885 - accuracy: 0.1300 - val_loss: 2.2236 - val_accuracy: 0.1520\n",
      "Epoch 2/3\n",
      "391/391 [==============================] - 1s 2ms/step - loss: 2.1645 - accuracy: 0.1769 - val_loss: 2.1029 - val_accuracy: 0.2062\n",
      "Epoch 3/3\n",
      "391/391 [==============================] - 1s 2ms/step - loss: 2.0549 - accuracy: 0.2246 - val_loss: 2.0000 - val_accuracy: 0.2446\n",
      "\n",
      "Accuracy: 24.46%\n",
      "\n",
      "learning rate: 2.4e-04\n",
      "num_dense_layers: 4\n",
      "num_dense_nodes: 244\n",
      "activation: sigmoid\n",
      "\n",
      "Epoch 1/3\n"
     ]
    },
    {
     "name": "stderr",
     "output_type": "stream",
     "text": [
      "2021-11-03 04:10:24.305953: I tensorflow/core/profiler/lib/profiler_session.cc:164] Profiler session started.\n"
     ]
    },
    {
     "name": "stdout",
     "output_type": "stream",
     "text": [
      "  2/391 [..............................] - ETA: 15s - loss: 2.4571 - accuracy: 0.1523WARNING:tensorflow:Callbacks method `on_train_batch_end` is slow compared to the batch time (batch time: 0.0050s vs `on_train_batch_end` time: 0.0750s). Check your callbacks.\n",
      " 24/391 [>.............................] - ETA: 2s - loss: 2.3536 - accuracy: 0.1038"
     ]
    },
    {
     "name": "stderr",
     "output_type": "stream",
     "text": [
      "2021-11-03 04:10:24.831166: I tensorflow/core/profiler/lib/profiler_session.cc:164] Profiler session started.\n",
      "2021-11-03 04:10:24.875836: I tensorflow/core/profiler/rpc/client/save_profile.cc:176] Creating directory: ./logs/lr_2e-04_layers_4_nodes_244_sigmoid/train/plugins/profile/2021_11_03_04_10_24\n",
      "2021-11-03 04:10:24.879437: I tensorflow/core/profiler/rpc/client/save_profile.cc:182] Dumped gzipped tool data for trace.json.gz to ./logs/lr_2e-04_layers_4_nodes_244_sigmoid/train/plugins/profile/2021_11_03_04_10_24/ECE-util1.trace.json.gz\n",
      "2021-11-03 04:10:24.886991: I tensorflow/core/profiler/rpc/client/save_profile.cc:176] Creating directory: ./logs/lr_2e-04_layers_4_nodes_244_sigmoid/train/plugins/profile/2021_11_03_04_10_24\n",
      "2021-11-03 04:10:24.889451: I tensorflow/core/profiler/rpc/client/save_profile.cc:182] Dumped gzipped tool data for memory_profile.json.gz to ./logs/lr_2e-04_layers_4_nodes_244_sigmoid/train/plugins/profile/2021_11_03_04_10_24/ECE-util1.memory_profile.json.gz\n",
      "2021-11-03 04:10:24.908484: I tensorflow/python/profiler/internal/profiler_wrapper.cc:111] Creating directory: ./logs/lr_2e-04_layers_4_nodes_244_sigmoid/train/plugins/profile/2021_11_03_04_10_24Dumped tool data for xplane.pb to ./logs/lr_2e-04_layers_4_nodes_244_sigmoid/train/plugins/profile/2021_11_03_04_10_24/ECE-util1.xplane.pb\n",
      "Dumped tool data for overview_page.pb to ./logs/lr_2e-04_layers_4_nodes_244_sigmoid/train/plugins/profile/2021_11_03_04_10_24/ECE-util1.overview_page.pb\n",
      "Dumped tool data for input_pipeline.pb to ./logs/lr_2e-04_layers_4_nodes_244_sigmoid/train/plugins/profile/2021_11_03_04_10_24/ECE-util1.input_pipeline.pb\n",
      "Dumped tool data for tensorflow_stats.pb to ./logs/lr_2e-04_layers_4_nodes_244_sigmoid/train/plugins/profile/2021_11_03_04_10_24/ECE-util1.tensorflow_stats.pb\n",
      "Dumped tool data for kernel_stats.pb to ./logs/lr_2e-04_layers_4_nodes_244_sigmoid/train/plugins/profile/2021_11_03_04_10_24/ECE-util1.kernel_stats.pb\n",
      "\n"
     ]
    },
    {
     "name": "stdout",
     "output_type": "stream",
     "text": [
      "391/391 [==============================] - 2s 5ms/step - loss: 1.6166 - accuracy: 0.4619 - val_loss: 0.8105 - val_accuracy: 0.7660\n",
      "Epoch 2/3\n",
      "391/391 [==============================] - 2s 4ms/step - loss: 0.5990 - accuracy: 0.8332 - val_loss: 0.4654 - val_accuracy: 0.8748\n",
      "Epoch 3/3\n",
      "391/391 [==============================] - 2s 4ms/step - loss: 0.4080 - accuracy: 0.8850 - val_loss: 0.3759 - val_accuracy: 0.8946\n",
      "\n",
      "Accuracy: 89.46%\n",
      "\n",
      "learning rate: 3.2e-03\n",
      "num_dense_layers: 1\n",
      "num_dense_nodes: 189\n",
      "activation: sigmoid\n",
      "\n",
      "Epoch 1/3\n"
     ]
    },
    {
     "name": "stderr",
     "output_type": "stream",
     "text": [
      "2021-11-03 04:10:29.903576: I tensorflow/core/profiler/lib/profiler_session.cc:164] Profiler session started.\n"
     ]
    },
    {
     "name": "stdout",
     "output_type": "stream",
     "text": [
      "  2/391 [..............................] - ETA: 14s - loss: 2.3119 - accuracy: 0.1406WARNING:tensorflow:Callbacks method `on_train_batch_end` is slow compared to the batch time (batch time: 0.0032s vs `on_train_batch_end` time: 0.0739s). Check your callbacks.\n",
      " 44/391 [==>...........................] - ETA: 1s - loss: 0.9528 - accuracy: 0.7537"
     ]
    },
    {
     "name": "stderr",
     "output_type": "stream",
     "text": [
      "2021-11-03 04:10:30.312396: I tensorflow/core/profiler/lib/profiler_session.cc:164] Profiler session started.\n",
      "2021-11-03 04:10:30.352919: I tensorflow/core/profiler/rpc/client/save_profile.cc:176] Creating directory: ./logs/lr_3e-03_layers_1_nodes_189_sigmoid/train/plugins/profile/2021_11_03_04_10_30\n",
      "2021-11-03 04:10:30.357339: I tensorflow/core/profiler/rpc/client/save_profile.cc:182] Dumped gzipped tool data for trace.json.gz to ./logs/lr_3e-03_layers_1_nodes_189_sigmoid/train/plugins/profile/2021_11_03_04_10_30/ECE-util1.trace.json.gz\n",
      "2021-11-03 04:10:30.365840: I tensorflow/core/profiler/rpc/client/save_profile.cc:176] Creating directory: ./logs/lr_3e-03_layers_1_nodes_189_sigmoid/train/plugins/profile/2021_11_03_04_10_30\n",
      "2021-11-03 04:10:30.368547: I tensorflow/core/profiler/rpc/client/save_profile.cc:182] Dumped gzipped tool data for memory_profile.json.gz to ./logs/lr_3e-03_layers_1_nodes_189_sigmoid/train/plugins/profile/2021_11_03_04_10_30/ECE-util1.memory_profile.json.gz\n",
      "2021-11-03 04:10:30.387147: I tensorflow/python/profiler/internal/profiler_wrapper.cc:111] Creating directory: ./logs/lr_3e-03_layers_1_nodes_189_sigmoid/train/plugins/profile/2021_11_03_04_10_30Dumped tool data for xplane.pb to ./logs/lr_3e-03_layers_1_nodes_189_sigmoid/train/plugins/profile/2021_11_03_04_10_30/ECE-util1.xplane.pb\n",
      "Dumped tool data for overview_page.pb to ./logs/lr_3e-03_layers_1_nodes_189_sigmoid/train/plugins/profile/2021_11_03_04_10_30/ECE-util1.overview_page.pb\n",
      "Dumped tool data for input_pipeline.pb to ./logs/lr_3e-03_layers_1_nodes_189_sigmoid/train/plugins/profile/2021_11_03_04_10_30/ECE-util1.input_pipeline.pb\n",
      "Dumped tool data for tensorflow_stats.pb to ./logs/lr_3e-03_layers_1_nodes_189_sigmoid/train/plugins/profile/2021_11_03_04_10_30/ECE-util1.tensorflow_stats.pb\n",
      "Dumped tool data for kernel_stats.pb to ./logs/lr_3e-03_layers_1_nodes_189_sigmoid/train/plugins/profile/2021_11_03_04_10_30/ECE-util1.kernel_stats.pb\n",
      "\n"
     ]
    },
    {
     "name": "stdout",
     "output_type": "stream",
     "text": [
      "391/391 [==============================] - 1s 3ms/step - loss: 0.3671 - accuracy: 0.8988 - val_loss: 0.2237 - val_accuracy: 0.9332\n",
      "Epoch 2/3\n",
      "391/391 [==============================] - 1s 3ms/step - loss: 0.1776 - accuracy: 0.9494 - val_loss: 0.1656 - val_accuracy: 0.9506\n",
      "Epoch 3/3\n",
      "391/391 [==============================] - 1s 3ms/step - loss: 0.1256 - accuracy: 0.9634 - val_loss: 0.1398 - val_accuracy: 0.9556\n",
      "\n",
      "Accuracy: 95.56%\n",
      "\n",
      "learning rate: 1.0e-04\n",
      "num_dense_layers: 4\n",
      "num_dense_nodes: 483\n",
      "activation: relu\n",
      "\n",
      "Epoch 1/3\n"
     ]
    },
    {
     "name": "stderr",
     "output_type": "stream",
     "text": [
      "2021-11-03 04:10:33.491828: I tensorflow/core/profiler/lib/profiler_session.cc:164] Profiler session started.\n"
     ]
    },
    {
     "name": "stdout",
     "output_type": "stream",
     "text": [
      "  2/391 [..............................] - ETA: 15s - loss: 2.2839 - accuracy: 0.1367WARNING:tensorflow:Callbacks method `on_train_batch_end` is slow compared to the batch time (batch time: 0.0068s vs `on_train_batch_end` time: 0.0726s). Check your callbacks.\n",
      " 18/391 [>.............................] - ETA: 3s - loss: 2.1408 - accuracy: 0.4084"
     ]
    },
    {
     "name": "stderr",
     "output_type": "stream",
     "text": [
      "2021-11-03 04:10:34.000872: I tensorflow/core/profiler/lib/profiler_session.cc:164] Profiler session started.\n",
      "2021-11-03 04:10:34.044437: I tensorflow/core/profiler/rpc/client/save_profile.cc:176] Creating directory: ./logs/lr_1e-04_layers_4_nodes_483_relu/train/plugins/profile/2021_11_03_04_10_34\n",
      "2021-11-03 04:10:34.048839: I tensorflow/core/profiler/rpc/client/save_profile.cc:182] Dumped gzipped tool data for trace.json.gz to ./logs/lr_1e-04_layers_4_nodes_483_relu/train/plugins/profile/2021_11_03_04_10_34/ECE-util1.trace.json.gz\n",
      "2021-11-03 04:10:34.056679: I tensorflow/core/profiler/rpc/client/save_profile.cc:176] Creating directory: ./logs/lr_1e-04_layers_4_nodes_483_relu/train/plugins/profile/2021_11_03_04_10_34\n",
      "2021-11-03 04:10:34.059477: I tensorflow/core/profiler/rpc/client/save_profile.cc:182] Dumped gzipped tool data for memory_profile.json.gz to ./logs/lr_1e-04_layers_4_nodes_483_relu/train/plugins/profile/2021_11_03_04_10_34/ECE-util1.memory_profile.json.gz\n",
      "2021-11-03 04:10:34.077740: I tensorflow/python/profiler/internal/profiler_wrapper.cc:111] Creating directory: ./logs/lr_1e-04_layers_4_nodes_483_relu/train/plugins/profile/2021_11_03_04_10_34Dumped tool data for xplane.pb to ./logs/lr_1e-04_layers_4_nodes_483_relu/train/plugins/profile/2021_11_03_04_10_34/ECE-util1.xplane.pb\n",
      "Dumped tool data for overview_page.pb to ./logs/lr_1e-04_layers_4_nodes_483_relu/train/plugins/profile/2021_11_03_04_10_34/ECE-util1.overview_page.pb\n",
      "Dumped tool data for input_pipeline.pb to ./logs/lr_1e-04_layers_4_nodes_483_relu/train/plugins/profile/2021_11_03_04_10_34/ECE-util1.input_pipeline.pb\n",
      "Dumped tool data for tensorflow_stats.pb to ./logs/lr_1e-04_layers_4_nodes_483_relu/train/plugins/profile/2021_11_03_04_10_34/ECE-util1.tensorflow_stats.pb\n",
      "Dumped tool data for kernel_stats.pb to ./logs/lr_1e-04_layers_4_nodes_483_relu/train/plugins/profile/2021_11_03_04_10_34/ECE-util1.kernel_stats.pb\n",
      "\n"
     ]
    },
    {
     "name": "stdout",
     "output_type": "stream",
     "text": [
      "391/391 [==============================] - 3s 7ms/step - loss: 0.4681 - accuracy: 0.8759 - val_loss: 0.2050 - val_accuracy: 0.9384\n",
      "Epoch 2/3\n",
      "391/391 [==============================] - 2s 6ms/step - loss: 0.1579 - accuracy: 0.9537 - val_loss: 0.1557 - val_accuracy: 0.9540\n",
      "Epoch 3/3\n",
      "391/391 [==============================] - 2s 6ms/step - loss: 0.1101 - accuracy: 0.9676 - val_loss: 0.1255 - val_accuracy: 0.9628\n",
      "\n",
      "Accuracy: 96.28%\n",
      "\n",
      "learning rate: 3.5e-06\n",
      "num_dense_layers: 1\n",
      "num_dense_nodes: 37\n",
      "activation: relu\n",
      "\n",
      "Epoch 1/3\n"
     ]
    },
    {
     "name": "stderr",
     "output_type": "stream",
     "text": [
      "2021-11-03 04:10:41.445244: I tensorflow/core/profiler/lib/profiler_session.cc:164] Profiler session started.\n"
     ]
    },
    {
     "name": "stdout",
     "output_type": "stream",
     "text": [
      "  2/391 [..............................] - ETA: 13s - loss: 2.3813 - accuracy: 0.1094WARNING:tensorflow:Callbacks method `on_train_batch_end` is slow compared to the batch time (batch time: 0.0027s vs `on_train_batch_end` time: 0.0685s). Check your callbacks.\n",
      " 51/391 [==>...........................] - ETA: 1s - loss: 2.3551 - accuracy: 0.1143"
     ]
    },
    {
     "name": "stderr",
     "output_type": "stream",
     "text": [
      "2021-11-03 04:10:41.857561: I tensorflow/core/profiler/lib/profiler_session.cc:164] Profiler session started.\n",
      "2021-11-03 04:10:41.899800: I tensorflow/core/profiler/rpc/client/save_profile.cc:176] Creating directory: ./logs/lr_3e-06_layers_1_nodes_37_relu/train/plugins/profile/2021_11_03_04_10_41\n",
      "2021-11-03 04:10:41.902535: I tensorflow/core/profiler/rpc/client/save_profile.cc:182] Dumped gzipped tool data for trace.json.gz to ./logs/lr_3e-06_layers_1_nodes_37_relu/train/plugins/profile/2021_11_03_04_10_41/ECE-util1.trace.json.gz\n",
      "2021-11-03 04:10:41.908527: I tensorflow/core/profiler/rpc/client/save_profile.cc:176] Creating directory: ./logs/lr_3e-06_layers_1_nodes_37_relu/train/plugins/profile/2021_11_03_04_10_41\n",
      "2021-11-03 04:10:41.910449: I tensorflow/core/profiler/rpc/client/save_profile.cc:182] Dumped gzipped tool data for memory_profile.json.gz to ./logs/lr_3e-06_layers_1_nodes_37_relu/train/plugins/profile/2021_11_03_04_10_41/ECE-util1.memory_profile.json.gz\n",
      "2021-11-03 04:10:41.924142: I tensorflow/python/profiler/internal/profiler_wrapper.cc:111] Creating directory: ./logs/lr_3e-06_layers_1_nodes_37_relu/train/plugins/profile/2021_11_03_04_10_41Dumped tool data for xplane.pb to ./logs/lr_3e-06_layers_1_nodes_37_relu/train/plugins/profile/2021_11_03_04_10_41/ECE-util1.xplane.pb\n",
      "Dumped tool data for overview_page.pb to ./logs/lr_3e-06_layers_1_nodes_37_relu/train/plugins/profile/2021_11_03_04_10_41/ECE-util1.overview_page.pb\n",
      "Dumped tool data for input_pipeline.pb to ./logs/lr_3e-06_layers_1_nodes_37_relu/train/plugins/profile/2021_11_03_04_10_41/ECE-util1.input_pipeline.pb\n",
      "Dumped tool data for tensorflow_stats.pb to ./logs/lr_3e-06_layers_1_nodes_37_relu/train/plugins/profile/2021_11_03_04_10_41/ECE-util1.tensorflow_stats.pb\n",
      "Dumped tool data for kernel_stats.pb to ./logs/lr_3e-06_layers_1_nodes_37_relu/train/plugins/profile/2021_11_03_04_10_41/ECE-util1.kernel_stats.pb\n",
      "\n"
     ]
    },
    {
     "name": "stdout",
     "output_type": "stream",
     "text": [
      "391/391 [==============================] - 1s 2ms/step - loss: 2.3148 - accuracy: 0.1290 - val_loss: 2.2704 - val_accuracy: 0.1554\n",
      "Epoch 2/3\n",
      "391/391 [==============================] - 1s 2ms/step - loss: 2.2258 - accuracy: 0.1864 - val_loss: 2.1826 - val_accuracy: 0.2272\n",
      "Epoch 3/3\n",
      "391/391 [==============================] - 1s 2ms/step - loss: 2.1429 - accuracy: 0.2620 - val_loss: 2.0995 - val_accuracy: 0.3080\n",
      "\n",
      "Accuracy: 30.80%\n",
      "\n",
      "learning rate: 4.1e-06\n",
      "num_dense_layers: 2\n",
      "num_dense_nodes: 295\n",
      "activation: relu\n",
      "\n",
      "Epoch 1/3\n"
     ]
    },
    {
     "name": "stderr",
     "output_type": "stream",
     "text": [
      "2021-11-03 04:10:44.263658: I tensorflow/core/profiler/lib/profiler_session.cc:164] Profiler session started.\n"
     ]
    },
    {
     "name": "stdout",
     "output_type": "stream",
     "text": [
      "  2/391 [..............................] - ETA: 13s - loss: 2.3764 - accuracy: 0.0820WARNING:tensorflow:Callbacks method `on_train_batch_end` is slow compared to the batch time (batch time: 0.0045s vs `on_train_batch_end` time: 0.0626s). Check your callbacks.\n",
      " 37/391 [=>............................] - ETA: 1s - loss: 2.3660 - accuracy: 0.0750"
     ]
    },
    {
     "name": "stderr",
     "output_type": "stream",
     "text": [
      "2021-11-03 04:10:45.033372: I tensorflow/core/profiler/lib/profiler_session.cc:164] Profiler session started.\n",
      "2021-11-03 04:10:45.072119: I tensorflow/core/profiler/rpc/client/save_profile.cc:176] Creating directory: ./logs/lr_4e-06_layers_2_nodes_295_relu/train/plugins/profile/2021_11_03_04_10_45\n",
      "2021-11-03 04:10:45.075480: I tensorflow/core/profiler/rpc/client/save_profile.cc:182] Dumped gzipped tool data for trace.json.gz to ./logs/lr_4e-06_layers_2_nodes_295_relu/train/plugins/profile/2021_11_03_04_10_45/ECE-util1.trace.json.gz\n",
      "2021-11-03 04:10:45.082020: I tensorflow/core/profiler/rpc/client/save_profile.cc:176] Creating directory: ./logs/lr_4e-06_layers_2_nodes_295_relu/train/plugins/profile/2021_11_03_04_10_45\n",
      "2021-11-03 04:10:45.084038: I tensorflow/core/profiler/rpc/client/save_profile.cc:182] Dumped gzipped tool data for memory_profile.json.gz to ./logs/lr_4e-06_layers_2_nodes_295_relu/train/plugins/profile/2021_11_03_04_10_45/ECE-util1.memory_profile.json.gz\n",
      "2021-11-03 04:10:45.098661: I tensorflow/python/profiler/internal/profiler_wrapper.cc:111] Creating directory: ./logs/lr_4e-06_layers_2_nodes_295_relu/train/plugins/profile/2021_11_03_04_10_45Dumped tool data for xplane.pb to ./logs/lr_4e-06_layers_2_nodes_295_relu/train/plugins/profile/2021_11_03_04_10_45/ECE-util1.xplane.pb\n",
      "Dumped tool data for overview_page.pb to ./logs/lr_4e-06_layers_2_nodes_295_relu/train/plugins/profile/2021_11_03_04_10_45/ECE-util1.overview_page.pb\n",
      "Dumped tool data for input_pipeline.pb to ./logs/lr_4e-06_layers_2_nodes_295_relu/train/plugins/profile/2021_11_03_04_10_45/ECE-util1.input_pipeline.pb\n",
      "Dumped tool data for tensorflow_stats.pb to ./logs/lr_4e-06_layers_2_nodes_295_relu/train/plugins/profile/2021_11_03_04_10_45/ECE-util1.tensorflow_stats.pb\n",
      "Dumped tool data for kernel_stats.pb to ./logs/lr_4e-06_layers_2_nodes_295_relu/train/plugins/profile/2021_11_03_04_10_45/ECE-util1.kernel_stats.pb\n",
      "\n"
     ]
    },
    {
     "name": "stdout",
     "output_type": "stream",
     "text": [
      "391/391 [==============================] - 1s 3ms/step - loss: 2.2264 - accuracy: 0.2147 - val_loss: 2.0760 - val_accuracy: 0.4254\n",
      "Epoch 2/3\n",
      "391/391 [==============================] - 1s 3ms/step - loss: 1.9390 - accuracy: 0.5590 - val_loss: 1.7813 - val_accuracy: 0.6628\n",
      "Epoch 3/3\n",
      "391/391 [==============================] - 1s 3ms/step - loss: 1.6406 - accuracy: 0.7051 - val_loss: 1.4757 - val_accuracy: 0.7486\n",
      "\n",
      "Accuracy: 74.86%\n",
      "\n",
      "learning rate: 2.2e-03\n",
      "num_dense_layers: 4\n",
      "num_dense_nodes: 455\n",
      "activation: relu\n",
      "\n",
      "Epoch 1/3\n"
     ]
    },
    {
     "name": "stderr",
     "output_type": "stream",
     "text": [
      "2021-11-03 04:10:49.086249: I tensorflow/core/profiler/lib/profiler_session.cc:164] Profiler session started.\n"
     ]
    },
    {
     "name": "stdout",
     "output_type": "stream",
     "text": [
      "  2/391 [..............................] - ETA: 16s - loss: 2.2137 - accuracy: 0.1406WARNING:tensorflow:Callbacks method `on_train_batch_end` is slow compared to the batch time (batch time: 0.0062s vs `on_train_batch_end` time: 0.0779s). Check your callbacks.\n",
      " 20/391 [>.............................] - ETA: 3s - loss: 0.9779 - accuracy: 0.6742"
     ]
    },
    {
     "name": "stderr",
     "output_type": "stream",
     "text": [
      "2021-11-03 04:10:49.604183: I tensorflow/core/profiler/lib/profiler_session.cc:164] Profiler session started.\n",
      "2021-11-03 04:10:49.649505: I tensorflow/core/profiler/rpc/client/save_profile.cc:176] Creating directory: ./logs/lr_2e-03_layers_4_nodes_455_relu/train/plugins/profile/2021_11_03_04_10_49\n",
      "2021-11-03 04:10:49.654522: I tensorflow/core/profiler/rpc/client/save_profile.cc:182] Dumped gzipped tool data for trace.json.gz to ./logs/lr_2e-03_layers_4_nodes_455_relu/train/plugins/profile/2021_11_03_04_10_49/ECE-util1.trace.json.gz\n",
      "2021-11-03 04:10:49.663729: I tensorflow/core/profiler/rpc/client/save_profile.cc:176] Creating directory: ./logs/lr_2e-03_layers_4_nodes_455_relu/train/plugins/profile/2021_11_03_04_10_49\n",
      "2021-11-03 04:10:49.666572: I tensorflow/core/profiler/rpc/client/save_profile.cc:182] Dumped gzipped tool data for memory_profile.json.gz to ./logs/lr_2e-03_layers_4_nodes_455_relu/train/plugins/profile/2021_11_03_04_10_49/ECE-util1.memory_profile.json.gz\n",
      "2021-11-03 04:10:49.685986: I tensorflow/python/profiler/internal/profiler_wrapper.cc:111] Creating directory: ./logs/lr_2e-03_layers_4_nodes_455_relu/train/plugins/profile/2021_11_03_04_10_49Dumped tool data for xplane.pb to ./logs/lr_2e-03_layers_4_nodes_455_relu/train/plugins/profile/2021_11_03_04_10_49/ECE-util1.xplane.pb\n",
      "Dumped tool data for overview_page.pb to ./logs/lr_2e-03_layers_4_nodes_455_relu/train/plugins/profile/2021_11_03_04_10_49/ECE-util1.overview_page.pb\n",
      "Dumped tool data for input_pipeline.pb to ./logs/lr_2e-03_layers_4_nodes_455_relu/train/plugins/profile/2021_11_03_04_10_49/ECE-util1.input_pipeline.pb\n",
      "Dumped tool data for tensorflow_stats.pb to ./logs/lr_2e-03_layers_4_nodes_455_relu/train/plugins/profile/2021_11_03_04_10_49/ECE-util1.tensorflow_stats.pb\n",
      "Dumped tool data for kernel_stats.pb to ./logs/lr_2e-03_layers_4_nodes_455_relu/train/plugins/profile/2021_11_03_04_10_49/ECE-util1.kernel_stats.pb\n",
      "\n"
     ]
    },
    {
     "name": "stdout",
     "output_type": "stream",
     "text": [
      "391/391 [==============================] - 2s 6ms/step - loss: 0.2333 - accuracy: 0.9280 - val_loss: 0.1495 - val_accuracy: 0.9574\n",
      "Epoch 2/3\n",
      "391/391 [==============================] - 2s 5ms/step - loss: 0.1059 - accuracy: 0.9687 - val_loss: 0.1139 - val_accuracy: 0.9662\n",
      "Epoch 3/3\n",
      "391/391 [==============================] - 2s 5ms/step - loss: 0.0745 - accuracy: 0.9774 - val_loss: 0.1019 - val_accuracy: 0.9708\n",
      "\n",
      "Accuracy: 97.08%\n",
      "\n",
      "learning rate: 2.7e-03\n",
      "num_dense_layers: 5\n",
      "num_dense_nodes: 416\n",
      "activation: sigmoid\n",
      "\n",
      "Epoch 1/3\n"
     ]
    },
    {
     "name": "stderr",
     "output_type": "stream",
     "text": [
      "2021-11-03 04:10:56.516807: I tensorflow/core/profiler/lib/profiler_session.cc:164] Profiler session started.\n"
     ]
    },
    {
     "name": "stdout",
     "output_type": "stream",
     "text": [
      "  2/391 [..............................] - ETA: 16s - loss: 2.6168 - accuracy: 0.1445WARNING:tensorflow:Callbacks method `on_train_batch_end` is slow compared to the batch time (batch time: 0.0059s vs `on_train_batch_end` time: 0.0783s). Check your callbacks.\n",
      " 22/391 [>.............................] - ETA: 3s - loss: 2.4225 - accuracy: 0.1026"
     ]
    },
    {
     "name": "stderr",
     "output_type": "stream",
     "text": [
      "2021-11-03 04:10:57.043891: I tensorflow/core/profiler/lib/profiler_session.cc:164] Profiler session started.\n",
      "2021-11-03 04:10:57.092672: I tensorflow/core/profiler/rpc/client/save_profile.cc:176] Creating directory: ./logs/lr_3e-03_layers_5_nodes_416_sigmoid/train/plugins/profile/2021_11_03_04_10_57\n",
      "2021-11-03 04:10:57.096593: I tensorflow/core/profiler/rpc/client/save_profile.cc:182] Dumped gzipped tool data for trace.json.gz to ./logs/lr_3e-03_layers_5_nodes_416_sigmoid/train/plugins/profile/2021_11_03_04_10_57/ECE-util1.trace.json.gz\n",
      "2021-11-03 04:10:57.103903: I tensorflow/core/profiler/rpc/client/save_profile.cc:176] Creating directory: ./logs/lr_3e-03_layers_5_nodes_416_sigmoid/train/plugins/profile/2021_11_03_04_10_57\n",
      "2021-11-03 04:10:57.106366: I tensorflow/core/profiler/rpc/client/save_profile.cc:182] Dumped gzipped tool data for memory_profile.json.gz to ./logs/lr_3e-03_layers_5_nodes_416_sigmoid/train/plugins/profile/2021_11_03_04_10_57/ECE-util1.memory_profile.json.gz\n",
      "2021-11-03 04:10:57.124675: I tensorflow/python/profiler/internal/profiler_wrapper.cc:111] Creating directory: ./logs/lr_3e-03_layers_5_nodes_416_sigmoid/train/plugins/profile/2021_11_03_04_10_57Dumped tool data for xplane.pb to ./logs/lr_3e-03_layers_5_nodes_416_sigmoid/train/plugins/profile/2021_11_03_04_10_57/ECE-util1.xplane.pb\n",
      "Dumped tool data for overview_page.pb to ./logs/lr_3e-03_layers_5_nodes_416_sigmoid/train/plugins/profile/2021_11_03_04_10_57/ECE-util1.overview_page.pb\n",
      "Dumped tool data for input_pipeline.pb to ./logs/lr_3e-03_layers_5_nodes_416_sigmoid/train/plugins/profile/2021_11_03_04_10_57/ECE-util1.input_pipeline.pb\n",
      "Dumped tool data for tensorflow_stats.pb to ./logs/lr_3e-03_layers_5_nodes_416_sigmoid/train/plugins/profile/2021_11_03_04_10_57/ECE-util1.tensorflow_stats.pb\n",
      "Dumped tool data for kernel_stats.pb to ./logs/lr_3e-03_layers_5_nodes_416_sigmoid/train/plugins/profile/2021_11_03_04_10_57/ECE-util1.kernel_stats.pb\n",
      "\n"
     ]
    },
    {
     "name": "stdout",
     "output_type": "stream",
     "text": [
      "391/391 [==============================] - 2s 6ms/step - loss: 0.7489 - accuracy: 0.7404 - val_loss: 0.2479 - val_accuracy: 0.9286\n",
      "Epoch 2/3\n",
      "391/391 [==============================] - 2s 5ms/step - loss: 0.1835 - accuracy: 0.9487 - val_loss: 0.1724 - val_accuracy: 0.9544\n",
      "Epoch 3/3\n",
      "391/391 [==============================] - 2s 5ms/step - loss: 0.1176 - accuracy: 0.9668 - val_loss: 0.1298 - val_accuracy: 0.9608\n",
      "\n",
      "Accuracy: 96.08%\n",
      "\n",
      "learning rate: 1.6e-03\n",
      "num_dense_layers: 2\n",
      "num_dense_nodes: 512\n",
      "activation: relu\n",
      "\n",
      "Epoch 1/3\n"
     ]
    },
    {
     "name": "stderr",
     "output_type": "stream",
     "text": [
      "2021-11-03 04:11:03.656561: I tensorflow/core/profiler/lib/profiler_session.cc:164] Profiler session started.\n"
     ]
    },
    {
     "name": "stdout",
     "output_type": "stream",
     "text": [
      "  2/391 [..............................] - ETA: 16s - loss: 2.1372 - accuracy: 0.2852WARNING:tensorflow:Callbacks method `on_train_batch_end` is slow compared to the batch time (batch time: 0.0053s vs `on_train_batch_end` time: 0.0805s). Check your callbacks.\n",
      " 30/391 [=>............................] - ETA: 2s - loss: 0.7231 - accuracy: 0.7831"
     ]
    },
    {
     "name": "stderr",
     "output_type": "stream",
     "text": [
      "2021-11-03 04:11:04.091302: I tensorflow/core/profiler/lib/profiler_session.cc:164] Profiler session started.\n",
      "2021-11-03 04:11:04.134605: I tensorflow/core/profiler/rpc/client/save_profile.cc:176] Creating directory: ./logs/lr_2e-03_layers_2_nodes_512_relu/train/plugins/profile/2021_11_03_04_11_04\n",
      "2021-11-03 04:11:04.139447: I tensorflow/core/profiler/rpc/client/save_profile.cc:182] Dumped gzipped tool data for trace.json.gz to ./logs/lr_2e-03_layers_2_nodes_512_relu/train/plugins/profile/2021_11_03_04_11_04/ECE-util1.trace.json.gz\n",
      "2021-11-03 04:11:04.149539: I tensorflow/core/profiler/rpc/client/save_profile.cc:176] Creating directory: ./logs/lr_2e-03_layers_2_nodes_512_relu/train/plugins/profile/2021_11_03_04_11_04\n",
      "2021-11-03 04:11:04.152485: I tensorflow/core/profiler/rpc/client/save_profile.cc:182] Dumped gzipped tool data for memory_profile.json.gz to ./logs/lr_2e-03_layers_2_nodes_512_relu/train/plugins/profile/2021_11_03_04_11_04/ECE-util1.memory_profile.json.gz\n",
      "2021-11-03 04:11:04.174058: I tensorflow/python/profiler/internal/profiler_wrapper.cc:111] Creating directory: ./logs/lr_2e-03_layers_2_nodes_512_relu/train/plugins/profile/2021_11_03_04_11_04Dumped tool data for xplane.pb to ./logs/lr_2e-03_layers_2_nodes_512_relu/train/plugins/profile/2021_11_03_04_11_04/ECE-util1.xplane.pb\n",
      "Dumped tool data for overview_page.pb to ./logs/lr_2e-03_layers_2_nodes_512_relu/train/plugins/profile/2021_11_03_04_11_04/ECE-util1.overview_page.pb\n",
      "Dumped tool data for input_pipeline.pb to ./logs/lr_2e-03_layers_2_nodes_512_relu/train/plugins/profile/2021_11_03_04_11_04/ECE-util1.input_pipeline.pb\n",
      "Dumped tool data for tensorflow_stats.pb to ./logs/lr_2e-03_layers_2_nodes_512_relu/train/plugins/profile/2021_11_03_04_11_04/ECE-util1.tensorflow_stats.pb\n",
      "Dumped tool data for kernel_stats.pb to ./logs/lr_2e-03_layers_2_nodes_512_relu/train/plugins/profile/2021_11_03_04_11_04/ECE-util1.kernel_stats.pb\n",
      "\n"
     ]
    },
    {
     "name": "stdout",
     "output_type": "stream",
     "text": [
      "391/391 [==============================] - 2s 4ms/step - loss: 0.2104 - accuracy: 0.9361 - val_loss: 0.1128 - val_accuracy: 0.9672\n",
      "Epoch 2/3\n",
      "391/391 [==============================] - 1s 4ms/step - loss: 0.0827 - accuracy: 0.9744 - val_loss: 0.0942 - val_accuracy: 0.9706\n",
      "Epoch 3/3\n",
      "391/391 [==============================] - 1s 4ms/step - loss: 0.0524 - accuracy: 0.9837 - val_loss: 0.0907 - val_accuracy: 0.9724\n",
      "\n",
      "Accuracy: 97.24%\n",
      "\n",
      "learning rate: 1.7e-03\n",
      "num_dense_layers: 3\n",
      "num_dense_nodes: 466\n",
      "activation: sigmoid\n",
      "\n",
      "Epoch 1/3\n"
     ]
    },
    {
     "name": "stderr",
     "output_type": "stream",
     "text": [
      "2021-11-03 04:11:09.128723: I tensorflow/core/profiler/lib/profiler_session.cc:164] Profiler session started.\n"
     ]
    },
    {
     "name": "stdout",
     "output_type": "stream",
     "text": [
      "  2/391 [..............................] - ETA: 14s - loss: 2.6104 - accuracy: 0.0820WARNING:tensorflow:Callbacks method `on_train_batch_end` is slow compared to the batch time (batch time: 0.0059s vs `on_train_batch_end` time: 0.0688s). Check your callbacks.\n",
      " 28/391 [=>............................] - ETA: 2s - loss: 2.2500 - accuracy: 0.2137"
     ]
    },
    {
     "name": "stderr",
     "output_type": "stream",
     "text": [
      "2021-11-03 04:11:09.592918: I tensorflow/core/profiler/lib/profiler_session.cc:164] Profiler session started.\n",
      "2021-11-03 04:11:09.635107: I tensorflow/core/profiler/rpc/client/save_profile.cc:176] Creating directory: ./logs/lr_2e-03_layers_3_nodes_466_sigmoid/train/plugins/profile/2021_11_03_04_11_09\n",
      "2021-11-03 04:11:09.638172: I tensorflow/core/profiler/rpc/client/save_profile.cc:182] Dumped gzipped tool data for trace.json.gz to ./logs/lr_2e-03_layers_3_nodes_466_sigmoid/train/plugins/profile/2021_11_03_04_11_09/ECE-util1.trace.json.gz\n",
      "2021-11-03 04:11:09.644994: I tensorflow/core/profiler/rpc/client/save_profile.cc:176] Creating directory: ./logs/lr_2e-03_layers_3_nodes_466_sigmoid/train/plugins/profile/2021_11_03_04_11_09\n",
      "2021-11-03 04:11:09.647111: I tensorflow/core/profiler/rpc/client/save_profile.cc:182] Dumped gzipped tool data for memory_profile.json.gz to ./logs/lr_2e-03_layers_3_nodes_466_sigmoid/train/plugins/profile/2021_11_03_04_11_09/ECE-util1.memory_profile.json.gz\n",
      "2021-11-03 04:11:09.665148: I tensorflow/python/profiler/internal/profiler_wrapper.cc:111] Creating directory: ./logs/lr_2e-03_layers_3_nodes_466_sigmoid/train/plugins/profile/2021_11_03_04_11_09Dumped tool data for xplane.pb to ./logs/lr_2e-03_layers_3_nodes_466_sigmoid/train/plugins/profile/2021_11_03_04_11_09/ECE-util1.xplane.pb\n",
      "Dumped tool data for overview_page.pb to ./logs/lr_2e-03_layers_3_nodes_466_sigmoid/train/plugins/profile/2021_11_03_04_11_09/ECE-util1.overview_page.pb\n",
      "Dumped tool data for input_pipeline.pb to ./logs/lr_2e-03_layers_3_nodes_466_sigmoid/train/plugins/profile/2021_11_03_04_11_09/ECE-util1.input_pipeline.pb\n",
      "Dumped tool data for tensorflow_stats.pb to ./logs/lr_2e-03_layers_3_nodes_466_sigmoid/train/plugins/profile/2021_11_03_04_11_09/ECE-util1.tensorflow_stats.pb\n",
      "Dumped tool data for kernel_stats.pb to ./logs/lr_2e-03_layers_3_nodes_466_sigmoid/train/plugins/profile/2021_11_03_04_11_09/ECE-util1.kernel_stats.pb\n",
      "\n"
     ]
    },
    {
     "name": "stdout",
     "output_type": "stream",
     "text": [
      "391/391 [==============================] - 2s 5ms/step - loss: 0.5188 - accuracy: 0.8323 - val_loss: 0.2313 - val_accuracy: 0.9288\n",
      "Epoch 2/3\n",
      "391/391 [==============================] - 2s 4ms/step - loss: 0.1752 - accuracy: 0.9471 - val_loss: 0.1668 - val_accuracy: 0.9522\n",
      "Epoch 3/3\n",
      "391/391 [==============================] - 2s 4ms/step - loss: 0.1184 - accuracy: 0.9632 - val_loss: 0.1344 - val_accuracy: 0.9598\n",
      "\n",
      "Accuracy: 95.98%\n",
      "\n",
      "CPU times: user 8min 7s, sys: 1min 8s, total: 9min 16s\n",
      "Wall time: 1min 16s\n"
     ]
    }
   ],
   "source": [
    "%%time\n",
    "search_result = gp_minimize(func=fitness, dimensions=dimensions, \n",
    "                            acq_func='EI', # Expected Improvement.\n",
    "                            n_calls=15, x0=default_parameters)"
   ]
  },
  {
   "cell_type": "markdown",
   "id": "5ce5ef7b",
   "metadata": {},
   "source": [
    "## Optimization Progress"
   ]
  },
  {
   "cell_type": "code",
   "execution_count": 17,
   "id": "d87b50da",
   "metadata": {},
   "outputs": [
    {
     "data": {
      "text/plain": [
       "<AxesSubplot:title={'center':'Convergence plot'}, xlabel='Number of calls $n$', ylabel='$\\\\min f(x)$ after $n$ calls'>"
      ]
     },
     "execution_count": 17,
     "metadata": {},
     "output_type": "execute_result"
    },
    {
     "data": {
      "image/png": "[encoded data removed]",
      "text/plain": [
       "<Figure size 432x288 with 1 Axes>"
      ]
     },
     "metadata": {
      "needs_background": "light"
     },
     "output_type": "display_data"
    }
   ],
   "source": [
    "plot_convergence(search_result)"
   ]
  },
  {
   "cell_type": "code",
   "execution_count": 18,
   "id": "b63d7435",
   "metadata": {},
   "outputs": [
    {
     "data": {
      "text/plain": [
       "[0.0015747072834881764, 2, 512, 'relu']"
      ]
     },
     "execution_count": 18,
     "metadata": {},
     "output_type": "execute_result"
    }
   ],
   "source": [
    "# Find the best Hyper-Parameters\n",
    "search_result.x"
   ]
  },
  {
   "cell_type": "code",
   "execution_count": 19,
   "id": "942dff72",
   "metadata": {},
   "outputs": [],
   "source": [
    "def point_to_dict(point):\n",
    "    return {\"lat\": point.y, \"lng\": point.x}"
   ]
  },
  {
   "cell_type": "code",
   "execution_count": 20,
   "id": "e3af4aac",
   "metadata": {},
   "outputs": [],
   "source": [
    "space = search_result.space\n",
    "#space.point_to_dict(search_result.x)"
   ]
  },
  {
   "cell_type": "code",
   "execution_count": 21,
   "id": "b2e87544",
   "metadata": {},
   "outputs": [
    {
     "data": {
      "text/plain": [
       "-0.9724000096321106"
      ]
     },
     "execution_count": 21,
     "metadata": {},
     "output_type": "execute_result"
    }
   ],
   "source": [
    "# This is a negative number because the Bayesian optimizer performs minimization\n",
    "search_result.fun"
   ]
  },
  {
   "cell_type": "code",
   "execution_count": 22,
   "id": "3c1cb573",
   "metadata": {},
   "outputs": [
    {
     "data": {
      "text/plain": [
       "[(-0.9724000096321106, [0.0015747072834881764, 2, 512, 'relu']),\n",
       " (-0.97079998254776, [0.0022361010928006746, 4, 455, 'relu']),\n",
       " (-0.965399980545044, [0.0024774065496879515, 2, 481, 'sigmoid']),\n",
       " (-0.9628000259399414, [0.00010400170353586224, 4, 483, 'relu']),\n",
       " (-0.9607999920845032, [0.0027378972876382, 5, 416, 'sigmoid']),\n",
       " (-0.9598000049591064, [0.0017046407249460091, 3, 466, 'sigmoid']),\n",
       " (-0.9556000232696533, [0.003165323660800592, 1, 189, 'sigmoid']),\n",
       " (-0.894599974155426, [0.00024476640772413255, 4, 244, 'sigmoid']),\n",
       " (-0.7486000061035156, [4.107048799164143e-06, 2, 295, 'relu']),\n",
       " (-0.4607999920845032, [6.669072953996571e-05, 3, 66, 'sigmoid']),\n",
       " (-0.4596000015735626, [1e-05, 1, 16, 'relu']),\n",
       " (-0.3702000081539154, [3.837282873123039e-05, 5, 262, 'sigmoid']),\n",
       " (-0.30799999833106995, [3.492814338499371e-06, 1, 37, 'relu']),\n",
       " (-0.24459999799728394, [1.8697855860877785e-05, 2, 15, 'relu']),\n",
       " (-0.10599999874830246, [3.2601240470145275e-06, 3, 351, 'sigmoid'])]"
      ]
     },
     "execution_count": 22,
     "metadata": {},
     "output_type": "execute_result"
    }
   ],
   "source": [
    "sorted(zip(search_result.func_vals, search_result.x_iters))"
   ]
  },
  {
   "cell_type": "markdown",
   "id": "3f0f4afb",
   "metadata": {},
   "source": [
    "## Visualization of Hyper-parameter Search"
   ]
  },
  {
   "cell_type": "code",
   "execution_count": 23,
   "id": "0fce7102",
   "metadata": {
    "scrolled": false
   },
   "outputs": [
    {
     "data": {
      "image/png": "[encoded data removed]",
      "text/plain": [
       "<Figure size 432x288 with 1 Axes>"
      ]
     },
     "metadata": {
      "needs_background": "light"
     },
     "output_type": "display_data"
    }
   ],
   "source": [
    "# activation parameter, which shows the distribution of samples during the hyper-parameter optimization.\n",
    "fig = plot_histogram(result=search_result, dimension_identifier='activation')"
   ]
  },
  {
   "cell_type": "code",
   "execution_count": 24,
   "id": "f02c94d2",
   "metadata": {},
   "outputs": [
    {
     "data": {
      "image/png": "[encoded data removed]",
      "text/plain": [
       "<Figure size 432x288 with 1 Axes>"
      ]
     },
     "metadata": {
      "needs_background": "light"
     },
     "output_type": "display_data"
    }
   ],
   "source": [
    "# learning_rate and num_dense_layers\n",
    "fig = plot_objective_2D(result=search_result, \n",
    "                        dimension_identifier1='learning_rate', \n",
    "                        dimension_identifier2='num_dense_layers', \n",
    "                        levels=50)"
   ]
  },
  {
   "cell_type": "code",
   "execution_count": 25,
   "id": "4fe5fdf1",
   "metadata": {},
   "outputs": [
    {
     "data": {
      "image/png": "[encoded data removed]",
      "text/plain": [
       "<Figure size 432x432 with 9 Axes>"
      ]
     },
     "metadata": {
      "needs_background": "light"
     },
     "output_type": "display_data"
    }
   ],
   "source": [
    "dim_names = ['learning_rate', 'num_dense_nodes', 'num_dense_layers']\n",
    "\n",
    "fig = plot_objective(result=search_result, plot_dims =dim_names)"
   ]
  },
  {
   "cell_type": "code",
   "execution_count": 26,
   "id": "68d668fd",
   "metadata": {},
   "outputs": [
    {
     "data": {
      "image/png": "[encoded data removed]",
      "text/plain": [
       "<Figure size 432x432 with 9 Axes>"
      ]
     },
     "metadata": {
      "needs_background": "light"
     },
     "output_type": "display_data"
    }
   ],
   "source": [
    "fig = plot_evaluations(result=search_result, plot_dims=dim_names)"
   ]
  },
  {
   "cell_type": "markdown",
   "id": "d873c285",
   "metadata": {},
   "source": [
    "## Evaluate Best Model on TestSet"
   ]
  },
  {
   "cell_type": "code",
   "execution_count": 27,
   "id": "04cdebd1",
   "metadata": {},
   "outputs": [
    {
     "name": "stdout",
     "output_type": "stream",
     "text": [
      "469/469 [==============================] - 1s 1ms/step - loss: 0.0905 - accuracy: 0.9735\n"
     ]
    }
   ],
   "source": [
    "model = load_model(path_best_model)\n",
    "result = model.evaluate(x=x_test, y=y_test)"
   ]
  },
  {
   "cell_type": "code",
   "execution_count": 28,
   "id": "597a29ce",
   "metadata": {},
   "outputs": [
    {
     "name": "stdout",
     "output_type": "stream",
     "text": [
      "loss 0.09048648923635483\n",
      "accuracy 0.973466694355011\n"
     ]
    }
   ],
   "source": [
    "for name, value in zip(model.metrics_names, result):\n",
    "    print(name, value)"
   ]
  },
  {
   "cell_type": "code",
   "execution_count": 29,
   "id": "3b226fac",
   "metadata": {},
   "outputs": [
    {
     "name": "stdout",
     "output_type": "stream",
     "text": [
      "accuracy: 97.35%\n"
     ]
    }
   ],
   "source": [
    "print(\"{0}: {1:.2%}\".format(model.metrics_names[1], result[1]))"
   ]
  },
  {
   "cell_type": "code",
   "execution_count": 30,
   "id": "b437cf63",
   "metadata": {},
   "outputs": [
    {
     "data": {
      "image/png": "[encoded data removed]",
      "text/plain": [
       "<Figure size 432x288 with 9 Axes>"
      ]
     },
     "metadata": {},
     "output_type": "display_data"
    }
   ],
   "source": [
    "# Visualization of Test results\n",
    "images = x_test[0:9]\n",
    "cls_true = y_test_cls[0:9]\n",
    "y_pred = model.predict(x=images)\n",
    "cls_pred = np.argmax(y_pred,axis=1)\n",
    "\n",
    "plot_images(images=images, cls_true=cls_true, cls_pred=cls_pred)"
   ]
  },
  {
   "cell_type": "code",
   "execution_count": 31,
   "id": "e12952c5",
   "metadata": {},
   "outputs": [],
   "source": [
    "t2 = time.time()"
   ]
  },
  {
   "cell_type": "code",
   "execution_count": 32,
   "id": "a6c4aeb9",
   "metadata": {},
   "outputs": [],
   "source": [
    "t = t2-t1"
   ]
  },
  {
   "cell_type": "code",
   "execution_count": 33,
   "id": "d0a5f221",
   "metadata": {},
   "outputs": [
    {
     "data": {
      "text/plain": [
       "'00:01:28'"
      ]
     },
     "execution_count": 33,
     "metadata": {},
     "output_type": "execute_result"
    }
   ],
   "source": [
    "time.strftime(\"%H:%M:%S\",time.gmtime(t))"
   ]
  },
  {
   "cell_type": "code",
   "execution_count": null,
   "id": "2374a2d0",
   "metadata": {},
   "outputs": [],
   "source": []
  }
 ],
 "metadata": {
  "celltoolbar": "Raw Cell Format",
  "kernelspec": {
   "display_name": "Python 3 (ipykernel)",
   "language": "python",
   "name": "python3"
  },
  "language_info": {
   "codemirror_mode": {
    "name": "ipython",
    "version": 3
   },
   "file_extension": ".py",
   "mimetype": "text/x-python",
   "name": "python",
   "nbconvert_exporter": "python",
   "pygments_lexer": "ipython3",
   "version": "3.7.10"
  }
 },
 "nbformat": 4,
 "nbformat_minor": 5
}
