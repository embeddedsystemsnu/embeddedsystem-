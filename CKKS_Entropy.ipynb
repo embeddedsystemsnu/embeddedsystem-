{
 "cells": [
  {
   "cell_type": "code",
   "execution_count": 1,
   "metadata": {},
   "outputs": [],
   "source": [
    "import tenseal as ts\n",
    "import tenseal.sealapi as seal\n",
    "import random\n",
    "import pickle\n",
    "import numpy as np\n",
    "import struct\n",
    "import sys\n",
    "import math\n",
    "import array\n",
    "from IPython.display import HTML, display\n",
    "import tabulate\n",
    "import pytest"
   ]
  },
  {
   "cell_type": "code",
   "execution_count": 2,
   "metadata": {},
   "outputs": [],
   "source": [
    "def convert_size(size_bytes):\n",
    "    if size_bytes == 0:\n",
    "        return \"0B\"\n",
    "    size_name = (\"B\", \"KB\", \"MB\", \"GB\", \"TB\", \"PB\", \"EB\", \"ZB\", \"YB\")\n",
    "    i = int(math.floor(math.log(size_bytes, 1024)))\n",
    "    p = math.pow(1024, i)\n",
    "    s = round(size_bytes / p, 2)\n",
    "    return \"%s %s\" % (s, size_name[i])"
   ]
  },
  {
   "cell_type": "code",
   "execution_count": 3,
   "metadata": {},
   "outputs": [],
   "source": [
    "# Type of Encryption\n",
    "enc_type_str = {\n",
    "    ts.ENCRYPTION_TYPE.SYMMETRIC : \"symmetric\", \n",
    "    ts.ENCRYPTION_TYPE.ASYMMETRIC : \"asymmetric\",\n",
    "}\n",
    "\n",
    "# Select Ecryption Scheme ( CKKS or BFV )\n",
    "scheme_str = {\n",
    "    ts.SCHEME_TYPE.CKKS : \"ckks\", \n",
    "    ts.SCHEME_TYPE.BFV : \"bfv\",\n",
    "}"
   ]
  },
  {
   "cell_type": "code",
   "execution_count": 4,
   "metadata": {},
   "outputs": [],
   "source": [
    "# Decrption Function\n",
    "def decrypt(enc):\n",
    "    return enc.decrypt()"
   ]
  },
  {
   "cell_type": "code",
   "execution_count": 5,
   "metadata": {},
   "outputs": [],
   "source": [
    "def calculate_entropy(data):\n",
    "    byteArr = array.array('B', data)\n",
    "    fileSize = len(byteArr)\n",
    "    #print(byteArr)\n",
    "    #print(\"\\n\")\n",
    "    \n",
    "    # calculate the frequency of each byte value in the file \n",
    "    \n",
    "    freqList = [] \n",
    "    for b in range(256): \n",
    "        ctr = 0 \n",
    "        for byte in byteArr: \n",
    "            if byte == b: \n",
    "                ctr += 1 \n",
    "        freqList.append(float(ctr) / fileSize) \n",
    "    #print(freqList)\n",
    "    \n",
    "    # Shannon entropy \n",
    "    \n",
    "    ent = 0.0 \n",
    "    for freq in freqList: \n",
    "        if freq > 0: \n",
    "            ent = ent + freq * math.log(freq, 2) \n",
    "    ent = -ent/8 \n",
    "    return ent"
   ]
  },
  {
   "cell_type": "code",
   "execution_count": 6,
   "metadata": {},
   "outputs": [],
   "source": [
    "def convert_mnist_to_csv(imgf, labelf, outf, n):\n",
    "    f = open(imgf, \"rb\")\n",
    "    o = open(outf, \"w\")\n",
    "    l = open(labelf, \"rb\")\n",
    "\n",
    "    f.read(16)\n",
    "    l.read(8)\n",
    "    images = []\n",
    "\n",
    "    for i in range(n):\n",
    "        image = [ord(l.read(1))]\n",
    "        for j in range(28*28):\n",
    "            image.append(ord(f.read(1)))\n",
    "        images.append(image)\n",
    "\n",
    "    for image in images:\n",
    "        o.write(\",\".join(str(pix) for pix in image)+\"\\n\")\n",
    "    f.close()\n",
    "    o.close()\n",
    "    l.close()\n",
    "convert_mnist_to_csv(\"t10k-images.idx3-ubyte\", \"t10k-labels.idx1-ubyte\",\n",
    "        \"mnist_test.csv\", 10000)"
   ]
  },
  {
   "cell_type": "code",
   "execution_count": 7,
   "metadata": {},
   "outputs": [
    {
     "data": {
      "text/html": [
       "<div>\n",
       "<style scoped>\n",
       "    .dataframe tbody tr th:only-of-type {\n",
       "        vertical-align: middle;\n",
       "    }\n",
       "\n",
       "    .dataframe tbody tr th {\n",
       "        vertical-align: top;\n",
       "    }\n",
       "\n",
       "    .dataframe thead th {\n",
       "        text-align: right;\n",
       "    }\n",
       "</style>\n",
       "<table border=\"1\" class=\"dataframe\">\n",
       "  <thead>\n",
       "    <tr style=\"text-align: right;\">\n",
       "      <th></th>\n",
       "      <th>7</th>\n",
       "      <th>0</th>\n",
       "      <th>0.1</th>\n",
       "      <th>0.2</th>\n",
       "      <th>0.3</th>\n",
       "      <th>0.4</th>\n",
       "      <th>0.5</th>\n",
       "      <th>0.6</th>\n",
       "      <th>0.7</th>\n",
       "      <th>0.8</th>\n",
       "      <th>...</th>\n",
       "      <th>0.658</th>\n",
       "      <th>0.659</th>\n",
       "      <th>0.660</th>\n",
       "      <th>0.661</th>\n",
       "      <th>0.662</th>\n",
       "      <th>0.663</th>\n",
       "      <th>0.664</th>\n",
       "      <th>0.665</th>\n",
       "      <th>0.666</th>\n",
       "      <th>0.667</th>\n",
       "    </tr>\n",
       "  </thead>\n",
       "  <tbody>\n",
       "    <tr>\n",
       "      <th>0</th>\n",
       "      <td>2</td>\n",
       "      <td>0</td>\n",
       "      <td>0</td>\n",
       "      <td>0</td>\n",
       "      <td>0</td>\n",
       "      <td>0</td>\n",
       "      <td>0</td>\n",
       "      <td>0</td>\n",
       "      <td>0</td>\n",
       "      <td>0</td>\n",
       "      <td>...</td>\n",
       "      <td>0</td>\n",
       "      <td>0</td>\n",
       "      <td>0</td>\n",
       "      <td>0</td>\n",
       "      <td>0</td>\n",
       "      <td>0</td>\n",
       "      <td>0</td>\n",
       "      <td>0</td>\n",
       "      <td>0</td>\n",
       "      <td>0</td>\n",
       "    </tr>\n",
       "    <tr>\n",
       "      <th>1</th>\n",
       "      <td>1</td>\n",
       "      <td>0</td>\n",
       "      <td>0</td>\n",
       "      <td>0</td>\n",
       "      <td>0</td>\n",
       "      <td>0</td>\n",
       "      <td>0</td>\n",
       "      <td>0</td>\n",
       "      <td>0</td>\n",
       "      <td>0</td>\n",
       "      <td>...</td>\n",
       "      <td>0</td>\n",
       "      <td>0</td>\n",
       "      <td>0</td>\n",
       "      <td>0</td>\n",
       "      <td>0</td>\n",
       "      <td>0</td>\n",
       "      <td>0</td>\n",
       "      <td>0</td>\n",
       "      <td>0</td>\n",
       "      <td>0</td>\n",
       "    </tr>\n",
       "    <tr>\n",
       "      <th>2</th>\n",
       "      <td>0</td>\n",
       "      <td>0</td>\n",
       "      <td>0</td>\n",
       "      <td>0</td>\n",
       "      <td>0</td>\n",
       "      <td>0</td>\n",
       "      <td>0</td>\n",
       "      <td>0</td>\n",
       "      <td>0</td>\n",
       "      <td>0</td>\n",
       "      <td>...</td>\n",
       "      <td>0</td>\n",
       "      <td>0</td>\n",
       "      <td>0</td>\n",
       "      <td>0</td>\n",
       "      <td>0</td>\n",
       "      <td>0</td>\n",
       "      <td>0</td>\n",
       "      <td>0</td>\n",
       "      <td>0</td>\n",
       "      <td>0</td>\n",
       "    </tr>\n",
       "    <tr>\n",
       "      <th>3</th>\n",
       "      <td>4</td>\n",
       "      <td>0</td>\n",
       "      <td>0</td>\n",
       "      <td>0</td>\n",
       "      <td>0</td>\n",
       "      <td>0</td>\n",
       "      <td>0</td>\n",
       "      <td>0</td>\n",
       "      <td>0</td>\n",
       "      <td>0</td>\n",
       "      <td>...</td>\n",
       "      <td>0</td>\n",
       "      <td>0</td>\n",
       "      <td>0</td>\n",
       "      <td>0</td>\n",
       "      <td>0</td>\n",
       "      <td>0</td>\n",
       "      <td>0</td>\n",
       "      <td>0</td>\n",
       "      <td>0</td>\n",
       "      <td>0</td>\n",
       "    </tr>\n",
       "    <tr>\n",
       "      <th>4</th>\n",
       "      <td>1</td>\n",
       "      <td>0</td>\n",
       "      <td>0</td>\n",
       "      <td>0</td>\n",
       "      <td>0</td>\n",
       "      <td>0</td>\n",
       "      <td>0</td>\n",
       "      <td>0</td>\n",
       "      <td>0</td>\n",
       "      <td>0</td>\n",
       "      <td>...</td>\n",
       "      <td>0</td>\n",
       "      <td>0</td>\n",
       "      <td>0</td>\n",
       "      <td>0</td>\n",
       "      <td>0</td>\n",
       "      <td>0</td>\n",
       "      <td>0</td>\n",
       "      <td>0</td>\n",
       "      <td>0</td>\n",
       "      <td>0</td>\n",
       "    </tr>\n",
       "  </tbody>\n",
       "</table>\n",
       "<p>5 rows × 785 columns</p>\n",
       "</div>"
      ],
      "text/plain": [
       "   7  0  0.1  0.2  0.3  0.4  0.5  0.6  0.7  0.8  ...  0.658  0.659  0.660  \\\n",
       "0  2  0    0    0    0    0    0    0    0    0  ...      0      0      0   \n",
       "1  1  0    0    0    0    0    0    0    0    0  ...      0      0      0   \n",
       "2  0  0    0    0    0    0    0    0    0    0  ...      0      0      0   \n",
       "3  4  0    0    0    0    0    0    0    0    0  ...      0      0      0   \n",
       "4  1  0    0    0    0    0    0    0    0    0  ...      0      0      0   \n",
       "\n",
       "   0.661  0.662  0.663  0.664  0.665  0.666  0.667  \n",
       "0      0      0      0      0      0      0      0  \n",
       "1      0      0      0      0      0      0      0  \n",
       "2      0      0      0      0      0      0      0  \n",
       "3      0      0      0      0      0      0      0  \n",
       "4      0      0      0      0      0      0      0  \n",
       "\n",
       "[5 rows x 785 columns]"
      ]
     },
     "execution_count": 7,
     "metadata": {},
     "output_type": "execute_result"
    }
   ],
   "source": [
    "import pandas as pd\n",
    "mnist = pd.read_csv('mnist_test.csv')\n",
    "mnist.head()"
   ]
  },
  {
   "cell_type": "code",
   "execution_count": 8,
   "metadata": {},
   "outputs": [
    {
     "data": {
      "text/html": [
       "<div>\n",
       "<style scoped>\n",
       "    .dataframe tbody tr th:only-of-type {\n",
       "        vertical-align: middle;\n",
       "    }\n",
       "\n",
       "    .dataframe tbody tr th {\n",
       "        vertical-align: top;\n",
       "    }\n",
       "\n",
       "    .dataframe thead th {\n",
       "        text-align: right;\n",
       "    }\n",
       "</style>\n",
       "<table border=\"1\" class=\"dataframe\">\n",
       "  <thead>\n",
       "    <tr style=\"text-align: right;\">\n",
       "      <th></th>\n",
       "      <th>0</th>\n",
       "      <th>0.1</th>\n",
       "      <th>0.2</th>\n",
       "      <th>0.3</th>\n",
       "      <th>0.4</th>\n",
       "      <th>0.5</th>\n",
       "      <th>0.6</th>\n",
       "      <th>0.7</th>\n",
       "      <th>0.8</th>\n",
       "      <th>0.9</th>\n",
       "      <th>...</th>\n",
       "      <th>0.658</th>\n",
       "      <th>0.659</th>\n",
       "      <th>0.660</th>\n",
       "      <th>0.661</th>\n",
       "      <th>0.662</th>\n",
       "      <th>0.663</th>\n",
       "      <th>0.664</th>\n",
       "      <th>0.665</th>\n",
       "      <th>0.666</th>\n",
       "      <th>0.667</th>\n",
       "    </tr>\n",
       "  </thead>\n",
       "  <tbody>\n",
       "    <tr>\n",
       "      <th>0</th>\n",
       "      <td>0</td>\n",
       "      <td>0</td>\n",
       "      <td>0</td>\n",
       "      <td>0</td>\n",
       "      <td>0</td>\n",
       "      <td>0</td>\n",
       "      <td>0</td>\n",
       "      <td>0</td>\n",
       "      <td>0</td>\n",
       "      <td>0</td>\n",
       "      <td>...</td>\n",
       "      <td>0</td>\n",
       "      <td>0</td>\n",
       "      <td>0</td>\n",
       "      <td>0</td>\n",
       "      <td>0</td>\n",
       "      <td>0</td>\n",
       "      <td>0</td>\n",
       "      <td>0</td>\n",
       "      <td>0</td>\n",
       "      <td>0</td>\n",
       "    </tr>\n",
       "    <tr>\n",
       "      <th>1</th>\n",
       "      <td>0</td>\n",
       "      <td>0</td>\n",
       "      <td>0</td>\n",
       "      <td>0</td>\n",
       "      <td>0</td>\n",
       "      <td>0</td>\n",
       "      <td>0</td>\n",
       "      <td>0</td>\n",
       "      <td>0</td>\n",
       "      <td>0</td>\n",
       "      <td>...</td>\n",
       "      <td>0</td>\n",
       "      <td>0</td>\n",
       "      <td>0</td>\n",
       "      <td>0</td>\n",
       "      <td>0</td>\n",
       "      <td>0</td>\n",
       "      <td>0</td>\n",
       "      <td>0</td>\n",
       "      <td>0</td>\n",
       "      <td>0</td>\n",
       "    </tr>\n",
       "    <tr>\n",
       "      <th>2</th>\n",
       "      <td>0</td>\n",
       "      <td>0</td>\n",
       "      <td>0</td>\n",
       "      <td>0</td>\n",
       "      <td>0</td>\n",
       "      <td>0</td>\n",
       "      <td>0</td>\n",
       "      <td>0</td>\n",
       "      <td>0</td>\n",
       "      <td>0</td>\n",
       "      <td>...</td>\n",
       "      <td>0</td>\n",
       "      <td>0</td>\n",
       "      <td>0</td>\n",
       "      <td>0</td>\n",
       "      <td>0</td>\n",
       "      <td>0</td>\n",
       "      <td>0</td>\n",
       "      <td>0</td>\n",
       "      <td>0</td>\n",
       "      <td>0</td>\n",
       "    </tr>\n",
       "    <tr>\n",
       "      <th>3</th>\n",
       "      <td>0</td>\n",
       "      <td>0</td>\n",
       "      <td>0</td>\n",
       "      <td>0</td>\n",
       "      <td>0</td>\n",
       "      <td>0</td>\n",
       "      <td>0</td>\n",
       "      <td>0</td>\n",
       "      <td>0</td>\n",
       "      <td>0</td>\n",
       "      <td>...</td>\n",
       "      <td>0</td>\n",
       "      <td>0</td>\n",
       "      <td>0</td>\n",
       "      <td>0</td>\n",
       "      <td>0</td>\n",
       "      <td>0</td>\n",
       "      <td>0</td>\n",
       "      <td>0</td>\n",
       "      <td>0</td>\n",
       "      <td>0</td>\n",
       "    </tr>\n",
       "    <tr>\n",
       "      <th>4</th>\n",
       "      <td>0</td>\n",
       "      <td>0</td>\n",
       "      <td>0</td>\n",
       "      <td>0</td>\n",
       "      <td>0</td>\n",
       "      <td>0</td>\n",
       "      <td>0</td>\n",
       "      <td>0</td>\n",
       "      <td>0</td>\n",
       "      <td>0</td>\n",
       "      <td>...</td>\n",
       "      <td>0</td>\n",
       "      <td>0</td>\n",
       "      <td>0</td>\n",
       "      <td>0</td>\n",
       "      <td>0</td>\n",
       "      <td>0</td>\n",
       "      <td>0</td>\n",
       "      <td>0</td>\n",
       "      <td>0</td>\n",
       "      <td>0</td>\n",
       "    </tr>\n",
       "  </tbody>\n",
       "</table>\n",
       "<p>5 rows × 784 columns</p>\n",
       "</div>"
      ],
      "text/plain": [
       "   0  0.1  0.2  0.3  0.4  0.5  0.6  0.7  0.8  0.9  ...  0.658  0.659  0.660  \\\n",
       "0  0    0    0    0    0    0    0    0    0    0  ...      0      0      0   \n",
       "1  0    0    0    0    0    0    0    0    0    0  ...      0      0      0   \n",
       "2  0    0    0    0    0    0    0    0    0    0  ...      0      0      0   \n",
       "3  0    0    0    0    0    0    0    0    0    0  ...      0      0      0   \n",
       "4  0    0    0    0    0    0    0    0    0    0  ...      0      0      0   \n",
       "\n",
       "   0.661  0.662  0.663  0.664  0.665  0.666  0.667  \n",
       "0      0      0      0      0      0      0      0  \n",
       "1      0      0      0      0      0      0      0  \n",
       "2      0      0      0      0      0      0      0  \n",
       "3      0      0      0      0      0      0      0  \n",
       "4      0      0      0      0      0      0      0  \n",
       "\n",
       "[5 rows x 784 columns]"
      ]
     },
     "execution_count": 8,
     "metadata": {},
     "output_type": "execute_result"
    }
   ],
   "source": [
    "mnist.drop(columns='7', inplace=True)\n",
    "mnist.head()"
   ]
  },
  {
   "cell_type": "code",
   "execution_count": 9,
   "metadata": {},
   "outputs": [
    {
     "data": {
      "image/png": "[encoded data removed]",
      "text/plain": [
       "<Figure size 432x288 with 1 Axes>"
      ]
     },
     "metadata": {
      "needs_background": "light"
     },
     "output_type": "display_data"
    }
   ],
   "source": [
    "import matplotlib.pyplot as plt\n",
    "\n",
    "second_image = mnist.iloc[1].values.reshape([28,28])\n",
    "plt.imshow(second_image, cmap='gray_r')\n",
    "plt.title('Second image: Digit 0', fontsize=15, pad=15)\n",
    "plt.savefig(\"Second image.png\")"
   ]
  },
  {
   "cell_type": "code",
   "execution_count": 10,
   "metadata": {},
   "outputs": [],
   "source": [
    "image_data = mnist.iloc[1].values.reshape([28,28])\n",
    "data =  ((second_image - np.min(second_image))/np.ptp(second_image)).flatten()\n",
    "network_data = pickle.dumps(data)"
   ]
  },
  {
   "cell_type": "code",
   "execution_count": 11,
   "metadata": {},
   "outputs": [],
   "source": [
    "enc_type = ts.ENCRYPTION_TYPE.ASYMMETRIC\n",
    "ct_size_benchmarks_ckks = [[\"Encryption Type\", \n",
    "                       \"Scheme Type\", \n",
    "                       \"Polynomial modulus\", \n",
    "                       \"Coefficient modulus sizes\", \n",
    "                       \"Precision\", \n",
    "                       \"Ciphertext serialized size\", \n",
    "                       \"Encryption increase ratio\",\n",
    "                       \"Bitstream Entrop\"\n",
    "                      ]]\n",
    "decryped_data = []"
   ]
  },
  {
   "cell_type": "code",
   "execution_count": 12,
   "metadata": {},
   "outputs": [],
   "source": [
    "test_parameters_ckks = [\n",
    "    (8192, [60, 40, 60], 40),\n",
    "    (8192, [40, 21, 21, 21, 21, 21, 21, 40], 40),\n",
    "    (8192, [40, 21, 21, 21, 21, 21, 21, 40], 21),\n",
    "    (8192, [40, 20, 40], 40),\n",
    "    (8192, [20, 20, 20], 38),\n",
    "    (8192, [60, 60], 38),\n",
    "    (8192, [40, 40], 38),\n",
    "    (8192, [17, 17], 15),\n",
    "    (4096, [40, 20, 40], 40),\n",
    "    (4096, [30, 20, 30], 40),\n",
    "    (4096, [20, 20, 20], 38),\n",
    "    (4096, [19, 19, 19], 35),\n",
    "    (4096, [18, 18, 18], 33),\n",
    "    (4096, [30, 30], 25),\n",
    "    (4096, [25, 25], 20),\n",
    "    (4096, [18, 18], 16),\n",
    "    (4096, [17, 17], 15),\n",
    "    (2048, [20, 20], 18),\n",
    "    (2048, [18, 18], 16),\n",
    "    (2048, [16, 16], 14),\n",
    "]"
   ]
  },
  {
   "cell_type": "code",
   "execution_count": 13,
   "metadata": {},
   "outputs": [
    {
     "name": "stdout",
     "output_type": "stream",
     "text": [
      "Plain data size in bytes 6.28 KB\n",
      "Entropy of Input data: 0.1376673401089162\n"
     ]
    },
    {
     "data": {
      "text/html": [
       "<table>\n",
       "<tbody>\n",
       "<tr><td>Encryption Type</td><td>Scheme Type</td><td>Polynomial modulus</td><td>Coefficient modulus sizes       </td><td>Precision</td><td>Ciphertext serialized size</td><td>Encryption increase ratio</td><td>Bitstream Entrop  </td></tr>\n",
       "<tr><td>asymmetric     </td><td>ckks       </td><td>8192              </td><td>[60, 40, 60]                    </td><td>2**40    </td><td>229.89 KB                 </td><td>36.62                    </td><td>0.9943348210991277</td></tr>\n",
       "<tr><td>asymmetric     </td><td>ckks       </td><td>8192              </td><td>[40, 21, 21, 21, 21, 21, 21, 40]</td><td>2**40    </td><td>427.51 KB                 </td><td>68.09                    </td><td>0.9985614060663973</td></tr>\n",
       "<tr><td>asymmetric     </td><td>ckks       </td><td>8192              </td><td>[40, 21, 21, 21, 21, 21, 21, 40]</td><td>2**21    </td><td>428.58 KB                 </td><td>68.26                    </td><td>0.9986336781892159</td></tr>\n",
       "<tr><td>asymmetric     </td><td>ckks       </td><td>8192              </td><td>[40, 20, 40]                    </td><td>2**40    </td><td>153.17 KB                 </td><td>24.4                     </td><td>0.9952288728203138</td></tr>\n",
       "<tr><td>asymmetric     </td><td>ckks       </td><td>8192              </td><td>[20, 20, 20]                    </td><td>2**38    </td><td>104.49 KB                 </td><td>16.64                    </td><td>0.9984470054093176</td></tr>\n",
       "<tr><td>asymmetric     </td><td>ckks       </td><td>8192              </td><td>[60, 60]                        </td><td>2**38    </td><td>128.13 KB                 </td><td>20.41                    </td><td>0.9851417064258624</td></tr>\n",
       "<tr><td>asymmetric     </td><td>ckks       </td><td>8192              </td><td>[40, 40]                        </td><td>2**38    </td><td>92.18 KB                  </td><td>14.68                    </td><td>0.9982071643065507</td></tr>\n",
       "<tr><td>asymmetric     </td><td>ckks       </td><td>8192              </td><td>[17, 17]                        </td><td>2**15    </td><td>37.96 KB                  </td><td>6.05                     </td><td>0.9931232914276996</td></tr>\n",
       "<tr><td>asymmetric     </td><td>ckks       </td><td>4096              </td><td>[40, 20, 40]                    </td><td>2**40    </td><td>79.08 KB                  </td><td>12.59                    </td><td>0.9946308338039509</td></tr>\n",
       "<tr><td>asymmetric     </td><td>ckks       </td><td>4096              </td><td>[30, 20, 30]                    </td><td>2**40    </td><td>66.35 KB                  </td><td>10.57                    </td><td>0.999191246919976 </td></tr>\n",
       "<tr><td>asymmetric     </td><td>ckks       </td><td>4096              </td><td>[20, 20, 20]                    </td><td>2**38    </td><td>53.28 KB                  </td><td>8.49                     </td><td>0.9989168036447047</td></tr>\n",
       "<tr><td>asymmetric     </td><td>ckks       </td><td>4096              </td><td>[19, 19, 19]                    </td><td>2**35    </td><td>49.84 KB                  </td><td>7.94                     </td><td>0.9957570268801152</td></tr>\n",
       "<tr><td>asymmetric     </td><td>ckks       </td><td>4096              </td><td>[18, 18, 18]                    </td><td>2**33    </td><td>46.99 KB                  </td><td>7.48                     </td><td>0.997554120954852 </td></tr>\n",
       "<tr><td>asymmetric     </td><td>ckks       </td><td>4096              </td><td>[30, 30]                        </td><td>2**25    </td><td>34.23 KB                  </td><td>5.45                     </td><td>0.9901151007684861</td></tr>\n",
       "<tr><td>asymmetric     </td><td>ckks       </td><td>4096              </td><td>[25, 25]                        </td><td>2**20    </td><td>30.68 KB                  </td><td>4.89                     </td><td>0.9973403159144846</td></tr>\n",
       "<tr><td>asymmetric     </td><td>ckks       </td><td>4096              </td><td>[18, 18]                        </td><td>2**16    </td><td>23.78 KB                  </td><td>3.79                     </td><td>0.9948328330349384</td></tr>\n",
       "<tr><td>asymmetric     </td><td>ckks       </td><td>4096              </td><td>[17, 17]                        </td><td>2**15    </td><td>18.93 KB                  </td><td>3.02                     </td><td>0.9863797615115849</td></tr>\n",
       "<tr><td>asymmetric     </td><td>ckks       </td><td>2048              </td><td>[20, 20]                        </td><td>2**18    </td><td>13.12 KB                  </td><td>2.09                     </td><td>0.997709889771448 </td></tr>\n",
       "<tr><td>asymmetric     </td><td>ckks       </td><td>2048              </td><td>[18, 18]                        </td><td>2**16    </td><td>12.03 KB                  </td><td>1.92                     </td><td>0.9977571183614835</td></tr>\n",
       "<tr><td>asymmetric     </td><td>ckks       </td><td>2048              </td><td>[16, 16]                        </td><td>2**14    </td><td>9.35 KB                   </td><td>1.49                     </td><td>0.997119699076801 </td></tr>\n",
       "</tbody>\n",
       "</table>"
      ],
      "text/plain": [
       "<IPython.core.display.HTML object>"
      ]
     },
     "metadata": {},
     "output_type": "display_data"
    }
   ],
   "source": [
    "for (poly_mod, coeff_mod_bit_sizes, prec) in test_parameters_ckks:\n",
    "    context = ts.context(\n",
    "        scheme=ts.SCHEME_TYPE.CKKS,\n",
    "        poly_modulus_degree=poly_mod,\n",
    "        coeff_mod_bit_sizes=coeff_mod_bit_sizes,\n",
    "        encryption_type=enc_type,\n",
    "    )\n",
    "    scale = 2 ** prec\n",
    "    ckks_vec = ts.ckks_vector(context, data, scale)\n",
    "\n",
    "    enc_network_data = ckks_vec.serialize()\n",
    "    ct_size_benchmarks_ckks.append([enc_type_str[enc_type], \n",
    "                               scheme_str[ts.SCHEME_TYPE.CKKS], \n",
    "                               poly_mod, coeff_mod_bit_sizes, \n",
    "                               \"2**{}\".format(prec),\n",
    "                               convert_size(len(enc_network_data)), \n",
    "                               round(len(enc_network_data) / len(network_data), 2),\n",
    "                               str(calculate_entropy(enc_network_data))\n",
    "                              ])\n",
    "    decryped_data.append(decrypt(ckks_vec))\n",
    "\n",
    "print(\"Plain data size in bytes {}\".format(convert_size(len(network_data))))\n",
    "print(\"Entropy of Input data: \" + str(calculate_entropy(network_data))) \n",
    "display(HTML(tabulate.tabulate(ct_size_benchmarks_ckks, tablefmt='html')))"
   ]
  },
  {
   "cell_type": "code",
   "execution_count": 14,
   "metadata": {},
   "outputs": [
    {
     "data": {
      "text/plain": [
       "Text(0, 0.5, 'Explained variance')"
      ]
     },
     "execution_count": 14,
     "metadata": {},
     "output_type": "execute_result"
    },
    {
     "data": {
      "image/png": "[encoded data removed]",
      "text/plain": [
       "<Figure size 432x288 with 1 Axes>"
      ]
     },
     "metadata": {
      "needs_background": "light"
     },
     "output_type": "display_data"
    }
   ],
   "source": [
    "import numpy as np\n",
    "from sklearn.decomposition import PCA\n",
    "\n",
    "pca_784 = PCA(n_components=784)\n",
    "pca_784.fit(mnist)\n",
    "\n",
    "plt.grid()\n",
    "plt.plot(np.cumsum(pca_784.explained_variance_ratio_ * 100))\n",
    "plt.xlabel('Number of components')\n",
    "plt.ylabel('Explained variance')"
   ]
  },
  {
   "cell_type": "code",
   "execution_count": 15,
   "metadata": {},
   "outputs": [
    {
     "data": {
      "text/plain": [
       "Text(0.5, 1.0, 'Compressed image with 184 components')"
      ]
     },
     "execution_count": 15,
     "metadata": {},
     "output_type": "execute_result"
    },
    {
     "data": {
      "image/png": "[encoded data removed]",
      "text/plain": [
       "<Figure size 432x288 with 1 Axes>"
      ]
     },
     "metadata": {
      "needs_background": "light"
     },
     "output_type": "display_data"
    }
   ],
   "source": [
    "pca_184 = PCA(n_components=184)\n",
    "mnist_pca_184_reduced = pca_184.fit_transform(mnist)\n",
    "mnist_pca_184_recovered = pca_184.inverse_transform(mnist_pca_184_reduced)\n",
    "\n",
    "image_pca_184 = mnist_pca_184_recovered[1,:].reshape([28,28])\n",
    "plt.imshow(image_pca_184, cmap='gray_r')\n",
    "plt.title('Compressed image with 184 components', fontsize=15, pad=15)"
   ]
  },
  {
   "cell_type": "code",
   "execution_count": 16,
   "metadata": {},
   "outputs": [
    {
     "data": {
      "text/plain": [
       "96.31809007775676"
      ]
     },
     "execution_count": 16,
     "metadata": {},
     "output_type": "execute_result"
    }
   ],
   "source": [
    "np.cumsum(pca_184.explained_variance_ratio_ * 100)[-1]"
   ]
  },
  {
   "cell_type": "code",
   "execution_count": 17,
   "metadata": {},
   "outputs": [],
   "source": [
    "com_second_image = mnist_pca_184_reduced[1]\n",
    "com_data =  (com_second_image - np.min(com_second_image))/np.ptp(com_second_image).flatten()\n",
    "com_network_data = pickle.dumps(com_data)\n",
    "\n",
    "com_ct_size_benchmarks_ckks = [[\"Encryption Type\", \n",
    "                       \"Scheme Type\", \n",
    "                       \"Polynomial modulus\", \n",
    "                       \"Coefficient modulus sizes\", \n",
    "                       \"Precision\", \n",
    "                       \"Ciphertext serialized size\", \n",
    "                       \"Encryption increase ratio\",\n",
    "                       \"Bitstream Entropy\"\n",
    "                      ]]\n",
    "com_decryped_data = []"
   ]
  },
  {
   "cell_type": "code",
   "execution_count": 18,
   "metadata": {},
   "outputs": [
    {
     "name": "stdout",
     "output_type": "stream",
     "text": [
      "Plain data size in bytes 1.59 KB\n",
      "Entropy of Compressed Data: 0.9019555882709982\n"
     ]
    },
    {
     "data": {
      "text/html": [
       "<table>\n",
       "<tbody>\n",
       "<tr><td>Encryption Type</td><td>Scheme Type</td><td>Polynomial modulus</td><td>Coefficient modulus sizes       </td><td>Precision</td><td>Ciphertext serialized size</td><td>Encryption increase ratio</td><td>Bitstream Entropy </td></tr>\n",
       "<tr><td>asymmetric     </td><td>ckks       </td><td>8192              </td><td>[60, 40, 60]                    </td><td>2**40    </td><td>229.87 KB                 </td><td>144.58                   </td><td>0.9944109999627816</td></tr>\n",
       "<tr><td>asymmetric     </td><td>ckks       </td><td>8192              </td><td>[40, 21, 21, 21, 21, 21, 21, 40]</td><td>2**40    </td><td>427.17 KB                 </td><td>268.69                   </td><td>0.9985392092959701</td></tr>\n",
       "<tr><td>asymmetric     </td><td>ckks       </td><td>8192              </td><td>[40, 21, 21, 21, 21, 21, 21, 40]</td><td>2**21    </td><td>427.93 KB                 </td><td>269.16                   </td><td>0.9985673852823792</td></tr>\n",
       "<tr><td>asymmetric     </td><td>ckks       </td><td>8192              </td><td>[40, 20, 40]                    </td><td>2**40    </td><td>154.28 KB                 </td><td>97.04                    </td><td>0.9957436408596443</td></tr>\n",
       "<tr><td>asymmetric     </td><td>ckks       </td><td>8192              </td><td>[20, 20, 20]                    </td><td>2**38    </td><td>104.4 KB                  </td><td>65.66                    </td><td>0.9986413970121786</td></tr>\n",
       "<tr><td>asymmetric     </td><td>ckks       </td><td>8192              </td><td>[60, 60]                        </td><td>2**38    </td><td>128.13 KB                 </td><td>80.6                     </td><td>0.9852941468642266</td></tr>\n",
       "<tr><td>asymmetric     </td><td>ckks       </td><td>8192              </td><td>[40, 40]                        </td><td>2**38    </td><td>92.14 KB                  </td><td>57.95                    </td><td>0.9981755043867908</td></tr>\n",
       "<tr><td>asymmetric     </td><td>ckks       </td><td>8192              </td><td>[17, 17]                        </td><td>2**15    </td><td>37.44 KB                  </td><td>23.55                    </td><td>0.9959377726252306</td></tr>\n",
       "<tr><td>asymmetric     </td><td>ckks       </td><td>4096              </td><td>[40, 20, 40]                    </td><td>2**40    </td><td>79.08 KB                  </td><td>49.74                    </td><td>0.9943207364440787</td></tr>\n",
       "<tr><td>asymmetric     </td><td>ckks       </td><td>4096              </td><td>[30, 20, 30]                    </td><td>2**40    </td><td>66.36 KB                  </td><td>41.74                    </td><td>0.9992759990567874</td></tr>\n",
       "<tr><td>asymmetric     </td><td>ckks       </td><td>4096              </td><td>[20, 20, 20]                    </td><td>2**38    </td><td>53.56 KB                  </td><td>33.69                    </td><td>0.9988847251569037</td></tr>\n",
       "<tr><td>asymmetric     </td><td>ckks       </td><td>4096              </td><td>[19, 19, 19]                    </td><td>2**35    </td><td>49.82 KB                  </td><td>31.34                    </td><td>0.9957704840494052</td></tr>\n",
       "<tr><td>asymmetric     </td><td>ckks       </td><td>4096              </td><td>[18, 18, 18]                    </td><td>2**33    </td><td>47.04 KB                  </td><td>29.59                    </td><td>0.9974206539741944</td></tr>\n",
       "<tr><td>asymmetric     </td><td>ckks       </td><td>4096              </td><td>[30, 30]                        </td><td>2**25    </td><td>34.25 KB                  </td><td>21.55                    </td><td>0.9907641513019703</td></tr>\n",
       "<tr><td>asymmetric     </td><td>ckks       </td><td>4096              </td><td>[25, 25]                        </td><td>2**20    </td><td>30.75 KB                  </td><td>19.34                    </td><td>0.9974339724649074</td></tr>\n",
       "<tr><td>asymmetric     </td><td>ckks       </td><td>4096              </td><td>[18, 18]                        </td><td>2**16    </td><td>23.74 KB                  </td><td>14.93                    </td><td>0.9946925725222678</td></tr>\n",
       "<tr><td>asymmetric     </td><td>ckks       </td><td>4096              </td><td>[17, 17]                        </td><td>2**15    </td><td>19.06 KB                  </td><td>11.99                    </td><td>0.9984920903099818</td></tr>\n",
       "<tr><td>asymmetric     </td><td>ckks       </td><td>2048              </td><td>[20, 20]                        </td><td>2**18    </td><td>13.15 KB                  </td><td>8.27                     </td><td>0.997927742919299 </td></tr>\n",
       "<tr><td>asymmetric     </td><td>ckks       </td><td>2048              </td><td>[18, 18]                        </td><td>2**16    </td><td>12.09 KB                  </td><td>7.61                     </td><td>0.9976924563237582</td></tr>\n",
       "<tr><td>asymmetric     </td><td>ckks       </td><td>2048              </td><td>[16, 16]                        </td><td>2**14    </td><td>9.27 KB                   </td><td>5.83                     </td><td>0.9974272556514246</td></tr>\n",
       "</tbody>\n",
       "</table>"
      ],
      "text/plain": [
       "<IPython.core.display.HTML object>"
      ]
     },
     "metadata": {},
     "output_type": "display_data"
    }
   ],
   "source": [
    "for (poly_mod, coeff_mod_bit_sizes, prec) in test_parameters_ckks:\n",
    "    context = ts.context(\n",
    "        scheme=ts.SCHEME_TYPE.CKKS,\n",
    "        poly_modulus_degree=poly_mod,\n",
    "        coeff_mod_bit_sizes=coeff_mod_bit_sizes,\n",
    "        encryption_type=enc_type,\n",
    "    )\n",
    "    scale = 2 ** prec\n",
    "    com_ckks_vec = ts.ckks_vector(context, com_data, scale)\n",
    "\n",
    "    com_enc_network_data = com_ckks_vec.serialize()\n",
    "    com_ct_size_benchmarks_ckks.append([enc_type_str[enc_type], \n",
    "                               scheme_str[ts.SCHEME_TYPE.CKKS], \n",
    "                               poly_mod, coeff_mod_bit_sizes, \n",
    "                               \"2**{}\".format(prec),\n",
    "                               convert_size(len(com_enc_network_data)), \n",
    "                               round(len(com_enc_network_data) / len(com_network_data), 2),\n",
    "                               str(calculate_entropy(com_enc_network_data))\n",
    "                              ])\n",
    "    com_decryped_data.append(decrypt(com_ckks_vec))\n",
    "\n",
    "print(\"Plain data size in bytes {}\".format(convert_size(len(com_network_data))))\n",
    "print(\"Entropy of Compressed Data: \" + str(calculate_entropy(com_network_data))) \n",
    "display(HTML(tabulate.tabulate(com_ct_size_benchmarks_ckks, tablefmt='html')))"
   ]
  },
  {
   "cell_type": "code",
   "execution_count": null,
   "metadata": {},
   "outputs": [],
   "source": []
  },
  {
   "cell_type": "code",
   "execution_count": null,
   "metadata": {},
   "outputs": [],
   "source": []
  }
 ],
 "metadata": {
  "kernelspec": {
   "display_name": "tenseal",
   "language": "python",
   "name": "tenseal"
  },
  "language_info": {
   "codemirror_mode": {
    "name": "ipython",
    "version": 3
   },
   "file_extension": ".py",
   "mimetype": "text/x-python",
   "name": "python",
   "nbconvert_exporter": "python",
   "pygments_lexer": "ipython3",
   "version": "3.7.11"
  }
 },
 "nbformat": 4,
 "nbformat_minor": 5
}
