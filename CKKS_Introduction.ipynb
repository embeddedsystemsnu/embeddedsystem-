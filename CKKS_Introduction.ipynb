{
 "cells": [
  {
   "cell_type": "markdown",
   "id": "f70a3caf",
   "metadata": {},
   "source": [
    "## CKKS Scheme"
   ]
  },
  {
   "cell_type": "code",
   "execution_count": 2,
   "id": "7eabd1f2",
   "metadata": {},
   "outputs": [
    {
     "name": "stdout",
     "output_type": "stream",
     "text": [
      "The global_scale isn't defined yet\n",
      "global_scale: 1048576.0\n"
     ]
    }
   ],
   "source": [
    "# this should throw an error as the global_scale isn't defined yet\n",
    "try:\n",
    "    print(\"global_scale:\", context.global_scale)\n",
    "except ValueError:\n",
    "    print(\"The global_scale isn't defined yet\")\n",
    "    \n",
    "# you can define it to 2 ** 20 for instance\n",
    "context.global_scale = 2 ** 20\n",
    "print(\"global_scale:\", context.global_scale)"
   ]
  },
  {
   "cell_type": "code",
   "execution_count": 3,
   "id": "84e8aab8",
   "metadata": {},
   "outputs": [
    {
     "data": {
      "text/plain": [
       "<tenseal.enc_context.Context at 0x7fc7c83f3310>"
      ]
     },
     "execution_count": 3,
     "metadata": {},
     "output_type": "execute_result"
    }
   ],
   "source": [
    "import tenseal as ts\n",
    "\n",
    "# Setup TenSEAL context\n",
    "context = ts.context(\n",
    "            ts.SCHEME_TYPE.CKKS,\n",
    "            poly_modulus_degree=8192,\n",
    "            coeff_mod_bit_sizes=[60, 40, 40, 60]\n",
    "          )\n",
    "context"
   ]
  },
  {
   "cell_type": "code",
   "execution_count": 4,
   "id": "b38f8510",
   "metadata": {},
   "outputs": [
    {
     "name": "stdout",
     "output_type": "stream",
     "text": [
      "global_scale: 1099511627776.0\n"
     ]
    }
   ],
   "source": [
    "context.generate_galois_keys()\n",
    "context.global_scale = 2**40\n",
    "print(\"global_scale:\", context.global_scale)"
   ]
  },
  {
   "cell_type": "code",
   "execution_count": 5,
   "id": "de527b49",
   "metadata": {},
   "outputs": [],
   "source": [
    "v1 = [0, 1, 2, 3, 4]\n",
    "v2 = [4, 3, 2, 1, 0]\n",
    "\n",
    "# encrypted vectors\n",
    "enc_v1 = ts.ckks_vector(context, v1)\n",
    "enc_v2 = ts.ckks_vector(context, v2)"
   ]
  },
  {
   "cell_type": "code",
   "execution_count": 6,
   "id": "3c38c5f7",
   "metadata": {
    "scrolled": true
   },
   "outputs": [
    {
     "name": "stdout",
     "output_type": "stream",
     "text": [
      "[3.999999995603078, 4.000000000713544, 4.000000001337283, 4.000000000178163, 4.000000000169062]\n"
     ]
    }
   ],
   "source": [
    "result = enc_v1 + enc_v2\n",
    "print(result.decrypt())"
   ]
  },
  {
   "cell_type": "code",
   "execution_count": 7,
   "id": "57ba927e",
   "metadata": {},
   "outputs": [
    {
     "name": "stdout",
     "output_type": "stream",
     "text": [
      "[10.000002432731359]\n"
     ]
    }
   ],
   "source": [
    "result = enc_v1.dot(enc_v2)\n",
    "print(result.decrypt())"
   ]
  },
  {
   "cell_type": "code",
   "execution_count": 8,
   "id": "ab77d581",
   "metadata": {},
   "outputs": [
    {
     "name": "stdout",
     "output_type": "stream",
     "text": [
      "[157.00002111403685, -90.00001203066218, 153.00002055522464]\n"
     ]
    }
   ],
   "source": [
    "matrix = [\n",
    "  [  73,  0.5,   8],\n",
    "  [  81,   -5,  66],\n",
    "  [-100,  -78,  -2],\n",
    "  [   0,    9,  17],\n",
    "  [  69,   11,  10],\n",
    "]\n",
    "\n",
    "result = enc_v1.matmul(matrix)\n",
    "print(result.decrypt())"
   ]
  },
  {
   "cell_type": "code",
   "execution_count": 9,
   "id": "c70c76f8",
   "metadata": {},
   "outputs": [],
   "source": [
    "import torch\n",
    "from torchvision import transforms\n",
    "from random import randint\n",
    "import pickle\n",
    "from PIL import Image\n",
    "import numpy as np\n",
    "from matplotlib.pyplot import imshow\n",
    "from typing import Dict\n",
    "\n",
    "import tenseal as ts"
   ]
  },
  {
   "cell_type": "code",
   "execution_count": 74,
   "id": "cc9c1ca7",
   "metadata": {},
   "outputs": [],
   "source": [
    "def context():\n",
    "    context = ts.context(ts.SCHEME_TYPE.CKKS, 8192, coeff_mod_bit_sizes=[60, 40, 40, 60])\n",
    "    context.global_scale = pow(2, 40)\n",
    "    context.generate_galois_keys()\n",
    "    return context\n",
    "\n",
    "context = context()"
   ]
  },
  {
   "cell_type": "code",
   "execution_count": 11,
   "id": "45edd8fa",
   "metadata": {},
   "outputs": [
    {
     "name": "stdout",
     "output_type": "stream",
     "text": [
      " First tensor: Shape = [2, 2] Data = [[1.0, 2.0], [3.0, 4.0]]\n",
      " Second tensor: Shape = [2, 2] Data = [[5.0, 6.0], [7.0, 8.0]]\n"
     ]
    }
   ],
   "source": [
    "plain1 = ts.plain_tensor([1,2,3,4], [2,2])\n",
    "\n",
    "print(\" First tensor: Shape = {} Data = {}\".format(plain1.shape, plain1.tolist()))\n",
    "\n",
    "plain2 = ts.plain_tensor(np.array([5,6,7,8]).reshape(2,2))\n",
    "print(\" Second tensor: Shape = {} Data = {}\".format(plain2.shape, plain2.tolist()))"
   ]
  },
  {
   "cell_type": "code",
   "execution_count": 12,
   "id": "8c5ebe6c",
   "metadata": {},
   "outputs": [
    {
     "name": "stdout",
     "output_type": "stream",
     "text": [
      " Shape = [2, 2]\n",
      " Encrypted Data = <tenseal.tensors.ckkstensor.CKKSTensor object at 0x7fc77c8a6c10>.\n",
      " Shape = [2, 2]\n"
     ]
    }
   ],
   "source": [
    "encrypted_tensor1 = ts.ckks_tensor(context, plain1)\n",
    "encrypted_tensor2 = ts.ckks_tensor(context, plain2)\n",
    "\n",
    "print(\" Shape = {}\".format(encrypted_tensor1.shape))\n",
    "print(\" Encrypted Data = {}.\".format(encrypted_tensor1))\n",
    "\n",
    "\n",
    "encrypted_tensor_from_np = ts.ckks_tensor(context, np.array([5,6,7,8]).reshape([2,2]))\n",
    "print(\" Shape = {}\".format(encrypted_tensor_from_np.shape))"
   ]
  },
  {
   "cell_type": "code",
   "execution_count": 13,
   "id": "38dbb0d7",
   "metadata": {},
   "outputs": [],
   "source": [
    "def decrypt(enc):\n",
    "    return enc.decrypt().tolist()"
   ]
  },
  {
   "cell_type": "code",
   "execution_count": 14,
   "id": "d5e94400",
   "metadata": {},
   "outputs": [
    {
     "name": "stdout",
     "output_type": "stream",
     "text": [
      "Plain equivalent: [[1.0, 2.0], [3.0, 4.0]] + [[5.0, 6.0], [7.0, 8.0]]\n",
      "Decrypted result: [[6.000000000039379, 7.999999999362373], [9.99999999955967, 12.000000000077229]].\n"
     ]
    }
   ],
   "source": [
    "result = encrypted_tensor1 + encrypted_tensor2\n",
    "print(\"Plain equivalent: {} + {}\\nDecrypted result: {}.\".format(plain1.tolist(), plain2.tolist(), decrypt(result)))"
   ]
  },
  {
   "cell_type": "code",
   "execution_count": 15,
   "id": "51baaf04",
   "metadata": {},
   "outputs": [
    {
     "name": "stdout",
     "output_type": "stream",
     "text": [
      "Plain equivalent: [[1.0, 2.0], [3.0, 4.0]] - [[5.0, 6.0], [7.0, 8.0]]\n",
      "Decrypted result: [[-3.9999999995520876, -4.000000000433112], [-3.9999999997084887, -3.99999999979783]].\n"
     ]
    }
   ],
   "source": [
    "result = encrypted_tensor1 - encrypted_tensor2\n",
    "print(\"Plain equivalent: {} - {}\\nDecrypted result: {}.\".format(plain1.tolist(), plain2.tolist(), decrypt(result)))"
   ]
  },
  {
   "cell_type": "code",
   "execution_count": 16,
   "id": "fa4b4b02",
   "metadata": {},
   "outputs": [
    {
     "name": "stdout",
     "output_type": "stream",
     "text": [
      "Plain equivalent: [[1.0, 2.0], [3.0, 4.0]] * [[5.0, 6.0], [7.0, 8.0]]\n",
      "Decrypted result: [[5.000000671480139, 12.000001605212546], [21.000002814536774, 32.00000429271307]].\n"
     ]
    }
   ],
   "source": [
    "result = encrypted_tensor1 * encrypted_tensor2\n",
    "print(\"Plain equivalent: {} * {}\\nDecrypted result: {}.\".format(plain1.tolist(), plain2.tolist(), decrypt(result)))"
   ]
  },
  {
   "cell_type": "code",
   "execution_count": 17,
   "id": "4e095f66",
   "metadata": {},
   "outputs": [
    {
     "name": "stdout",
     "output_type": "stream",
     "text": [
      "Plain equivalent: [[1.0, 2.0], [3.0, 4.0]] * [[5.0, 6.0], [7.0, 8.0]]\n",
      "Decrypted result: [[5.000000672140737, 12.000001605640215], [21.00000281658246, 32.00000429214441]].\n"
     ]
    }
   ],
   "source": [
    "plain = ts.plain_tensor([5,6,7,8], [2,2])\n",
    "result = encrypted_tensor1 * plain\n",
    "\n",
    "print(\"Plain equivalent: {} * {}\\nDecrypted result: {}.\".format(plain1.tolist(), plain.tolist(), decrypt(result)))"
   ]
  },
  {
   "cell_type": "code",
   "execution_count": 18,
   "id": "c601b789",
   "metadata": {},
   "outputs": [
    {
     "name": "stdout",
     "output_type": "stream",
     "text": [
      "Plain equivalent: -[[1.0, 2.0], [3.0, 4.0]]\n",
      "Decrypted result: [[-1.0000000002436458, -1.9999999994646303], [-2.99999999992559, -4.000000000139699]].\n"
     ]
    }
   ],
   "source": [
    "result = -encrypted_tensor1 \n",
    "\n",
    "print(\"Plain equivalent: -{}\\nDecrypted result: {}.\".format(plain1.tolist(), decrypt(result)))"
   ]
  },
  {
   "cell_type": "code",
   "execution_count": 19,
   "id": "c3c4347e",
   "metadata": {},
   "outputs": [
    {
     "name": "stdout",
     "output_type": "stream",
     "text": [
      "Plain equivalent: [[1.0, 2.0], [3.0, 4.0]] ^ 3\n",
      "Decrypted result: [[1.0000008049443354, 8.000006430286314], [27.00002172329472, 64.00005150462951]].\n"
     ]
    }
   ],
   "source": [
    "result = encrypted_tensor1 ** 3\n",
    "print(\"Plain equivalent: {} ^ 3\\nDecrypted result: {}.\".format(plain1.tolist(), decrypt(result)))"
   ]
  },
  {
   "cell_type": "code",
   "execution_count": 20,
   "id": "a799a925",
   "metadata": {},
   "outputs": [
    {
     "name": "stdout",
     "output_type": "stream",
     "text": [
      "X = [[1.0, 2.0], [3.0, 4.0]]\n",
      "1 + X^2 + X^3 = [[3.000000938308724, 13.000006964338594], [37.00002292978027, 81.00005365123276]].\n"
     ]
    }
   ],
   "source": [
    "result = encrypted_tensor1.polyval([1,0,1,1])\n",
    "\n",
    "print(\"X = {}\".format(plain1.tolist()))\n",
    "print(\"1 + X^2 + X^3 = {}.\".format(decrypt(result)))"
   ]
  },
  {
   "cell_type": "code",
   "execution_count": 21,
   "id": "0cc17ba7",
   "metadata": {},
   "outputs": [
    {
     "name": "stdout",
     "output_type": "stream",
     "text": [
      "X = [[1.0, 2.0], [3.0, 4.0]]\n",
      "0.5 + 0.197 X - 0.004 x^X = [[0.6930000231493176, 0.8620000218942098], [0.9829999743629149, 1.0319998709409617]].\n"
     ]
    }
   ],
   "source": [
    "result = encrypted_tensor1.polyval([0.5, 0.197, 0, -0.004])\n",
    "\n",
    "\n",
    "print(\"X = {}\".format(plain1.tolist()))\n",
    "print(\"0.5 + 0.197 X - 0.004 x^X = {}.\".format(decrypt(result)))"
   ]
  },
  {
   "cell_type": "code",
   "execution_count": null,
   "id": "297e9ff1",
   "metadata": {},
   "outputs": [],
   "source": []
  },
  {
   "cell_type": "markdown",
   "id": "44958038",
   "metadata": {},
   "source": [
    "## Test CKKS parameters "
   ]
  },
  {
   "cell_type": "code",
   "execution_count": 47,
   "id": "3f2f813e",
   "metadata": {},
   "outputs": [],
   "source": [
    "import tenseal as ts\n",
    "import tenseal.sealapi as seal\n",
    "import random\n",
    "import pickle\n",
    "import numpy as np\n",
    "import struct\n",
    "import sys\n",
    "import math\n",
    "import array\n",
    "from IPython.display import HTML, display\n",
    "import tabulate\n",
    "import pytest"
   ]
  },
  {
   "cell_type": "code",
   "execution_count": 48,
   "id": "f3d8ac95",
   "metadata": {},
   "outputs": [],
   "source": [
    "def convert_size(size_bytes):\n",
    "    if size_bytes == 0:\n",
    "        return \"0B\"\n",
    "    size_name = (\"B\", \"KB\", \"MB\", \"GB\", \"TB\", \"PB\", \"EB\", \"ZB\", \"YB\")\n",
    "    i = int(math.floor(math.log(size_bytes, 1024)))\n",
    "    p = math.pow(1024, i)\n",
    "    s = round(size_bytes / p, 2)\n",
    "    return \"%s %s\" % (s, size_name[i])\n",
    "\n",
    "# Type of Encryption\n",
    "enc_type_str = {\n",
    "    ts.ENCRYPTION_TYPE.SYMMETRIC : \"symmetric\", \n",
    "    ts.ENCRYPTION_TYPE.ASYMMETRIC : \"asymmetric\",\n",
    "}\n",
    "\n",
    "# Select Ecryption Scheme ( CKKS or BFV )\n",
    "scheme_str = {\n",
    "    ts.SCHEME_TYPE.CKKS : \"ckks\", \n",
    "    ts.SCHEME_TYPE.BFV : \"bfv\",\n",
    "}\n",
    "\n",
    "def decrypt(enc):\n",
    "    return enc.decrypt()"
   ]
  },
  {
   "cell_type": "markdown",
   "id": "a9488722",
   "metadata": {},
   "source": [
    "## size of the context, depending on the input parameters."
   ]
  },
  {
   "cell_type": "code",
   "execution_count": 49,
   "id": "05d31d78",
   "metadata": {},
   "outputs": [
    {
     "data": {
      "text/html": [
       "<table>\n",
       "<tbody>\n",
       "<tr><td>Encryption Type</td><td>Scheme Type</td><td>Polynomial modulus</td><td>Coefficient modulus sizes</td><td>Saved keys </td><td>Context serialized size</td></tr>\n",
       "<tr><td>symmetric      </td><td>ckks       </td><td>8192              </td><td>[40, 20, 40]             </td><td>all        </td><td>124.88 KB              </td></tr>\n",
       "<tr><td>symmetric      </td><td>ckks       </td><td>8192              </td><td>[40, 20, 40]             </td><td>Secret key </td><td>124.88 KB              </td></tr>\n",
       "<tr><td>symmetric      </td><td>ckks       </td><td>8192              </td><td>[40, 20, 40]             </td><td>Galois keys</td><td>11.89 MB               </td></tr>\n",
       "<tr><td>symmetric      </td><td>ckks       </td><td>8192              </td><td>[40, 20, 40]             </td><td>Relin keys </td><td>503.56 KB              </td></tr>\n",
       "<tr><td>symmetric      </td><td>ckks       </td><td>8192              </td><td>[40, 20, 40]             </td><td>none       </td><td>91.0 B                 </td></tr>\n",
       "<tr><td>asymmetric     </td><td>ckks       </td><td>8192              </td><td>[40, 20, 40]             </td><td>all        </td><td>376.15 KB              </td></tr>\n",
       "<tr><td>asymmetric     </td><td>ckks       </td><td>8192              </td><td>[40, 20, 40]             </td><td>Public key </td><td>251.43 KB              </td></tr>\n",
       "<tr><td>asymmetric     </td><td>ckks       </td><td>8192              </td><td>[40, 20, 40]             </td><td>Secret key </td><td>124.81 KB              </td></tr>\n",
       "<tr><td>asymmetric     </td><td>ckks       </td><td>8192              </td><td>[40, 20, 40]             </td><td>Galois keys</td><td>11.89 MB               </td></tr>\n",
       "<tr><td>asymmetric     </td><td>ckks       </td><td>8192              </td><td>[40, 20, 40]             </td><td>Relin keys </td><td>503.64 KB              </td></tr>\n",
       "<tr><td>asymmetric     </td><td>ckks       </td><td>8192              </td><td>[40, 20, 40]             </td><td>none       </td><td>89.0 B                 </td></tr>\n",
       "</tbody>\n",
       "</table>"
      ],
      "text/plain": [
       "<IPython.core.display.HTML object>"
      ]
     },
     "metadata": {},
     "output_type": "display_data"
    }
   ],
   "source": [
    "ctx_size_benchmarks = [[\"Encryption Type\", \n",
    "                        \"Scheme Type\", \n",
    "                        \"Polynomial modulus\", \n",
    "                        \"Coefficient modulus sizes\", \n",
    "                        \"Saved keys\", \n",
    "                        \"Context serialized size\", ]]\n",
    "\n",
    "for enc_type in [ts.ENCRYPTION_TYPE.SYMMETRIC, ts.ENCRYPTION_TYPE.ASYMMETRIC]:\n",
    "    for (poly_mod, coeff_mod_bit_sizes) in [\n",
    "        (8192, [40, 20, 40]),\n",
    "    ]:\n",
    "        context = ts.context(\n",
    "            scheme=ts.SCHEME_TYPE.CKKS,\n",
    "            poly_modulus_degree=poly_mod,\n",
    "            coeff_mod_bit_sizes=coeff_mod_bit_sizes,\n",
    "            encryption_type=enc_type,\n",
    "        )\n",
    "        context.generate_galois_keys()\n",
    "        context.generate_relin_keys()\n",
    "      \n",
    "        ser = context.serialize(save_public_key=True, \n",
    "                                save_secret_key=True, \n",
    "                                save_galois_keys=True, \n",
    "                                save_relin_keys=True)\n",
    "        ctx_size_benchmarks.append([enc_type_str[enc_type], \n",
    "                                    scheme_str[ts.SCHEME_TYPE.CKKS], \n",
    "                                    poly_mod, \n",
    "                                    coeff_mod_bit_sizes, \n",
    "                                    \"all\", \n",
    "                                    convert_size(len(ser))])\n",
    "        \n",
    "        if enc_type is ts.ENCRYPTION_TYPE.ASYMMETRIC:\n",
    "            ser = context.serialize(save_public_key=True, \n",
    "                                    save_secret_key=False, \n",
    "                                    save_galois_keys=False, \n",
    "                                    save_relin_keys=False)\n",
    "            ctx_size_benchmarks.append([enc_type_str[enc_type], \n",
    "                                        scheme_str[ts.SCHEME_TYPE.CKKS], \n",
    "                                        poly_mod, \n",
    "                                        coeff_mod_bit_sizes, \n",
    "                                        \"Public key\", \n",
    "                                        convert_size(len(ser))])\n",
    "  \n",
    "        ser = context.serialize(save_public_key=False, \n",
    "                                save_secret_key=True, \n",
    "                                save_galois_keys=False, \n",
    "                                save_relin_keys=False)\n",
    "        ctx_size_benchmarks.append([enc_type_str[enc_type], \n",
    "                                    scheme_str[ts.SCHEME_TYPE.CKKS], \n",
    "                                    poly_mod, \n",
    "                                    coeff_mod_bit_sizes, \n",
    "                                    \"Secret key\",  \n",
    "                                    convert_size(len(ser))])\n",
    "                                    \n",
    "        ser = context.serialize(save_public_key=False, \n",
    "                                save_secret_key=False, \n",
    "                                save_galois_keys=True, \n",
    "                                save_relin_keys=False)\n",
    "        ctx_size_benchmarks.append([enc_type_str[enc_type], \n",
    "                                    scheme_str[ts.SCHEME_TYPE.CKKS], \n",
    "                                    poly_mod, \n",
    "                                    coeff_mod_bit_sizes, \n",
    "                                    \"Galois keys\",  \n",
    "                                    convert_size(len(ser))])\n",
    "                                                                      \n",
    "        ser = context.serialize(save_public_key=False, \n",
    "                                save_secret_key=False, \n",
    "                                save_galois_keys=False, \n",
    "                                save_relin_keys=True)\n",
    "        ctx_size_benchmarks.append([enc_type_str[enc_type], \n",
    "                                    scheme_str[ts.SCHEME_TYPE.CKKS], \n",
    "                                    poly_mod, \n",
    "                                    coeff_mod_bit_sizes, \n",
    "                                    \"Relin keys\",  \n",
    "                                    convert_size(len(ser))])\n",
    "  \n",
    "        ser = context.serialize(save_public_key=False, \n",
    "                                save_secret_key=False, \n",
    "                                save_galois_keys=False, \n",
    "                                save_relin_keys=False)\n",
    "        ctx_size_benchmarks.append([enc_type_str[enc_type], \n",
    "                                    scheme_str[ts.SCHEME_TYPE.CKKS], \n",
    "                                    poly_mod, \n",
    "                                    coeff_mod_bit_sizes, \n",
    "                                    \"none\", \n",
    "                                    convert_size(len(ser))])\n",
    "\n",
    "display(HTML(tabulate.tabulate(ctx_size_benchmarks, tablefmt='html')))"
   ]
  },
  {
   "cell_type": "code",
   "execution_count": null,
   "id": "a2b489d2",
   "metadata": {},
   "outputs": [],
   "source": []
  },
  {
   "cell_type": "code",
   "execution_count": null,
   "id": "6544aa72",
   "metadata": {},
   "outputs": [],
   "source": []
  },
  {
   "cell_type": "code",
   "execution_count": 31,
   "id": "ad365e5d",
   "metadata": {},
   "outputs": [
    {
     "name": "stdout",
     "output_type": "stream",
     "text": [
      "Plain data size in bytes 8.8 KB\n"
     ]
    }
   ],
   "source": [
    "data = [random.uniform(-10, 10) for _ in range(10 ** 3)]\n",
    "network_data = pickle.dumps(data)\n",
    "print(\"Plain data size in bytes {}\".format(convert_size(len(network_data))))"
   ]
  },
  {
   "cell_type": "code",
   "execution_count": 32,
   "id": "5025924e",
   "metadata": {},
   "outputs": [],
   "source": [
    "def display_param(test_param):\n",
    "    enc_type = ts.ENCRYPTION_TYPE.ASYMMETRIC\n",
    "    ct_size_benchmarks_ckks = [[\"Encryption Type\", \n",
    "                       \"Scheme Type\", \n",
    "                       \"Polynomial modulus\", \n",
    "                       \"Coefficient modulus sizes\", \n",
    "                       \"Precision\", \n",
    "                       \"Ciphertext serialized size\", \n",
    "                       \"Encryption increase ratio\"\n",
    "                      ]]\n",
    "\n",
    "    for (poly_mod, coeff_mod_bit_sizes, prec) in test_parameters_ckks:\n",
    "        context = ts.context(\n",
    "            scheme=ts.SCHEME_TYPE.CKKS,\n",
    "            poly_modulus_degree=poly_mod,\n",
    "            coeff_mod_bit_sizes=coeff_mod_bit_sizes,\n",
    "            encryption_type=enc_type,\n",
    "        )\n",
    "        scale = 2 ** prec\n",
    "        ckks_vec = ts.ckks_vector(context, data, scale)\n",
    "\n",
    "        enc_network_data = ckks_vec.serialize()\n",
    "        ct_size_benchmarks_ckks.append([enc_type_str[enc_type], \n",
    "                                   scheme_str[ts.SCHEME_TYPE.CKKS], \n",
    "                                   poly_mod, coeff_mod_bit_sizes, \n",
    "                                   \"2**{}\".format(prec),\n",
    "                                   convert_size(len(enc_network_data)), \n",
    "                                   round(len(enc_network_data) / len(network_data), 2)\n",
    "                                  ])\n",
    "    display(HTML(tabulate.tabulate(ct_size_benchmarks_ckks, tablefmt='html')))    "
   ]
  },
  {
   "cell_type": "code",
   "execution_count": 33,
   "id": "e623d791",
   "metadata": {},
   "outputs": [
    {
     "data": {
      "text/html": [
       "<table>\n",
       "<tbody>\n",
       "<tr><td>Encryption Type</td><td>Scheme Type</td><td>Polynomial modulus</td><td>Coefficient modulus sizes</td><td>Precision</td><td>Ciphertext serialized size</td><td>Encryption increase ratio</td></tr>\n",
       "<tr><td>asymmetric     </td><td>ckks       </td><td>8192              </td><td>[60, 40, 60]             </td><td>2**40    </td><td>229.77 KB                 </td><td>26.12                    </td></tr>\n",
       "<tr><td>asymmetric     </td><td>ckks       </td><td>8192              </td><td>[60, 40, 60]             </td><td>2**20    </td><td>229.81 KB                 </td><td>26.12                    </td></tr>\n",
       "<tr><td>asymmetric     </td><td>ckks       </td><td>8192              </td><td>[60, 40, 60]             </td><td>2**10    </td><td>229.82 KB                 </td><td>26.13                    </td></tr>\n",
       "<tr><td>asymmetric     </td><td>ckks       </td><td>8192              </td><td>[60, 40, 60]             </td><td>2**5     </td><td>229.83 KB                 </td><td>26.13                    </td></tr>\n",
       "<tr><td>asymmetric     </td><td>ckks       </td><td>8192              </td><td>[40, 20, 40]             </td><td>2**40    </td><td>153.35 KB                 </td><td>17.43                    </td></tr>\n",
       "<tr><td>asymmetric     </td><td>ckks       </td><td>8192              </td><td>[40, 20, 40]             </td><td>2**20    </td><td>153.18 KB                 </td><td>17.41                    </td></tr>\n",
       "<tr><td>asymmetric     </td><td>ckks       </td><td>8192              </td><td>[40, 20, 40]             </td><td>2**10    </td><td>154.49 KB                 </td><td>17.56                    </td></tr>\n",
       "<tr><td>asymmetric     </td><td>ckks       </td><td>8192              </td><td>[40, 20, 40]             </td><td>2**5     </td><td>153.22 KB                 </td><td>17.42                    </td></tr>\n",
       "<tr><td>asymmetric     </td><td>ckks       </td><td>8192              </td><td>[20, 20, 20]             </td><td>2**20    </td><td>104.78 KB                 </td><td>11.91                    </td></tr>\n",
       "<tr><td>asymmetric     </td><td>ckks       </td><td>8192              </td><td>[20, 20, 20]             </td><td>2**10    </td><td>104.58 KB                 </td><td>11.89                    </td></tr>\n",
       "<tr><td>asymmetric     </td><td>ckks       </td><td>8192              </td><td>[20, 20, 20]             </td><td>2**5     </td><td>104.63 KB                 </td><td>11.89                    </td></tr>\n",
       "</tbody>\n",
       "</table>"
      ],
      "text/plain": [
       "<IPython.core.display.HTML object>"
      ]
     },
     "metadata": {},
     "output_type": "display_data"
    }
   ],
   "source": [
    "test_parameters_ckks = [\n",
    "    (2**13, [60, 40, 60], 40),\n",
    "    (2**13, [60, 40, 60], 20),\n",
    "    (2**13, [60, 40, 60], 10),\n",
    "    (2**13, [60, 40, 60], 5),\n",
    "    (2**13, [40, 20, 40], 40),\n",
    "    (2**13, [40, 20, 40], 20),\n",
    "    (2**13, [40, 20, 40], 10),\n",
    "    (2**13, [40, 20, 40], 5),\n",
    "    (2**13, [20, 20, 20], 20),\n",
    "    (2**13, [20, 20, 20], 10),\n",
    "    (2**13, [20, 20, 20], 5)\n",
    "]\n",
    "display_param(test_parameters_ckks)"
   ]
  },
  {
   "cell_type": "code",
   "execution_count": 34,
   "id": "a04fb1b7",
   "metadata": {},
   "outputs": [
    {
     "data": {
      "text/html": [
       "<table>\n",
       "<tbody>\n",
       "<tr><td>Encryption Type</td><td>Scheme Type</td><td>Polynomial modulus</td><td>Coefficient modulus sizes</td><td>Precision</td><td>Ciphertext serialized size</td><td>Encryption increase ratio</td></tr>\n",
       "<tr><td>asymmetric     </td><td>ckks       </td><td>8192              </td><td>[60, 60]                 </td><td>2**40    </td><td>128.13 KB                 </td><td>14.57                    </td></tr>\n",
       "<tr><td>asymmetric     </td><td>ckks       </td><td>8192              </td><td>[60, 60]                 </td><td>2**20    </td><td>128.13 KB                 </td><td>14.57                    </td></tr>\n",
       "<tr><td>asymmetric     </td><td>ckks       </td><td>8192              </td><td>[60, 60]                 </td><td>2**10    </td><td>128.13 KB                 </td><td>14.57                    </td></tr>\n",
       "<tr><td>asymmetric     </td><td>ckks       </td><td>8192              </td><td>[60, 60]                 </td><td>2**5     </td><td>128.13 KB                 </td><td>14.57                    </td></tr>\n",
       "<tr><td>asymmetric     </td><td>ckks       </td><td>8192              </td><td>[40, 40]                 </td><td>2**38    </td><td>92.07 KB                  </td><td>10.47                    </td></tr>\n",
       "<tr><td>asymmetric     </td><td>ckks       </td><td>8192              </td><td>[40, 40]                 </td><td>2**20    </td><td>92.12 KB                  </td><td>10.47                    </td></tr>\n",
       "<tr><td>asymmetric     </td><td>ckks       </td><td>8192              </td><td>[40, 40]                 </td><td>2**10    </td><td>92.21 KB                  </td><td>10.48                    </td></tr>\n",
       "<tr><td>asymmetric     </td><td>ckks       </td><td>8192              </td><td>[40, 40]                 </td><td>2**5     </td><td>92.14 KB                  </td><td>10.47                    </td></tr>\n",
       "<tr><td>asymmetric     </td><td>ckks       </td><td>8192              </td><td>[20, 20]                 </td><td>2**18    </td><td>52.82 KB                  </td><td>6.0                      </td></tr>\n",
       "<tr><td>asymmetric     </td><td>ckks       </td><td>8192              </td><td>[20, 20]                 </td><td>2**10    </td><td>52.7 KB                   </td><td>5.99                     </td></tr>\n",
       "<tr><td>asymmetric     </td><td>ckks       </td><td>8192              </td><td>[20, 20]                 </td><td>2**5     </td><td>52.67 KB                  </td><td>5.99                     </td></tr>\n",
       "</tbody>\n",
       "</table>"
      ],
      "text/plain": [
       "<IPython.core.display.HTML object>"
      ]
     },
     "metadata": {},
     "output_type": "display_data"
    }
   ],
   "source": [
    "test_parameters_ckks = [\n",
    "    (2**13, [60, 60], 40),\n",
    "    (2**13, [60, 60], 20),\n",
    "    (2**13, [60, 60], 10),\n",
    "    (2**13, [60, 60], 5),\n",
    "    (2**13, [40, 40], 38),\n",
    "    (2**13, [40, 40], 20),\n",
    "    (2**13, [40, 40], 10),\n",
    "    (2**13, [40, 40], 5),\n",
    "    (2**13, [20, 20], 18),\n",
    "    (2**13, [20, 20], 10),\n",
    "    (2**13, [20, 20], 5),\n",
    "]\n",
    "display_param(test_parameters_ckks)"
   ]
  },
  {
   "cell_type": "code",
   "execution_count": 35,
   "id": "29b981b4",
   "metadata": {},
   "outputs": [
    {
     "data": {
      "text/html": [
       "<table>\n",
       "<tbody>\n",
       "<tr><td>Encryption Type</td><td>Scheme Type</td><td>Polynomial modulus</td><td>Coefficient modulus sizes</td><td>Precision</td><td>Ciphertext serialized size</td><td>Encryption increase ratio</td></tr>\n",
       "<tr><td>asymmetric     </td><td>ckks       </td><td>4096              </td><td>[40, 20, 40]             </td><td>2**40    </td><td>79.07 KB                  </td><td>8.99                     </td></tr>\n",
       "<tr><td>asymmetric     </td><td>ckks       </td><td>4096              </td><td>[40, 20, 40]             </td><td>2**20    </td><td>79.03 KB                  </td><td>8.98                     </td></tr>\n",
       "<tr><td>asymmetric     </td><td>ckks       </td><td>4096              </td><td>[40, 20, 40]             </td><td>2**10    </td><td>78.97 KB                  </td><td>8.98                     </td></tr>\n",
       "<tr><td>asymmetric     </td><td>ckks       </td><td>4096              </td><td>[40, 20, 40]             </td><td>2**5     </td><td>78.96 KB                  </td><td>8.98                     </td></tr>\n",
       "<tr><td>asymmetric     </td><td>ckks       </td><td>4096              </td><td>[30, 20, 30]             </td><td>2**40    </td><td>66.4 KB                   </td><td>7.55                     </td></tr>\n",
       "<tr><td>asymmetric     </td><td>ckks       </td><td>4096              </td><td>[30, 20, 30]             </td><td>2**20    </td><td>66.33 KB                  </td><td>7.54                     </td></tr>\n",
       "<tr><td>asymmetric     </td><td>ckks       </td><td>4096              </td><td>[30, 20, 30]             </td><td>2**10    </td><td>66.38 KB                  </td><td>7.55                     </td></tr>\n",
       "<tr><td>asymmetric     </td><td>ckks       </td><td>4096              </td><td>[30, 20, 30]             </td><td>2**5     </td><td>66.36 KB                  </td><td>7.54                     </td></tr>\n",
       "<tr><td>asymmetric     </td><td>ckks       </td><td>4096              </td><td>[20, 20, 20]             </td><td>2**20    </td><td>53.33 KB                  </td><td>6.06                     </td></tr>\n",
       "<tr><td>asymmetric     </td><td>ckks       </td><td>4096              </td><td>[20, 20, 20]             </td><td>2**10    </td><td>53.25 KB                  </td><td>6.05                     </td></tr>\n",
       "<tr><td>asymmetric     </td><td>ckks       </td><td>4096              </td><td>[20, 20, 20]             </td><td>2**5     </td><td>53.53 KB                  </td><td>6.08                     </td></tr>\n",
       "</tbody>\n",
       "</table>"
      ],
      "text/plain": [
       "<IPython.core.display.HTML object>"
      ]
     },
     "metadata": {},
     "output_type": "display_data"
    }
   ],
   "source": [
    "test_parameters_ckks = [\n",
    "    (2**12, [40, 20, 40], 40),\n",
    "    (2**12, [40, 20, 40], 20),\n",
    "    (2**12, [40, 20, 40], 10),\n",
    "    (2**12, [40, 20, 40], 5),\n",
    "    (2**12, [30, 20, 30], 40),\n",
    "    (2**12, [30, 20, 30], 20),\n",
    "    (2**12, [30, 20, 30], 10),\n",
    "    (2**12, [30, 20, 30], 5),\n",
    "    (2**12, [20, 20, 20], 20),\n",
    "    (2**12, [20, 20, 20], 10),\n",
    "    (2**12, [20, 20, 20], 5)\n",
    "]\n",
    "display_param(test_parameters_ckks)"
   ]
  },
  {
   "cell_type": "code",
   "execution_count": 36,
   "id": "91d58805",
   "metadata": {},
   "outputs": [
    {
     "data": {
      "text/html": [
       "<table>\n",
       "<tbody>\n",
       "<tr><td>Encryption Type</td><td>Scheme Type</td><td>Polynomial modulus</td><td>Coefficient modulus sizes</td><td>Precision</td><td>Ciphertext serialized size</td><td>Encryption increase ratio</td></tr>\n",
       "<tr><td>asymmetric     </td><td>ckks       </td><td>4096              </td><td>[30, 30]                 </td><td>2**28    </td><td>34.27 KB                  </td><td>3.9                      </td></tr>\n",
       "<tr><td>asymmetric     </td><td>ckks       </td><td>4096              </td><td>[30, 30]                 </td><td>2**20    </td><td>34.26 KB                  </td><td>3.9                      </td></tr>\n",
       "<tr><td>asymmetric     </td><td>ckks       </td><td>4096              </td><td>[30, 30]                 </td><td>2**10    </td><td>34.24 KB                  </td><td>3.89                     </td></tr>\n",
       "<tr><td>asymmetric     </td><td>ckks       </td><td>4096              </td><td>[30, 30]                 </td><td>2**5     </td><td>34.23 KB                  </td><td>3.89                     </td></tr>\n",
       "<tr><td>asymmetric     </td><td>ckks       </td><td>2048              </td><td>[20, 20]                 </td><td>2**18    </td><td>13.23 KB                  </td><td>1.5                      </td></tr>\n",
       "<tr><td>asymmetric     </td><td>ckks       </td><td>2048              </td><td>[20, 20]                 </td><td>2**10    </td><td>13.08 KB                  </td><td>1.49                     </td></tr>\n",
       "<tr><td>asymmetric     </td><td>ckks       </td><td>2048              </td><td>[20, 20]                 </td><td>2**5     </td><td>13.04 KB                  </td><td>1.48                     </td></tr>\n",
       "<tr><td>asymmetric     </td><td>ckks       </td><td>2048              </td><td>[16, 16]                 </td><td>2**10    </td><td>9.43 KB                   </td><td>1.07                     </td></tr>\n",
       "<tr><td>asymmetric     </td><td>ckks       </td><td>2048              </td><td>[16, 16]                 </td><td>2**5     </td><td>9.42 KB                   </td><td>1.07                     </td></tr>\n",
       "</tbody>\n",
       "</table>"
      ],
      "text/plain": [
       "<IPython.core.display.HTML object>"
      ]
     },
     "metadata": {},
     "output_type": "display_data"
    }
   ],
   "source": [
    "test_parameters_ckks = [\n",
    "    (2**12, [30, 30], 28),\n",
    "    (2**12, [30, 30], 20),\n",
    "    (2**12, [30, 30], 10),\n",
    "    (2**12, [30, 30], 5),\n",
    "    (2**11, [20, 20], 18),\n",
    "    (2**11, [20, 20], 10),\n",
    "    (2**11, [20, 20], 5),\n",
    "    (2**11, [16, 16], 10),\n",
    "    (2**11, [16, 16], 5)\n",
    "]\n",
    "display_param(test_parameters_ckks)"
   ]
  },
  {
   "cell_type": "code",
   "execution_count": 63,
   "id": "a22d7825",
   "metadata": {},
   "outputs": [
    {
     "data": {
      "text/html": [
       "<table>\n",
       "<tbody>\n",
       "<tr><td>Value range  </td><td>Polynomial modulus</td><td>Coefficient modulus sizes</td><td>Precision</td><td>Operation</td><td>Status                  </td></tr>\n",
       "<tr><td>[2^-1 - 2^0] </td><td>8192              </td><td>[60, 40, 60]             </td><td>2**40    </td><td>encrypt  </td><td>decryption prec 2 ** -34</td></tr>\n",
       "<tr><td>[2^-1 - 2^0] </td><td>8192              </td><td>[60, 40, 60]             </td><td>2**40    </td><td>sum      </td><td>decryption prec 2 ** -33</td></tr>\n",
       "<tr><td>[2^-1 - 2^0] </td><td>8192              </td><td>[40, 20, 40]             </td><td>2**40    </td><td>encrypt  </td><td>decryption prec 2 ** -31</td></tr>\n",
       "<tr><td>[2^-1 - 2^0] </td><td>8192              </td><td>[40, 20, 40]             </td><td>2**40    </td><td>sum      </td><td>decryption prec 2 ** -30</td></tr>\n",
       "<tr><td>[2^0 - 2^1]  </td><td>8192              </td><td>[60, 40, 60]             </td><td>2**40    </td><td>encrypt  </td><td>decryption prec 2 ** -31</td></tr>\n",
       "<tr><td>[2^0 - 2^1]  </td><td>8192              </td><td>[60, 40, 60]             </td><td>2**40    </td><td>sum      </td><td>decryption prec 2 ** -30</td></tr>\n",
       "<tr><td>[2^0 - 2^1]  </td><td>8192              </td><td>[40, 20, 40]             </td><td>2**40    </td><td>encrypt  </td><td>decryption prec 2 ** -32</td></tr>\n",
       "<tr><td>[2^0 - 2^1]  </td><td>8192              </td><td>[40, 20, 40]             </td><td>2**40    </td><td>sum      </td><td>decryption prec 2 ** -31</td></tr>\n",
       "<tr><td>[2^1 - 2^2]  </td><td>8192              </td><td>[60, 40, 60]             </td><td>2**40    </td><td>encrypt  </td><td>decryption prec 2 ** -33</td></tr>\n",
       "<tr><td>[2^1 - 2^2]  </td><td>8192              </td><td>[60, 40, 60]             </td><td>2**40    </td><td>sum      </td><td>decryption prec 2 ** -32</td></tr>\n",
       "<tr><td>[2^1 - 2^2]  </td><td>8192              </td><td>[40, 20, 40]             </td><td>2**40    </td><td>encrypt  </td><td>decryption prec 2 ** -28</td></tr>\n",
       "<tr><td>[2^1 - 2^2]  </td><td>8192              </td><td>[40, 20, 40]             </td><td>2**40    </td><td>sum      </td><td>decryption prec 2 ** -27</td></tr>\n",
       "<tr><td>[2^5 - 2^6]  </td><td>8192              </td><td>[60, 40, 60]             </td><td>2**40    </td><td>encrypt  </td><td>decryption prec 2 ** -28</td></tr>\n",
       "<tr><td>[2^5 - 2^6]  </td><td>8192              </td><td>[60, 40, 60]             </td><td>2**40    </td><td>sum      </td><td>decryption prec 2 ** -27</td></tr>\n",
       "<tr><td>[2^5 - 2^6]  </td><td>8192              </td><td>[40, 20, 40]             </td><td>2**40    </td><td>encrypt  </td><td>decryption prec 2 ** -30</td></tr>\n",
       "<tr><td>[2^5 - 2^6]  </td><td>8192              </td><td>[40, 20, 40]             </td><td>2**40    </td><td>sum      </td><td>decryption prec 2 ** -29</td></tr>\n",
       "<tr><td>[2^11 - 2^12]</td><td>8192              </td><td>[60, 40, 60]             </td><td>2**40    </td><td>encrypt  </td><td>decryption prec 2 ** -30</td></tr>\n",
       "<tr><td>[2^11 - 2^12]</td><td>8192              </td><td>[60, 40, 60]             </td><td>2**40    </td><td>sum      </td><td>decryption prec 2 ** -29</td></tr>\n",
       "<tr><td>[2^11 - 2^12]</td><td>8192              </td><td>[40, 20, 40]             </td><td>2**40    </td><td>encrypt  </td><td>decryption prec 2 ** -29</td></tr>\n",
       "<tr><td>[2^11 - 2^12]</td><td>8192              </td><td>[40, 20, 40]             </td><td>2**40    </td><td>sum      </td><td>decryption prec 2 ** -28</td></tr>\n",
       "<tr><td>[2^21 - 2^22]</td><td>8192              </td><td>[60, 40, 60]             </td><td>2**40    </td><td>encrypt  </td><td>decryption prec 2 ** -39</td></tr>\n",
       "<tr><td>[2^21 - 2^22]</td><td>8192              </td><td>[60, 40, 60]             </td><td>2**40    </td><td>sum      </td><td>decryption prec 2 ** -39</td></tr>\n",
       "<tr><td>[2^21 - 2^22]</td><td>8192              </td><td>[40, 20, 40]             </td><td>2**40    </td><td>encrypt  </td><td>encryption failed       </td></tr>\n",
       "<tr><td>[2^41 - 2^42]</td><td>8192              </td><td>[60, 40, 60]             </td><td>2**40    </td><td>encrypt  </td><td>decryption prec 2 ** -39</td></tr>\n",
       "<tr><td>[2^41 - 2^42]</td><td>8192              </td><td>[60, 40, 60]             </td><td>2**40    </td><td>sum      </td><td>decryption prec 2 ** -39</td></tr>\n",
       "<tr><td>[2^41 - 2^42]</td><td>8192              </td><td>[40, 20, 40]             </td><td>2**40    </td><td>encrypt  </td><td>encryption failed       </td></tr>\n",
       "<tr><td>[2^51 - 2^52]</td><td>8192              </td><td>[60, 40, 60]             </td><td>2**40    </td><td>encrypt  </td><td>decryption prec 2 ** -39</td></tr>\n",
       "<tr><td>[2^51 - 2^52]</td><td>8192              </td><td>[60, 40, 60]             </td><td>2**40    </td><td>sum      </td><td>decryption prec 2 ** -39</td></tr>\n",
       "<tr><td>[2^51 - 2^52]</td><td>8192              </td><td>[40, 20, 40]             </td><td>2**40    </td><td>encrypt  </td><td>encryption failed       </td></tr>\n",
       "<tr><td>[2^-1 - 2^0] </td><td>8192              </td><td>[60, 40, 60]             </td><td>2**40    </td><td>mul      </td><td>decryption prec 2 ** -24</td></tr>\n",
       "<tr><td>[2^-1 - 2^0] </td><td>8192              </td><td>[40, 20, 40]             </td><td>2**40    </td><td>mul      </td><td>failed                  </td></tr>\n",
       "<tr><td>[2^0 - 2^1]  </td><td>8192              </td><td>[60, 40, 60]             </td><td>2**40    </td><td>mul      </td><td>decryption prec 2 ** -22</td></tr>\n",
       "<tr><td>[2^0 - 2^1]  </td><td>8192              </td><td>[40, 20, 40]             </td><td>2**40    </td><td>mul      </td><td>failed                  </td></tr>\n",
       "<tr><td>[2^1 - 2^2]  </td><td>8192              </td><td>[60, 40, 60]             </td><td>2**40    </td><td>mul      </td><td>decryption prec 2 ** -20</td></tr>\n",
       "<tr><td>[2^1 - 2^2]  </td><td>8192              </td><td>[40, 20, 40]             </td><td>2**40    </td><td>mul      </td><td>failed                  </td></tr>\n",
       "<tr><td>[2^5 - 2^6]  </td><td>8192              </td><td>[60, 40, 60]             </td><td>2**40    </td><td>mul      </td><td>decryption prec 2 ** -11</td></tr>\n",
       "<tr><td>[2^5 - 2^6]  </td><td>8192              </td><td>[40, 20, 40]             </td><td>2**40    </td><td>mul      </td><td>failed                  </td></tr>\n",
       "<tr><td>[2^11 - 2^12]</td><td>8192              </td><td>[40, 20, 40]             </td><td>2**40    </td><td>mul      </td><td>failed                  </td></tr>\n",
       "</tbody>\n",
       "</table>"
      ],
      "text/plain": [
       "<IPython.core.display.HTML object>"
      ]
     },
     "metadata": {},
     "output_type": "display_data"
    }
   ],
   "source": [
    "data = [ random.random()]\n",
    "\n",
    "enc_type = ts.ENCRYPTION_TYPE.ASYMMETRIC\n",
    "ct_size_benchmarks = [[\"Value range\", \n",
    "                       \"Polynomial modulus\", \n",
    "                       \"Coefficient modulus sizes\", \n",
    "                       \"Precision\", \n",
    "                       \"Operation\", \n",
    "                       \"Status\"]]\n",
    "\n",
    "\n",
    "for data_pow in [-1, 0, 1, 5, 11, 21, 41, 51]:\n",
    "    data = [ random.uniform(2 ** data_pow, 2 ** (data_pow + 1))]\n",
    "    for (poly_mod, coeff_mod_bit_sizes, prec) in [\n",
    "        (8192, [60, 40, 60], 40),\n",
    "        (8192, [40, 20, 40], 40)\n",
    "    ]:\n",
    "        val_str = \"[2^{} - 2^{}]\".format(data_pow, data_pow + 1)\n",
    "        context = ts.context(\n",
    "            scheme=ts.SCHEME_TYPE.CKKS,\n",
    "            poly_modulus_degree=poly_mod,\n",
    "            coeff_mod_bit_sizes=coeff_mod_bit_sizes,\n",
    "            encryption_type=enc_type,\n",
    "        )\n",
    "        scale = 2 ** prec\n",
    "        try:\n",
    "            ckks_vec = ts.ckks_vector(context, data, scale)\n",
    "        except BaseException as e:\n",
    "            ct_size_benchmarks.append([val_str, \n",
    "                                       poly_mod, \n",
    "                                       coeff_mod_bit_sizes, \n",
    "                                       \"2**{}\".format(prec), \n",
    "                                       \"encrypt\", \n",
    "                                       \"encryption failed\"])\n",
    "            continue\n",
    "    \n",
    "        decrypted = decrypt(ckks_vec)\n",
    "        for dec_prec in reversed(range(prec)):\n",
    "            if pytest.approx(decrypted, abs=2 ** -dec_prec) == data:\n",
    "                ct_size_benchmarks.append([val_str, \n",
    "                                           poly_mod, \n",
    "                                           coeff_mod_bit_sizes,\n",
    "                                           \"2**{}\".format(prec), \n",
    "                                           \"encrypt\", \n",
    "                                           \"decryption prec 2 ** {}\".format(-dec_prec)])\n",
    "                break\n",
    "        ckks_sum = ckks_vec + ckks_vec\n",
    "        decrypted = decrypt(ckks_sum)\n",
    "        for dec_prec in reversed(range(prec)):\n",
    "            if pytest.approx(decrypted, abs=2 ** -dec_prec) == [data[0] + data[0]]:\n",
    "                ct_size_benchmarks.append([val_str, \n",
    "                                           poly_mod, \n",
    "                                           coeff_mod_bit_sizes, \n",
    "                                           \"2**{}\".format(prec), \n",
    "                                           \"sum\", \n",
    "                                           \"decryption prec 2 ** {}\".format(-dec_prec)])\n",
    "                break\n",
    "                \n",
    "# We add more depth for the multiplication scenario\n",
    "for data_pow in [-1, 0, 1, 5, 11, 21, 41, 51]:\n",
    "    data = [ random.uniform(2 ** data_pow, 2 ** (data_pow + 1))]\n",
    "    for (poly_mod, coeff_mod_bit_sizes, prec) in [\n",
    "        (8192, [60, 40, 60], 40),\n",
    "        (8192, [40, 20, 40], 40)\n",
    "    ]:\n",
    "        val_str = \"[2^{} - 2^{}]\".format(data_pow, data_pow + 1)\n",
    "        context = ts.context(\n",
    "            scheme=ts.SCHEME_TYPE.CKKS,\n",
    "            poly_modulus_degree=poly_mod,\n",
    "            coeff_mod_bit_sizes=coeff_mod_bit_sizes,\n",
    "            encryption_type=enc_type,\n",
    "        )\n",
    "        scale = 2 ** prec\n",
    "        try:\n",
    "            ckks_vec = ts.ckks_vector(context, data, scale)\n",
    "        except BaseException as e:\n",
    "            continue\n",
    "                \n",
    "        try:\n",
    "            ckks_mul = ckks_vec * ckks_vec\n",
    "        except:\n",
    "            ct_size_benchmarks.append([val_str, \n",
    "                                       poly_mod, \n",
    "                                       coeff_mod_bit_sizes, \n",
    "                                       \"2**{}\".format(prec), \n",
    "                                       \"mul\", \n",
    "                                       \"failed\"])\n",
    "            continue\n",
    "        decrypted = decrypt(ckks_mul)\n",
    "        for dec_prec in reversed(range(prec)):\n",
    "            if pytest.approx(decrypted, abs=2 ** -dec_prec) == [data[0] * data[0]]:\n",
    "                ct_size_benchmarks.append([val_str, \n",
    "                                           poly_mod, \n",
    "                                           coeff_mod_bit_sizes, \n",
    "                                           \"2**{}\".format(prec), \n",
    "                                           \"mul\", \n",
    "                                           \"decryption prec 2 ** {}\".format(-dec_prec)])\n",
    "                break\n",
    "\n",
    "display(HTML(tabulate.tabulate(ct_size_benchmarks, tablefmt='html')))"
   ]
  },
  {
   "cell_type": "code",
   "execution_count": 78,
   "id": "8695f1d9",
   "metadata": {},
   "outputs": [],
   "source": [
    "def decrypt(enc):\n",
    "    return enc.decrypt().tolist()"
   ]
  },
  {
   "cell_type": "code",
   "execution_count": 95,
   "id": "e5033687",
   "metadata": {},
   "outputs": [
    {
     "name": "stdout",
     "output_type": "stream",
     "text": [
      "3x3-34x2+18x-145 = [[3.000000939856626, 13.00000696384038], [37.00002292958378, 81.00005365138446]].\n"
     ]
    }
   ],
   "source": [
    "plain3 = ts.plain_tensor([1,2,3,4], [2,2])\n",
    "encrypted_tensor3 = ts.ckks_tensor(context, plain3)\n",
    "results = encrypted_tensor3.polyval([-145,48,-34,3])\n",
    "print(\"3x3-34x2+18x-145 = {}.\".format(decrypt(result)))"
   ]
  },
  {
   "cell_type": "code",
   "execution_count": null,
   "id": "dd3320c7",
   "metadata": {},
   "outputs": [],
   "source": []
  },
  {
   "cell_type": "code",
   "execution_count": null,
   "id": "181537b8",
   "metadata": {},
   "outputs": [],
   "source": []
  },
  {
   "cell_type": "code",
   "execution_count": 110,
   "id": "1e8e518a",
   "metadata": {},
   "outputs": [],
   "source": [
    "import torch\n",
    "from torchvision import datasets\n",
    "import torchvision.transforms as transforms\n",
    "import numpy as np\n",
    "\n",
    "torch.manual_seed(73)\n",
    "\n",
    "train_data = datasets.MNIST('data', train=True, download=True, transform=transforms.ToTensor())\n",
    "test_data = datasets.MNIST('data', train=False, download=True, transform=transforms.ToTensor())\n",
    "\n",
    "batch_size = 64\n",
    "\n",
    "train_loader = torch.utils.data.DataLoader(train_data, batch_size=batch_size, shuffle=True)\n",
    "test_loader = torch.utils.data.DataLoader(test_data, batch_size=batch_size, shuffle=True)"
   ]
  },
  {
   "cell_type": "code",
   "execution_count": 111,
   "id": "e2c9103f",
   "metadata": {},
   "outputs": [],
   "source": [
    "class ConvNet(torch.nn.Module):\n",
    "    def __init__(self, hidden=64, output=10):\n",
    "        super(ConvNet, self).__init__()        \n",
    "        self.conv1 = torch.nn.Sequential(torch.nn.Conv2d(1, 4, kernel_size=7, padding=0, stride=3),\n",
    "                                         torch.nn.ReLU())\n",
    "        self.fc1 = torch.nn.Sequential(torch.nn.Linear(256, hidden),\n",
    "                                       torch.nn.ReLU())\n",
    "        self.fc2 = torch.nn.Linear(hidden, output)\n",
    "\n",
    "    def forward(self, x):\n",
    "        x = self.conv1(x)\n",
    "        # the model uses the square activation function\n",
    "        # x = x * x\n",
    "        # flattening while keeping the batch axis\n",
    "        x = x.view(-1, 256)\n",
    "        x = self.fc1(x)\n",
    "        # x = x * x\n",
    "        x = self.fc2(x)\n",
    "        return x"
   ]
  },
  {
   "cell_type": "code",
   "execution_count": 112,
   "id": "5624b066",
   "metadata": {},
   "outputs": [],
   "source": [
    "def train(model, train_loader, criterion, optimizer, n_epochs=10):\n",
    "    # model in training mode\n",
    "    model.train()\n",
    "    for epoch in range(1, n_epochs+1):\n",
    "\n",
    "        train_loss = 0.0\n",
    "        for data, target in train_loader:\n",
    "            optimizer.zero_grad()\n",
    "            output = model(data)\n",
    "            loss = criterion(output, target)\n",
    "            loss.backward()\n",
    "            optimizer.step()\n",
    "            train_loss += loss.item()\n",
    "\n",
    "        # calculate average losses\n",
    "        train_loss = train_loss / len(train_loader)\n",
    "\n",
    "        print('Epoch: {} \\tTraining Loss: {:.6f}'.format(epoch, train_loss))\n",
    "    \n",
    "    # model in evaluation mode\n",
    "    model.eval()\n",
    "    return model"
   ]
  },
  {
   "cell_type": "code",
   "execution_count": 113,
   "id": "bdd30523",
   "metadata": {},
   "outputs": [
    {
     "name": "stdout",
     "output_type": "stream",
     "text": [
      "Epoch: 1 \tTraining Loss: 0.397367\n",
      "Epoch: 2 \tTraining Loss: 0.164987\n",
      "Epoch: 3 \tTraining Loss: 0.124856\n",
      "Epoch: 4 \tTraining Loss: 0.102274\n",
      "Epoch: 5 \tTraining Loss: 0.086198\n",
      "Epoch: 6 \tTraining Loss: 0.075736\n",
      "Epoch: 7 \tTraining Loss: 0.068237\n",
      "Epoch: 8 \tTraining Loss: 0.062010\n",
      "Epoch: 9 \tTraining Loss: 0.057101\n",
      "Epoch: 10 \tTraining Loss: 0.051869\n"
     ]
    }
   ],
   "source": [
    "model = ConvNet()\n",
    "criterion = torch.nn.CrossEntropyLoss()\n",
    "optimizer = torch.optim.Adam(model.parameters(), lr=0.001)\n",
    "model = train(model, train_loader, criterion, optimizer, 10)"
   ]
  },
  {
   "cell_type": "code",
   "execution_count": 114,
   "id": "bd51a5f5",
   "metadata": {},
   "outputs": [
    {
     "name": "stdout",
     "output_type": "stream",
     "text": [
      "Test Loss: 0.075659\n",
      "\n",
      "Test Accuracy of 0: 98% (967/980)\n",
      "Test Accuracy of 1: 99% (1125/1135)\n",
      "Test Accuracy of 2: 98% (1014/1032)\n",
      "Test Accuracy of 3: 98% (994/1010)\n",
      "Test Accuracy of 4: 98% (968/982)\n",
      "Test Accuracy of 5: 97% (869/892)\n",
      "Test Accuracy of 6: 97% (937/958)\n",
      "Test Accuracy of 7: 98% (1012/1028)\n",
      "Test Accuracy of 8: 96% (941/974)\n",
      "Test Accuracy of 9: 93% (945/1009)\n",
      "\n",
      "Test Accuracy (Overall): 97% (9772/10000)\n"
     ]
    }
   ],
   "source": [
    "def test(model, test_loader, criterion):\n",
    "    # initialize lists to monitor test loss and accuracy\n",
    "    test_loss = 0.0\n",
    "    class_correct = list(0. for i in range(10))\n",
    "    class_total = list(0. for i in range(10))\n",
    "\n",
    "    # model in evaluation mode\n",
    "    model.eval()\n",
    "\n",
    "    for data, target in test_loader:\n",
    "        output = model(data)\n",
    "        loss = criterion(output, target)\n",
    "        test_loss += loss.item()\n",
    "        # convert output probabilities to predicted class\n",
    "        _, pred = torch.max(output, 1)\n",
    "        # compare predictions to true label\n",
    "        correct = np.squeeze(pred.eq(target.data.view_as(pred)))\n",
    "        # calculate test accuracy for each object class\n",
    "        for i in range(len(target)):\n",
    "            label = target.data[i]\n",
    "            class_correct[label] += correct[i].item()\n",
    "            class_total[label] += 1\n",
    "\n",
    "    # calculate and print avg test loss\n",
    "    test_loss = test_loss/len(test_loader)\n",
    "    print(f'Test Loss: {test_loss:.6f}\\n')\n",
    "\n",
    "    for label in range(10):\n",
    "        print(\n",
    "            f'Test Accuracy of {label}: {int(100 * class_correct[label] / class_total[label])}% '\n",
    "            f'({int(np.sum(class_correct[label]))}/{int(np.sum(class_total[label]))})'\n",
    "        )\n",
    "\n",
    "    print(\n",
    "        f'\\nTest Accuracy (Overall): {int(100 * np.sum(class_correct) / np.sum(class_total))}% ' \n",
    "        f'({int(np.sum(class_correct))}/{int(np.sum(class_total))})'\n",
    "    )\n",
    "    \n",
    "test(model, test_loader, criterion)"
   ]
  },
  {
   "cell_type": "code",
   "execution_count": null,
   "id": "6172df6b",
   "metadata": {},
   "outputs": [],
   "source": []
  }
 ],
 "metadata": {
  "kernelspec": {
   "display_name": "tenseal",
   "language": "python",
   "name": "tenseal"
  },
  "language_info": {
   "codemirror_mode": {
    "name": "ipython",
    "version": 3
   },
   "file_extension": ".py",
   "mimetype": "text/x-python",
   "name": "python",
   "nbconvert_exporter": "python",
   "pygments_lexer": "ipython3",
   "version": "3.7.11"
  }
 },
 "nbformat": 4,
 "nbformat_minor": 5
}
