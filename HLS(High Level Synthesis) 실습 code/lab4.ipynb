{
 "cells": [
  {
   "cell_type": "markdown",
   "metadata": {},
   "source": [
    "# LAB 4 HLS_PYNQ tutorial"
   ]
  },
  {
   "cell_type": "code",
   "execution_count": null,
   "metadata": {},
   "outputs": [],
   "source": [
    "from pynq import Overlay\n",
    "from pynq import allocate\n",
    "import numpy as np"
   ]
  },
  {
   "cell_type": "code",
   "execution_count": null,
   "metadata": {},
   "outputs": [],
   "source": [
    "def init_hw(filepath):\n",
    "    global ol, ip\n",
    "    ol = Overlay(filepath)\n",
    "    ip = ol.matMul_0"
   ]
  },
  {
   "cell_type": "markdown",
   "metadata": {},
   "source": [
    "#### Program board with bitstream file"
   ]
  },
  {
   "cell_type": "code",
   "execution_count": null,
   "metadata": {},
   "outputs": [],
   "source": [
    "init_hw(\"/home/xilinx/matmul.bit\")"
   ]
  },
  {
   "cell_type": "markdown",
   "metadata": {},
   "source": [
    "#### Allocate matrix on pynq buffer"
   ]
  },
  {
   "cell_type": "code",
   "execution_count": null,
   "metadata": {},
   "outputs": [],
   "source": [
    "DIM = 256\n",
    "\n",
    "a = allocate(shape=((DIM, DIM)), dtype=np.int32, cacheable=True)\n",
    "b = allocate(shape=((DIM, DIM)), dtype=np.int32, cacheable=True)\n",
    "c = allocate(shape=((DIM, DIM)), dtype=np.int32, cacheable=True)\n",
    "\n",
    "a[:] = np.random.randint(0,100,size=(DIM, DIM))\n",
    "b[:] = np.random.randint(0,100,size=(DIM, DIM))\n",
    "c[:] = np.zeros((DIM, DIM)).astype('int')\n",
    "\n",
    "print(a)\n",
    "print(b)\n",
    "print(c)"
   ]
  },
  {
   "cell_type": "markdown",
   "metadata": {},
   "source": [
    "#### Set the address value from .../impl/ip/drivers/.../src/xmatmul_hw.h"
   ]
  },
  {
   "cell_type": "code",
   "execution_count": null,
   "metadata": {},
   "outputs": [],
   "source": [
    "XMATMUL_CONTROL_ADDR_A_DATA = 0x10\n",
    "XMATMUL_CONTROL_ADDR_B_DATA = 0x18\n",
    "XMATMUL_CONTROL_ADDR_C_DATA = 0x20"
   ]
  },
  {
   "cell_type": "markdown",
   "metadata": {},
   "source": [
    "#### Write data to input port"
   ]
  },
  {
   "cell_type": "code",
   "execution_count": null,
   "metadata": {},
   "outputs": [],
   "source": [
    "a_ptr = a.physical_address\n",
    "b_ptr = b.physical_address\n",
    "c_ptr = c.physical_address\n",
    "\n",
    "ip.write(0x00, 4)\n",
    "fpga_state = ip.read(0x00)\n",
    "\n",
    "if fpga_state == 4:\n",
    "    ip.write(XMATMUL_CONTROL_ADDR_A_DATA, a_ptr)\n",
    "    ip.write(XMATMUL_CONTROL_ADDR_B_DATA, b_ptr)\n",
    "    ip.write(XMATMUL_CONTROL_ADDR_C_DATA, c_ptr)\n",
    "else:\n",
    "    print(\"Can't write values, must be in IDLE state\")\n",
    "    raise KeyboardInterrupt"
   ]
  },
  {
   "cell_type": "markdown",
   "metadata": {},
   "source": [
    "#### Start multiplication"
   ]
  },
  {
   "cell_type": "code",
   "execution_count": null,
   "metadata": {},
   "outputs": [],
   "source": [
    "ip.write(0x00, 1)\n",
    "fpga_state = ip.read(0x00)\n",
    "\n",
    "max_try = 1000000\n",
    "while fpga_state != 6 and fpga_state != 4:\n",
    "    fpga_state = ip.read(0x00)\n",
    "    max_try = max_try - 1\n",
    "    if max_try == 0:\n",
    "        print(\"ERROR: Can't go ahead\")\n",
    "        ip.write(0x00, 4)\n",
    "        raise KeyboardInterrupt\n",
    "        \n",
    "print(c)"
   ]
  },
  {
   "cell_type": "markdown",
   "metadata": {},
   "source": [
    "#### Verify the output"
   ]
  },
  {
   "cell_type": "code",
   "execution_count": null,
   "metadata": {},
   "outputs": [],
   "source": [
    "if (c == a*b).any():\n",
    "    print(\"Correct!\")\n",
    "else:\n",
    "    print(\"Wrong!\")"
   ]
  },
  {
   "cell_type": "markdown",
   "metadata": {},
   "source": [
    "#### Clean up"
   ]
  },
  {
   "cell_type": "code",
   "execution_count": null,
   "metadata": {},
   "outputs": [],
   "source": [
    "del ol"
   ]
  }
 ],
 "metadata": {
  "kernelspec": {
   "display_name": "Python 3",
   "language": "python",
   "name": "python3"
  },
  "language_info": {
   "codemirror_mode": {
    "name": "ipython",
    "version": 3
   },
   "file_extension": ".py",
   "mimetype": "text/x-python",
   "name": "python",
   "nbconvert_exporter": "python",
   "pygments_lexer": "ipython3",
   "version": "3.6.5"
  }
 },
 "nbformat": 4,
 "nbformat_minor": 2
}
