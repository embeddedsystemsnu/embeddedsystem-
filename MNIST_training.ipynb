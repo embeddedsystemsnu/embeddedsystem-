{
 "cells": [
  {
   "cell_type": "code",
   "execution_count": 1,
   "id": "96cbd21e",
   "metadata": {},
   "outputs": [],
   "source": [
    "import os\n",
    "import numpy as np\n",
    "import matplotlib.pyplot as plt\n",
    "\n",
    "# Silence TensorFlow messages\n",
    "os.environ['TF_CPP_MIN_LOG_LEVEL'] = '3'\n",
    "\n",
    "import tensorflow as tf\n",
    "import tensorflow.keras as keras \n",
    "from tensorflow.keras import regularizers, layers"
   ]
  },
  {
   "cell_type": "code",
   "execution_count": 2,
   "id": "9221d19d",
   "metadata": {},
   "outputs": [],
   "source": [
    "batch_size = 64\n",
    "MODEL_DIR = './models'\n",
    "FLOAT_MODEL = 'float_model.h5'\n",
    "QAUNT_MODEL = 'quantized_model.h5'\n",
    "\n",
    "if not os.path.exists(MODEL_DIR):\n",
    "    os.mkdir(MODEL_DIR)"
   ]
  },
  {
   "cell_type": "code",
   "execution_count": 3,
   "id": "2cca1113",
   "metadata": {},
   "outputs": [
    {
     "name": "stdout",
     "output_type": "stream",
     "text": [
      "Downloading data from https://storage.googleapis.com/tensorflow/tf-keras-datasets/mnist.npz\n",
      "11493376/11490434 [==============================] - 1s 0us/step\n",
      "Training data: (60000, 28, 28). (60000,)\n",
      "Test data: (10000, 28, 28). (10000,)\n"
     ]
    }
   ],
   "source": [
    "(x_train, y_train), (x_test, y_test) = keras.datasets.mnist.load_data()\n",
    "\n",
    "print('Training data: {}. {}'.format(x_train.shape, y_train.shape))\n",
    "print('Test data: {}. {}'.format(x_test.shape, y_test.shape))"
   ]
  },
  {
   "cell_type": "code",
   "execution_count": 4,
   "id": "449df2b4",
   "metadata": {},
   "outputs": [
    {
     "data": {
      "image/png": "[encoded data removed]",
      "text/plain": [
       "<Figure size 720x720 with 5 Axes>"
      ]
     },
     "metadata": {
      "needs_background": "light"
     },
     "output_type": "display_data"
    }
   ],
   "source": [
    "fig, axs = plt.subplots(1, 5, figsize=(10,10))\n",
    "plt.tight_layout()\n",
    "\n",
    "for i in range(5):\n",
    "    axs[i].imshow(x_train[i], 'gray')\n",
    "    axs[i].set_title('Label: {}'.format(y_train[i]))"
   ]
  },
  {
   "cell_type": "code",
   "execution_count": 5,
   "id": "6ea51553",
   "metadata": {},
   "outputs": [],
   "source": [
    "# Data Normalization\n",
    "# 라벨 값을 one-hot-encoding으로 바꿈\n",
    "\n",
    "x_train = x_train.reshape((60000,28,28,1)).astype('float32') / 255.0\n",
    "y_train = keras.utils.to_categorical(y_train)\n",
    "\n",
    "x_test = x_test.reshape((10000,28,28,1)).astype('float32') / 255.0\n",
    "y_test = keras.utils.to_categorical(y_test)\n",
    "\n",
    "x_train_flat = x_train.reshape((-1, 784))\n",
    "x_test_flat = x_test.reshape((-1, 784))"
   ]
  },
  {
   "cell_type": "code",
   "execution_count": 6,
   "id": "722f1c82",
   "metadata": {},
   "outputs": [],
   "source": [
    "# Create saparated datasets for train,validate,test\n",
    "train_dataset = tf.data.Dataset.from_tensor_slices((x_train[:50000], y_train[:50000])).batch(batch_size)\n",
    "val_dataset = tf.data.Dataset.from_tensor_slices((x_train[5000:], y_train[5000:])).batch(batch_size)\n",
    "test_dataset = tf.data.Dataset.from_tensor_slices((x_test, y_test)).batch(batch_size)\n",
    "\n",
    "train_dataset_flat = tf.data.Dataset.from_tensor_slices((x_train_flat[:50000], y_train[:50000])).batch(batch_size)\n",
    "val_dataset_flat = tf.data.Dataset.from_tensor_slices((x_train_flat[5000:], y_train[5000:])).batch(batch_size)\n",
    "test_dataset_flat = tf.data.Dataset.from_tensor_slices((x_test_flat, y_test)).batch(batch_size)"
   ]
  },
  {
   "cell_type": "code",
   "execution_count": 7,
   "id": "349df6eb",
   "metadata": {},
   "outputs": [],
   "source": [
    "def customcnn():\n",
    "    # create a cnn model\n",
    "    inputs = keras.Input(shape=(28,28,1))\n",
    "    x = layers.Conv2D(32, (3,3), activation='relu', input_shape=(28,28,1))(inputs)\n",
    "    x = layers.MaxPooling2D((2,2))(x)\n",
    "    x = layers.Conv2D(64, (3,3), activation='relu')(x)\n",
    "    x = layers.MaxPooling2D((2,2))(x)\n",
    "    x = layers.Conv2D(64, (3,3), activation='relu')(x)\n",
    "    x = layers.Flatten()(x)\n",
    "    x = layers.Dense(64, activation='relu')(x)\n",
    "    outputs = layers.Dense(10, activation='softmax')(x)\n",
    "\n",
    "    model = keras.Model(inputs=inputs, outputs=outputs, name='mnist_customcnn_model')\n",
    "    model.summary()\n",
    "\n",
    "    # Compile the model\"\n",
    "    optimizer = keras.optimizers.RMSprop(lr=0.001)\n",
    "    model.compile(optimizer=optimizer, \n",
    "            loss=\"categorical_crossentropy\",\n",
    "            metrics=['accuracy']\n",
    "            )\n",
    "    return model\n",
    "\n",
    "def customFC():\n",
    "    # create a Fully Connected model\n",
    "    inputs = keras.Input(shape=(28,28))\n",
    "    inputs = keras.Input(name='input', shape=(784,))\n",
    "\n",
    "    x = layers.Dense(300, name='hidden_1', activation='relu')(inputs)\n",
    "    x = layers.Dense(100, name='hidden_2', activation='relu')(x)\n",
    "    \n",
    "\n",
    "    outputs = layers.Dense(10, activation='softmax')(x)\n",
    "\n",
    "    model = keras.Model(inputs=inputs, outputs=outputs, name='mnist_customcnn_model')\n",
    "    model.summary()\n",
    "\n",
    "    # Compile the model\n",
    "    optimizer = keras.optimizers.RMSprop(lr=0.001)\n",
    "    model.compile(optimizer=optimizer, \n",
    "            loss=\"categorical_crossentropy\",\n",
    "            metrics=['accuracy']\n",
    "            )\n",
    "    return model"
   ]
  },
  {
   "cell_type": "code",
   "execution_count": 8,
   "id": "d6381385",
   "metadata": {},
   "outputs": [
    {
     "name": "stdout",
     "output_type": "stream",
     "text": [
      "\n",
      "Create custom cnn..\n",
      "Model: \"mnist_customcnn_model\"\n",
      "_________________________________________________________________\n",
      "Layer (type)                 Output Shape              Param #   \n",
      "=================================================================\n",
      "input_1 (InputLayer)         [(None, 28, 28, 1)]       0         \n",
      "_________________________________________________________________\n",
      "conv2d (Conv2D)              (None, 26, 26, 32)        320       \n",
      "_________________________________________________________________\n",
      "max_pooling2d (MaxPooling2D) (None, 13, 13, 32)        0         \n",
      "_________________________________________________________________\n",
      "conv2d_1 (Conv2D)            (None, 11, 11, 64)        18496     \n",
      "_________________________________________________________________\n",
      "max_pooling2d_1 (MaxPooling2 (None, 5, 5, 64)          0         \n",
      "_________________________________________________________________\n",
      "conv2d_2 (Conv2D)            (None, 3, 3, 64)          36928     \n",
      "_________________________________________________________________\n",
      "flatten (Flatten)            (None, 576)               0         \n",
      "_________________________________________________________________\n",
      "dense (Dense)                (None, 64)                36928     \n",
      "_________________________________________________________________\n",
      "dense_1 (Dense)              (None, 10)                650       \n",
      "=================================================================\n",
      "Total params: 93,322\n",
      "Trainable params: 93,322\n",
      "Non-trainable params: 0\n",
      "_________________________________________________________________\n"
     ]
    }
   ],
   "source": [
    "# build cnn model\n",
    "print(\"\\nCreate custom cnn..\")\n",
    "model = customcnn()"
   ]
  },
  {
   "cell_type": "code",
   "execution_count": 9,
   "id": "c369e36f",
   "metadata": {},
   "outputs": [
    {
     "name": "stdout",
     "output_type": "stream",
     "text": [
      "Model: \"mnist_customcnn_model\"\n",
      "_________________________________________________________________\n",
      "Layer (type)                 Output Shape              Param #   \n",
      "=================================================================\n",
      "input_1 (InputLayer)         [(None, 28, 28, 1)]       0         \n",
      "_________________________________________________________________\n",
      "conv2d (Conv2D)              (None, 26, 26, 32)        320       \n",
      "_________________________________________________________________\n",
      "max_pooling2d (MaxPooling2D) (None, 13, 13, 32)        0         \n",
      "_________________________________________________________________\n",
      "conv2d_1 (Conv2D)            (None, 11, 11, 64)        18496     \n",
      "_________________________________________________________________\n",
      "max_pooling2d_1 (MaxPooling2 (None, 5, 5, 64)          0         \n",
      "_________________________________________________________________\n",
      "conv2d_2 (Conv2D)            (None, 3, 3, 64)          36928     \n",
      "_________________________________________________________________\n",
      "flatten (Flatten)            (None, 576)               0         \n",
      "_________________________________________________________________\n",
      "dense (Dense)                (None, 64)                36928     \n",
      "_________________________________________________________________\n",
      "dense_1 (Dense)              (None, 10)                650       \n",
      "=================================================================\n",
      "Total params: 93,322\n",
      "Trainable params: 93,322\n",
      "Non-trainable params: 0\n",
      "_________________________________________________________________\n"
     ]
    }
   ],
   "source": [
    "model.summary()"
   ]
  },
  {
   "cell_type": "code",
   "execution_count": 10,
   "id": "7a36200d",
   "metadata": {},
   "outputs": [
    {
     "name": "stdout",
     "output_type": "stream",
     "text": [
      "\n",
      "Fit on dataset..\n",
      "Epoch 1/10\n",
      "782/782 [==============================] - 10s 13ms/step - loss: 0.1982 - accuracy: 0.9398 - val_loss: 0.0660 - val_accuracy: 0.9792\n",
      "Epoch 2/10\n",
      "782/782 [==============================] - 10s 12ms/step - loss: 0.0526 - accuracy: 0.9842 - val_loss: 0.0376 - val_accuracy: 0.9884\n",
      "Epoch 3/10\n",
      "782/782 [==============================] - 10s 13ms/step - loss: 0.0346 - accuracy: 0.9899 - val_loss: 0.0259 - val_accuracy: 0.9921\n",
      "Epoch 4/10\n",
      "782/782 [==============================] - 10s 13ms/step - loss: 0.0245 - accuracy: 0.9930 - val_loss: 0.0259 - val_accuracy: 0.9926\n",
      "Epoch 5/10\n",
      "782/782 [==============================] - 10s 13ms/step - loss: 0.0187 - accuracy: 0.9948 - val_loss: 0.0241 - val_accuracy: 0.9927\n",
      "Epoch 6/10\n",
      "782/782 [==============================] - 10s 12ms/step - loss: 0.0144 - accuracy: 0.9960 - val_loss: 0.0236 - val_accuracy: 0.9932\n",
      "Epoch 7/10\n",
      "782/782 [==============================] - 10s 12ms/step - loss: 0.0115 - accuracy: 0.9964 - val_loss: 0.0191 - val_accuracy: 0.9956\n",
      "Epoch 8/10\n",
      "782/782 [==============================] - 10s 12ms/step - loss: 0.0101 - accuracy: 0.9967 - val_loss: 0.0155 - val_accuracy: 0.9961\n",
      "Epoch 9/10\n",
      "782/782 [==============================] - 10s 12ms/step - loss: 0.0082 - accuracy: 0.9972 - val_loss: 0.0204 - val_accuracy: 0.9953\n",
      "Epoch 10/10\n",
      "782/782 [==============================] - 10s 12ms/step - loss: 0.0084 - accuracy: 0.9975 - val_loss: 0.0206 - val_accuracy: 0.9953\n"
     ]
    }
   ],
   "source": [
    "# Train the model for 10 epochs using a dataset\n",
    "print(\"\\nFit on dataset..\")\n",
    "history = model.fit(train_dataset, epochs=10, validation_data=val_dataset)"
   ]
  },
  {
   "cell_type": "code",
   "execution_count": 11,
   "id": "f40ff159",
   "metadata": {},
   "outputs": [
    {
     "data": {
      "text/plain": [
       "Text(0.5, 1.0, 'Training Accuracy / Validation Accuracy')"
      ]
     },
     "execution_count": 11,
     "metadata": {},
     "output_type": "execute_result"
    },
    {
     "data": {
      "image/png": "[encoded data removed]",
      "text/plain": [
       "<Figure size 864x288 with 2 Axes>"
      ]
     },
     "metadata": {
      "needs_background": "light"
     },
     "output_type": "display_data"
    }
   ],
   "source": [
    "fig, axs = plt.subplots(1, 2, figsize=(12, 4))\n",
    "\n",
    "axs[0].plot(history.history['loss'], 'b')\n",
    "axs[0].plot(history.history['val_loss'], 'r')\n",
    "axs[0].set_title('Training Loss / Validation Loss')\n",
    "axs[0].set(xlabel='Epochs', ylabel='loss')\n",
    "\n",
    "axs[1].plot(history.history['accuracy'], 'b')\n",
    "axs[1].plot(history.history['val_accuracy'], 'r')\n",
    "axs[1].set_title('Training Accuracy / Validation Accuracy')"
   ]
  },
  {
   "cell_type": "code",
   "execution_count": 12,
   "id": "6bbb9c2a",
   "metadata": {},
   "outputs": [
    {
     "name": "stdout",
     "output_type": "stream",
     "text": [
      "\n",
      "Evaluate model on test dataset..\n",
      "157/157 [==============================] - 1s 3ms/step - loss: 0.0508 - accuracy: 0.9903\n",
      "Test Loss: 0.051\n",
      "Test Accuracy: 0.990\n"
     ]
    }
   ],
   "source": [
    "# Evaluate model with test data\n",
    "print(\"\\nEvaluate model on test dataset..\")\n",
    "import time\n",
    "\n",
    "loss, acc = model.evaluate(test_dataset)  # returns loss and metrics\n",
    "print(\"Test Loss: %.3f\" % loss)\n",
    "print(\"Test Accuracy: %.3f\" % acc)"
   ]
  },
  {
   "cell_type": "code",
   "execution_count": 13,
   "id": "f7e650a6",
   "metadata": {},
   "outputs": [
    {
     "name": "stdout",
     "output_type": "stream",
     "text": [
      "\n",
      "Create custom FC..\n",
      "Model: \"mnist_customcnn_model\"\n",
      "_________________________________________________________________\n",
      "Layer (type)                 Output Shape              Param #   \n",
      "=================================================================\n",
      "input (InputLayer)           [(None, 784)]             0         \n",
      "_________________________________________________________________\n",
      "hidden_1 (Dense)             (None, 300)               235500    \n",
      "_________________________________________________________________\n",
      "hidden_2 (Dense)             (None, 100)               30100     \n",
      "_________________________________________________________________\n",
      "dense_2 (Dense)              (None, 10)                1010      \n",
      "=================================================================\n",
      "Total params: 266,610\n",
      "Trainable params: 266,610\n",
      "Non-trainable params: 0\n",
      "_________________________________________________________________\n"
     ]
    }
   ],
   "source": [
    "# build cnn model\n",
    "print(\"\\nCreate custom FC..\")\n",
    "model_FC = customFC()"
   ]
  },
  {
   "cell_type": "code",
   "execution_count": 14,
   "id": "03810e2b",
   "metadata": {},
   "outputs": [
    {
     "name": "stdout",
     "output_type": "stream",
     "text": [
      "\n",
      "Fit on dataset..\n",
      "Epoch 1/10\n",
      "782/782 [==============================] - 5s 6ms/step - loss: 0.2348 - accuracy: 0.9303 - val_loss: 0.1146 - val_accuracy: 0.9655\n",
      "Epoch 2/10\n",
      "782/782 [==============================] - 4s 6ms/step - loss: 0.0960 - accuracy: 0.9719 - val_loss: 0.0719 - val_accuracy: 0.9786\n",
      "Epoch 3/10\n",
      "782/782 [==============================] - 5s 6ms/step - loss: 0.0628 - accuracy: 0.9825 - val_loss: 0.0551 - val_accuracy: 0.9833\n",
      "Epoch 4/10\n",
      "782/782 [==============================] - 4s 6ms/step - loss: 0.0448 - accuracy: 0.9877 - val_loss: 0.0522 - val_accuracy: 0.9849\n",
      "Epoch 5/10\n",
      "782/782 [==============================] - 5s 6ms/step - loss: 0.0343 - accuracy: 0.9902 - val_loss: 0.0546 - val_accuracy: 0.9847\n",
      "Epoch 6/10\n",
      "782/782 [==============================] - 4s 6ms/step - loss: 0.0264 - accuracy: 0.9927 - val_loss: 0.0458 - val_accuracy: 0.9875\n",
      "Epoch 7/10\n",
      "782/782 [==============================] - 5s 6ms/step - loss: 0.0213 - accuracy: 0.9937 - val_loss: 0.0489 - val_accuracy: 0.9874\n",
      "Epoch 8/10\n",
      "782/782 [==============================] - 4s 5ms/step - loss: 0.0173 - accuracy: 0.9948 - val_loss: 0.0441 - val_accuracy: 0.9896\n",
      "Epoch 9/10\n",
      "782/782 [==============================] - 4s 5ms/step - loss: 0.0141 - accuracy: 0.9957 - val_loss: 0.0483 - val_accuracy: 0.9891\n",
      "Epoch 10/10\n",
      "782/782 [==============================] - 4s 5ms/step - loss: 0.0120 - accuracy: 0.9963 - val_loss: 0.0428 - val_accuracy: 0.9909\n"
     ]
    }
   ],
   "source": [
    "# Train the model for 10 epochs using a dataset\n",
    "print(\"\\nFit on dataset..\")\n",
    "history_FC = model_FC.fit(train_dataset_flat, epochs=10, validation_data=val_dataset_flat)"
   ]
  },
  {
   "cell_type": "code",
   "execution_count": 15,
   "id": "cf5df010",
   "metadata": {},
   "outputs": [
    {
     "data": {
      "text/plain": [
       "Text(0.5, 1.0, 'Training Accuracy / Validation Accuracy')"
      ]
     },
     "execution_count": 15,
     "metadata": {},
     "output_type": "execute_result"
    },
    {
     "data": {
      "image/png": "[encoded data removed]",
      "text/plain": [
       "<Figure size 864x288 with 2 Axes>"
      ]
     },
     "metadata": {
      "needs_background": "light"
     },
     "output_type": "display_data"
    }
   ],
   "source": [
    "fig, axs = plt.subplots(1, 2, figsize=(12, 4))\n",
    "\n",
    "axs[0].plot(history_FC.history['loss'], 'b')\n",
    "axs[0].plot(history_FC.history['val_loss'], 'r')\n",
    "axs[0].set_title('Training Loss / Validation Loss')\n",
    "axs[0].set(xlabel='Epochs', ylabel='loss')\n",
    "\n",
    "axs[1].plot(history_FC.history['accuracy'], 'b')\n",
    "axs[1].plot(history_FC.history['val_accuracy'], 'r')\n",
    "axs[1].set_title('Training Accuracy / Validation Accuracy')"
   ]
  },
  {
   "cell_type": "code",
   "execution_count": 16,
   "id": "55bc3cfa",
   "metadata": {},
   "outputs": [
    {
     "name": "stdout",
     "output_type": "stream",
     "text": [
      "\n",
      "Evaluate model on test dataset..\n",
      "157/157 [==============================] - 0s 2ms/step - loss: 0.1245 - accuracy: 0.9783\n",
      "Test Loss: 0.125\n",
      "Test Accuracy: 0.978\n"
     ]
    }
   ],
   "source": [
    "# Evaluate model with test data\n",
    "print(\"\\nEvaluate model on test dataset..\")\n",
    "import time\n",
    "\n",
    "loss, acc = model_FC.evaluate(test_dataset_flat)  # returns loss and metrics\n",
    "print(\"Test Loss: %.3f\" % loss)\n",
    "print(\"Test Accuracy: %.3f\" % acc)"
   ]
  },
  {
   "cell_type": "code",
   "execution_count": 17,
   "id": "22f1ca73",
   "metadata": {},
   "outputs": [
    {
     "name": "stdout",
     "output_type": "stream",
     "text": [
      "\n",
      "Save trained model to./models/float_model.h5.\n"
     ]
    }
   ],
   "source": [
    "# Save CNN model\n",
    "path = os.path.join(MODEL_DIR, FLOAT_MODEL)\n",
    "print(\"\\nSave trained model to{}.\".format(path))\n",
    "model.save(path)"
   ]
  },
  {
   "cell_type": "markdown",
   "id": "783ec6c6",
   "metadata": {},
   "source": [
    "## MNIST model quantization"
   ]
  },
  {
   "cell_type": "code",
   "execution_count": 18,
   "id": "7b9546b2",
   "metadata": {},
   "outputs": [],
   "source": [
    "### 32-bit float model"
   ]
  },
  {
   "cell_type": "code",
   "execution_count": 19,
   "id": "06acc184",
   "metadata": {},
   "outputs": [
    {
     "name": "stdout",
     "output_type": "stream",
     "text": [
      "WARNING:tensorflow:From /opt/vitis_ai/conda/envs/vitis-ai-tensorflow2/lib/python3.7/site-packages/tensorflow/python/training/tracking/tracking.py:111: Model.state_updates (from tensorflow.python.keras.engine.training) is deprecated and will be removed in a future version.\n",
      "Instructions for updating:\n",
      "This property should not be used in TensorFlow 2.0, as updates are applied automatically.\n",
      "WARNING:tensorflow:From /opt/vitis_ai/conda/envs/vitis-ai-tensorflow2/lib/python3.7/site-packages/tensorflow/python/training/tracking/tracking.py:111: Layer.updates (from tensorflow.python.keras.engine.base_layer) is deprecated and will be removed in a future version.\n",
      "Instructions for updating:\n",
      "This property should not be used in TensorFlow 2.0, as updates are applied automatically.\n",
      "INFO:tensorflow:Assets written to: /tmp/tmplu9zr704/assets\n"
     ]
    },
    {
     "data": {
      "text/plain": [
       "377116"
      ]
     },
     "execution_count": 19,
     "metadata": {},
     "output_type": "execute_result"
    }
   ],
   "source": [
    "model = tf.keras.models.load_model('./models/float_model.h5')\n",
    "converter = tf.lite.TFLiteConverter.from_keras_model(model)\n",
    "tflite_model = converter.convert()\n",
    "#saving converted model in \"converted_model.tflite\" file\n",
    "open(\"./models/converted_model.tflite\", \"wb\").write(tflite_model)"
   ]
  },
  {
   "cell_type": "code",
   "execution_count": 20,
   "id": "98512b0e",
   "metadata": {},
   "outputs": [],
   "source": [
    "def representative_data_gen():\n",
    "    for input_value in tf.data.Dataset.from_tensor_slices(x_test).batch(1).take(100):\n",
    "        yield [input_value]"
   ]
  },
  {
   "cell_type": "code",
   "execution_count": 21,
   "id": "f38a470b",
   "metadata": {},
   "outputs": [],
   "source": [
    "### 8-bit integer quantization"
   ]
  },
  {
   "cell_type": "code",
   "execution_count": 22,
   "id": "a6843f18",
   "metadata": {},
   "outputs": [
    {
     "name": "stdout",
     "output_type": "stream",
     "text": [
      "INFO:tensorflow:Assets written to: /tmp/tmpcmgz_gps/assets\n"
     ]
    },
    {
     "name": "stderr",
     "output_type": "stream",
     "text": [
      "INFO:tensorflow:Assets written to: /tmp/tmpcmgz_gps/assets\n"
     ]
    },
    {
     "data": {
      "text/plain": [
       "104400"
      ]
     },
     "execution_count": 22,
     "metadata": {},
     "output_type": "execute_result"
    }
   ],
   "source": [
    "converter = tf.lite.TFLiteConverter.from_keras_model(model)\n",
    "converter.optimizations = [tf.lite.Optimize.DEFAULT]\n",
    "converter.representative_dataset = representative_data_gen\n",
    "# Ensure that if any ops can't be quantized, the converter throws an error\n",
    "converter.target_spec.supported_ops = [tf.lite.OpsSet.TFLITE_BUILTINS_INT8]\n",
    "# Set the input and output tensors to uint8 (APIs added in r2.3)\n",
    "#converter.inference_input_type = tf.uint8\n",
    "#converter.inference_output_type = tf.uint8\n",
    "\n",
    "tflite_model_quant_int8 = converter.convert()\n",
    "#saving converted model in \"converted_model.tflite\" file\n",
    "open(\"./models/converted_quant_model_int8.tflite\", \"wb\").write(tflite_model_quant_int8)"
   ]
  },
  {
   "cell_type": "code",
   "execution_count": 23,
   "id": "5970686d",
   "metadata": {},
   "outputs": [],
   "source": [
    "### 16-bit float quantization"
   ]
  },
  {
   "cell_type": "code",
   "execution_count": 24,
   "id": "f590c17b",
   "metadata": {},
   "outputs": [
    {
     "name": "stdout",
     "output_type": "stream",
     "text": [
      "INFO:tensorflow:Assets written to: /tmp/tmpcdiq3dxr/assets\n"
     ]
    },
    {
     "name": "stderr",
     "output_type": "stream",
     "text": [
      "INFO:tensorflow:Assets written to: /tmp/tmpcdiq3dxr/assets\n"
     ]
    },
    {
     "data": {
      "text/plain": [
       "192032"
      ]
     },
     "execution_count": 24,
     "metadata": {},
     "output_type": "execute_result"
    }
   ],
   "source": [
    "converter = tf.lite.TFLiteConverter.from_keras_model(model)\n",
    "converter.optimizations = [tf.lite.Optimize.DEFAULT]\n",
    "converter.target_spec.supported_types = [tf.float16]\n",
    "tflite_quant_model_float16 = converter.convert()\n",
    "#saving converted model in \"converted_model.tflite\" file\n",
    "open(\"./models/converted_quant_model_float16.tflite\", \"wb\").write(tflite_quant_model_float16)"
   ]
  },
  {
   "cell_type": "code",
   "execution_count": 25,
   "id": "f66b59f4",
   "metadata": {},
   "outputs": [],
   "source": [
    "# integer only: 16-bit activations with 8-bit weights (experimental)"
   ]
  },
  {
   "cell_type": "code",
   "execution_count": 26,
   "id": "7c2b055e",
   "metadata": {
    "scrolled": true
   },
   "outputs": [
    {
     "name": "stdout",
     "output_type": "stream",
     "text": [
      "INFO:tensorflow:Assets written to: /tmp/tmp0p7nrxe1/assets\n"
     ]
    },
    {
     "name": "stderr",
     "output_type": "stream",
     "text": [
      "INFO:tensorflow:Assets written to: /tmp/tmp0p7nrxe1/assets\n"
     ]
    },
    {
     "data": {
      "text/plain": [
       "105328"
      ]
     },
     "execution_count": 26,
     "metadata": {},
     "output_type": "execute_result"
    }
   ],
   "source": [
    "converter = tf.lite.TFLiteConverter.from_keras_model(model)\n",
    "converter.representative_dataset = representative_data_gen\n",
    "converter.optimizations = [tf.lite.Optimize.DEFAULT]\n",
    "converter.target_spec.supported_ops = [tf.lite.OpsSet.EXPERIMENTAL_TFLITE_BUILTINS_ACTIVATIONS_INT16_WEIGHTS_INT8]\n",
    "tflite_quant_model_act16_wei_8 = converter.convert()\n",
    "#saving converted model in \"converted_model.tflite\" file\n",
    "open(\"./models/converted_quant_model_act16_wei_8.tflite\", \"wb\").write(tflite_quant_model_act16_wei_8)"
   ]
  },
  {
   "cell_type": "code",
   "execution_count": 27,
   "id": "6f058931",
   "metadata": {},
   "outputs": [
    {
     "name": "stdout",
     "output_type": "stream",
     "text": [
      "32-bit Float model in Mb: 0.3596458435058594\n",
      "16-bit Float Quantized model in Mb: 0.183135986328125\n",
      "Compression ratio: 1.9638185302449591\n"
     ]
    }
   ],
   "source": [
    "print(\"32-bit Float model in Mb:\", \n",
    "      os.path.getsize('./models/converted_model.tflite') / float(2**20))\n",
    "print(\"16-bit Float Quantized model in Mb:\", \n",
    "      os.path.getsize('./models/converted_quant_model_float16.tflite') / float(2**20))\n",
    "print(\"Compression ratio:\", \n",
    "      os.path.getsize('./models/converted_model.tflite')/os.path.getsize('./models/converted_quant_model_float16.tflite'))"
   ]
  },
  {
   "cell_type": "code",
   "execution_count": 28,
   "id": "7c4c4826",
   "metadata": {},
   "outputs": [
    {
     "name": "stdout",
     "output_type": "stream",
     "text": [
      "32-bit Float model in Mb: 0.3596458435058594\n",
      "16-bit(A) 8-bit(W) int Quantized model in Mb: 0.1004486083984375\n",
      "Compression ratio: 3.5803964757709252\n"
     ]
    }
   ],
   "source": [
    "print(\"32-bit Float model in Mb:\", \n",
    "      os.path.getsize('./models/converted_model.tflite') / float(2**20))\n",
    "print(\"16-bit(A) 8-bit(W) int Quantized model in Mb:\", \n",
    "      os.path.getsize('./models/converted_quant_model_act16_wei_8.tflite') / float(2**20))\n",
    "print(\"Compression ratio:\", \n",
    "      os.path.getsize('./models/converted_model.tflite')/os.path.getsize('./models/converted_quant_model_act16_wei_8.tflite'))"
   ]
  },
  {
   "cell_type": "code",
   "execution_count": 29,
   "id": "532c1787",
   "metadata": {},
   "outputs": [],
   "source": [
    "import tensorflow.keras.models as models\n",
    "from tensorflow_model_optimization.quantization.keras import vitis_quantize"
   ]
  },
  {
   "cell_type": "code",
   "execution_count": 30,
   "id": "dc86f48f",
   "metadata": {
    "scrolled": true
   },
   "outputs": [
    {
     "name": "stdout",
     "output_type": "stream",
     "text": [
      "Load float model..\n",
      "./models/float_model.h5\n"
     ]
    }
   ],
   "source": [
    "# Load the floating point trained model\n",
    "print('Load float model..')\n",
    "path = os.path.join(MODEL_DIR, FLOAT_MODEL)\n",
    "print(path)\n",
    "try:\n",
    "    float_model = models.load_model(path)\n",
    "except:\n",
    "    print('\\nError:load float model failed!')"
   ]
  },
  {
   "cell_type": "code",
   "execution_count": 31,
   "id": "f78d20e3",
   "metadata": {},
   "outputs": [],
   "source": [
    "# get input dimensions of the floating-point model\n",
    "height = float_model.input_shape[1]\n",
    "width = float_model.input_shape[2]"
   ]
  },
  {
   "cell_type": "code",
   "execution_count": 32,
   "id": "476500b2",
   "metadata": {
    "scrolled": true
   },
   "outputs": [
    {
     "name": "stdout",
     "output_type": "stream",
     "text": [
      "\n",
      "Run quantization..\n",
      "[VAI INFO] Start CrossLayerEqualization...\n",
      "10/10 [==============================] - 1s 61ms/step\n",
      "[VAI INFO] CrossLayerEqualization Done.\n",
      "[VAI INFO] Start Quantize Calibration...\n",
      "157/157 [==============================] - 3s 19ms/step\n",
      "[VAI INFO] Quantize Calibration Done.\n",
      "[VAI INFO] Start Post-Quantize Adjustment...\n",
      "[VAI INFO] Post-Quantize Adjustment Done.\n",
      "[VAI INFO] Quantization Finished.\n"
     ]
    }
   ],
   "source": [
    "# Run vitis-quantization\n",
    "print('\\nRun quantization..')\n",
    "quantizer = vitis_quantize.VitisQuantizer(float_model)\n",
    "quantized_model = quantizer.quantize_model(calib_dataset=test_dataset)"
   ]
  },
  {
   "cell_type": "code",
   "execution_count": 33,
   "id": "017e51d5",
   "metadata": {},
   "outputs": [
    {
     "name": "stdout",
     "output_type": "stream",
     "text": [
      "\n",
      "Saved quantized model as ./models/quantized_model.h5\n"
     ]
    }
   ],
   "source": [
    "# Save quantized model\n",
    "path = os.path.join(MODEL_DIR, QAUNT_MODEL)\n",
    "quantized_model.save(path)\n",
    "print('\\nSaved quantized model as',path)"
   ]
  },
  {
   "cell_type": "code",
   "execution_count": 34,
   "id": "4da5e356",
   "metadata": {},
   "outputs": [],
   "source": [
    "path = os.path.join(MODEL_DIR, QAUNT_MODEL)\n",
    "with vitis_quantize.quantize_scope():\n",
    "    quantized_model = models.load_model(path, compile=False)"
   ]
  },
  {
   "cell_type": "code",
   "execution_count": 35,
   "id": "2553e2d1",
   "metadata": {},
   "outputs": [
    {
     "name": "stdout",
     "output_type": "stream",
     "text": [
      "\n",
      "Compile model..\n"
     ]
    }
   ],
   "source": [
    "# Compile the model\n",
    "print('\\nCompile model..')\n",
    "quantized_model.compile(optimizer=\"rmsprop\", \n",
    "        loss=\"categorical_crossentropy\",\n",
    "        metrics=['accuracy']\n",
    "        )"
   ]
  },
  {
   "cell_type": "code",
   "execution_count": 36,
   "id": "b4152761",
   "metadata": {
    "scrolled": true
   },
   "outputs": [
    {
     "name": "stdout",
     "output_type": "stream",
     "text": [
      "\n",
      "Evaluate model on test Dataset\n",
      "157/157 [==============================] - 1s 6ms/step - loss: 0.0511 - accuracy: 0.9905\n",
      "Test Loss: 0.051\n",
      "Test Accuracy: 0.990\n"
     ]
    }
   ],
   "source": [
    "# Evaluate model with test data\n",
    "print(\"\\nEvaluate model on test Dataset\")\n",
    "loss, acc = quantized_model.evaluate(test_dataset)  # returns loss and metrics\n",
    "print(\"Test Loss: %.3f\" % loss)\n",
    "print(\"Test Accuracy: %.3f\" % acc)"
   ]
  },
  {
   "cell_type": "code",
   "execution_count": 37,
   "id": "cc11cdc3",
   "metadata": {},
   "outputs": [
    {
     "name": "stdout",
     "output_type": "stream",
     "text": [
      "-----------------------------------------\n",
      "COMPILING MODEL FOR ZCU104..\n",
      "-----------------------------------------\n",
      "**************************************************\n",
      "* VITIS_AI Compilation - Xilinx Inc.\n",
      "**************************************************\n",
      "[INFO] Namespace(batchsize=1, inputs_shape=None, layout='NHWC', model_files=['./models/quantized_model.h5'], model_type='tensorflow2', named_inputs_shape=None, out_filename='/tmp/customcnn_org.xmodel', proto=None)\n",
      "[INFO] tensorflow2 model: /workspace/home/TA/Experiment1/models/quantized_model.h5\n",
      "[INFO] keras version: 2.4.0\n",
      "[INFO] Tensorflow Keras model type: functional\n",
      "[INFO] parse raw model     :100%|█| 15/15 [00:00<00:00, 7637.12it/s]            \n",
      "[INFO] infer shape (NHWC)  :100%|█| 26/26 [00:00<00:00, 5404.23it/s]            \n",
      "[INFO] perform level-0 opt :100%|█| 2/2 [00:00<00:00, 451.36it/s]               \n",
      "[INFO] perform level-1 opt :100%|█| 2/2 [00:00<00:00, 1670.37it/s]              \n",
      "[INFO] generate xmodel     :100%|█| 26/26 [00:00<00:00, 5318.83it/s]            \n",
      "[INFO] dump xmodel: /tmp/customcnn_org.xmodel\n",
      "[UNILOG][INFO] Target architecture: DPUCZDX8G_ISA0_B4096_MAX_BG2\n",
      "[UNILOG][INFO] Compile mode: dpu\n",
      "[UNILOG][INFO] Debug mode: function\n",
      "[UNILOG][INFO] Target architecture: DPUCZDX8G_ISA0_B4096_MAX_BG2\n",
      "[UNILOG][INFO] Graph name: mnist_customcnn_model, with op num: 42\n",
      "[UNILOG][INFO] Begin to compile...\n",
      "[UNILOG][INFO] Total device subgraph number 3, DPU subgraph number 1\n",
      "[UNILOG][INFO] Compile done.\n",
      "[UNILOG][INFO] The meta json is saved to \"/workspace/home/TA/Experiment1/./compiled_model/zcu104/meta.json\"\n",
      "[UNILOG][INFO] The compiled xmodel is saved to \"/workspace/home/TA/Experiment1/./compiled_model/zcu104/customcnn.xmodel\"\n",
      "[UNILOG][INFO] The compiled xmodel's md5sum is 74d95b37f33b421d7da7a46941213acc, and has been saved to \"/workspace/home/TA/Experiment1/./compiled_model/zcu104/md5sum.txt\"\n",
      "-----------------------------------------\n",
      "MODEL COMPILED\n",
      "-----------------------------------------\n"
     ]
    }
   ],
   "source": [
    "!echo \"-----------------------------------------\"\n",
    "!echo \"COMPILING MODEL FOR ZCU104..\"\n",
    "!echo \"-----------------------------------------\"\n",
    "\n",
    "!vai_c_tensorflow2 \\\n",
    "            --model ./models/quantized_model.h5 \\\n",
    "            --arch /opt/vitis_ai/compiler/arch/DPUCZDX8G/ZCU104/arch.json \\\n",
    "            --output_dir ./compiled_model/zcu104 \\\n",
    "            --net_name customcnn\n",
    "\n",
    "!echo \"-----------------------------------------\"\n",
    "!echo \"MODEL COMPILED\"\n",
    "!echo \"-----------------------------------------\""
   ]
  },
  {
   "cell_type": "code",
   "execution_count": 72,
   "id": "bdbcf24a",
   "metadata": {},
   "outputs": [
    {
     "name": "stdout",
     "output_type": "stream",
     "text": [
      "<tf.Variable 'quant_input_1/quant_input_1_min:0' shape=() dtype=float32, numpy=0.0>\n",
      "<tf.Variable 'quant_input_1/quant_input_1_max:0' shape=() dtype=float32, numpy=1.0>\n",
      "<tf.Variable 'quant_input_1/quant_input_1_pos:0' shape=() dtype=float32, numpy=6.0>\n",
      "<tf.Variable 'quant_input_1/optimizer_step:0' shape=() dtype=int32, numpy=-1>\n",
      "<tf.Variable 'quant_conv2d/optimizer_step:0' shape=() dtype=int32, numpy=-1>\n",
      "<tf.Variable 'quant_conv2d/kernel_min:0' shape=() dtype=float32, numpy=-0.3831253>\n",
      "<tf.Variable 'quant_conv2d/kernel_max:0' shape=() dtype=float32, numpy=0.2998602>\n",
      "<tf.Variable 'quant_conv2d/kernel_pos:0' shape=() dtype=float32, numpy=8.0>\n",
      "<tf.Variable 'quant_conv2d/bias_min:0' shape=() dtype=float32, numpy=-0.16152509>\n",
      "<tf.Variable 'quant_conv2d/bias_max:0' shape=() dtype=float32, numpy=0.08685454>\n",
      "<tf.Variable 'quant_conv2d/bias_pos:0' shape=() dtype=float32, numpy=9.0>\n",
      "<tf.Variable 'quant_conv2d_relu/optimizer_step:0' shape=() dtype=int32, numpy=-1>\n",
      "<tf.Variable 'quant_conv2d_relu/post_activation_min:0' shape=() dtype=float32, numpy=0.0>\n",
      "<tf.Variable 'quant_conv2d_relu/post_activation_max:0' shape=() dtype=float32, numpy=0.65234375>\n",
      "<tf.Variable 'quant_conv2d_relu/post_activation_pos:0' shape=() dtype=float32, numpy=7.0>\n",
      "<tf.Variable 'quant_max_pooling2d/optimizer_step:0' shape=() dtype=int32, numpy=-1>\n",
      "<tf.Variable 'quant_max_pooling2d/output_0_min:0' shape=() dtype=float32, numpy=0.0>\n",
      "<tf.Variable 'quant_max_pooling2d/output_0_max:0' shape=() dtype=float32, numpy=0.65625>\n",
      "<tf.Variable 'quant_max_pooling2d/output_0_pos:0' shape=() dtype=float32, numpy=7.0>\n",
      "<tf.Variable 'quant_conv2d_1/optimizer_step:0' shape=() dtype=int32, numpy=-1>\n",
      "<tf.Variable 'quant_conv2d_1/kernel_min:0' shape=() dtype=float32, numpy=-0.46762064>\n",
      "<tf.Variable 'quant_conv2d_1/kernel_max:0' shape=() dtype=float32, numpy=0.39757136>\n",
      "<tf.Variable 'quant_conv2d_1/kernel_pos:0' shape=() dtype=float32, numpy=8.0>\n",
      "<tf.Variable 'quant_conv2d_1/bias_min:0' shape=() dtype=float32, numpy=-0.12994212>\n",
      "<tf.Variable 'quant_conv2d_1/bias_max:0' shape=() dtype=float32, numpy=0.031502586>\n",
      "<tf.Variable 'quant_conv2d_1/bias_pos:0' shape=() dtype=float32, numpy=9.0>\n",
      "<tf.Variable 'quant_conv2d_1_relu/optimizer_step:0' shape=() dtype=int32, numpy=-1>\n",
      "<tf.Variable 'quant_conv2d_1_relu/post_activation_min:0' shape=() dtype=float32, numpy=0.0>\n",
      "<tf.Variable 'quant_conv2d_1_relu/post_activation_max:0' shape=() dtype=float32, numpy=1.9101562>\n",
      "<tf.Variable 'quant_conv2d_1_relu/post_activation_pos:0' shape=() dtype=float32, numpy=6.0>\n",
      "<tf.Variable 'quant_max_pooling2d_1/optimizer_step:0' shape=() dtype=int32, numpy=-1>\n",
      "<tf.Variable 'quant_max_pooling2d_1/output_0_min:0' shape=() dtype=float32, numpy=0.0>\n",
      "<tf.Variable 'quant_max_pooling2d_1/output_0_max:0' shape=() dtype=float32, numpy=1.90625>\n",
      "<tf.Variable 'quant_max_pooling2d_1/output_0_pos:0' shape=() dtype=float32, numpy=6.0>\n",
      "<tf.Variable 'quant_conv2d_2/optimizer_step:0' shape=() dtype=int32, numpy=-1>\n",
      "<tf.Variable 'quant_conv2d_2/kernel_min:0' shape=() dtype=float32, numpy=-0.49733436>\n",
      "<tf.Variable 'quant_conv2d_2/kernel_max:0' shape=() dtype=float32, numpy=0.40470535>\n",
      "<tf.Variable 'quant_conv2d_2/kernel_pos:0' shape=() dtype=float32, numpy=8.0>\n",
      "<tf.Variable 'quant_conv2d_2/bias_min:0' shape=() dtype=float32, numpy=-0.13217205>\n",
      "<tf.Variable 'quant_conv2d_2/bias_max:0' shape=() dtype=float32, numpy=0.021725858>\n",
      "<tf.Variable 'quant_conv2d_2/bias_pos:0' shape=() dtype=float32, numpy=9.0>\n",
      "<tf.Variable 'quant_conv2d_2_relu/optimizer_step:0' shape=() dtype=int32, numpy=-1>\n",
      "<tf.Variable 'quant_conv2d_2_relu/post_activation_min:0' shape=() dtype=float32, numpy=0.0>\n",
      "<tf.Variable 'quant_conv2d_2_relu/post_activation_max:0' shape=() dtype=float32, numpy=5.0703125>\n",
      "<tf.Variable 'quant_conv2d_2_relu/post_activation_pos:0' shape=() dtype=float32, numpy=4.0>\n",
      "<tf.Variable 'quant_flatten/optimizer_step:0' shape=() dtype=int32, numpy=-1>\n",
      "<tf.Variable 'quant_dense/optimizer_step:0' shape=() dtype=int32, numpy=-1>\n",
      "<tf.Variable 'quant_dense/kernel_min:0' shape=() dtype=float32, numpy=-0.4092751>\n",
      "<tf.Variable 'quant_dense/kernel_max:0' shape=() dtype=float32, numpy=0.49797285>\n",
      "<tf.Variable 'quant_dense/kernel_pos:0' shape=() dtype=float32, numpy=8.0>\n",
      "<tf.Variable 'quant_dense/bias_min:0' shape=() dtype=float32, numpy=-0.13824561>\n",
      "<tf.Variable 'quant_dense/bias_max:0' shape=() dtype=float32, numpy=0.08809472>\n",
      "<tf.Variable 'quant_dense/bias_pos:0' shape=() dtype=float32, numpy=9.0>\n",
      "<tf.Variable 'quant_dense_relu/optimizer_step:0' shape=() dtype=int32, numpy=-1>\n",
      "<tf.Variable 'quant_dense_relu/post_activation_min:0' shape=() dtype=float32, numpy=0.0>\n",
      "<tf.Variable 'quant_dense_relu/post_activation_max:0' shape=() dtype=float32, numpy=21.128906>\n",
      "<tf.Variable 'quant_dense_relu/post_activation_pos:0' shape=() dtype=float32, numpy=2.0>\n",
      "<tf.Variable 'quant_dense_1/optimizer_step:0' shape=() dtype=int32, numpy=-1>\n",
      "<tf.Variable 'quant_dense_1/kernel_min:0' shape=() dtype=float32, numpy=-0.76789725>\n",
      "<tf.Variable 'quant_dense_1/kernel_max:0' shape=() dtype=float32, numpy=0.4314987>\n",
      "<tf.Variable 'quant_dense_1/kernel_pos:0' shape=() dtype=float32, numpy=7.0>\n",
      "<tf.Variable 'quant_dense_1/bias_min:0' shape=() dtype=float32, numpy=-0.08216244>\n",
      "<tf.Variable 'quant_dense_1/bias_max:0' shape=() dtype=float32, numpy=0.04443342>\n",
      "<tf.Variable 'quant_dense_1/bias_pos:0' shape=() dtype=float32, numpy=10.0>\n",
      "<tf.Variable 'quant_dense_1/post_activation_min:0' shape=() dtype=float32, numpy=-46.435547>\n",
      "<tf.Variable 'quant_dense_1/post_activation_max:0' shape=() dtype=float32, numpy=27.72461>\n",
      "<tf.Variable 'quant_dense_1/post_activation_pos:0' shape=() dtype=float32, numpy=1.0>\n",
      "Model: \"mnist_customcnn_model\"\n",
      "_________________________________________________________________\n",
      "Layer (type)                 Output Shape              Param #   \n",
      "=================================================================\n",
      "input_1 (InputLayer)         [(None, 28, 28, 1)]       0         \n",
      "_________________________________________________________________\n",
      "quant_input_1 (VitisQuantize (None, 28, 28, 1)         4         \n",
      "_________________________________________________________________\n",
      "quant_conv2d (QuantizeWrappe (None, 26, 26, 32)        327       \n",
      "_________________________________________________________________\n",
      "quant_conv2d_relu (QuantizeW (None, 26, 26, 32)        4         \n",
      "_________________________________________________________________\n",
      "quant_max_pooling2d (Quantiz (None, 13, 13, 32)        4         \n",
      "_________________________________________________________________\n",
      "quant_conv2d_1 (QuantizeWrap (None, 11, 11, 64)        18503     \n",
      "_________________________________________________________________\n",
      "quant_conv2d_1_relu (Quantiz (None, 11, 11, 64)        4         \n",
      "_________________________________________________________________\n",
      "quant_max_pooling2d_1 (Quant (None, 5, 5, 64)          4         \n",
      "_________________________________________________________________\n",
      "quant_conv2d_2 (QuantizeWrap (None, 3, 3, 64)          36935     \n",
      "_________________________________________________________________\n",
      "quant_conv2d_2_relu (Quantiz (None, 3, 3, 64)          4         \n",
      "_________________________________________________________________\n",
      "quant_flatten (QuantizeWrapp (None, 576)               1         \n",
      "_________________________________________________________________\n",
      "quant_dense (QuantizeWrapper (None, 64)                36935     \n",
      "_________________________________________________________________\n",
      "quant_dense_relu (QuantizeWr (None, 64)                4         \n",
      "_________________________________________________________________\n",
      "quant_dense_1 (QuantizeWrapp (None, 10)                660       \n",
      "_________________________________________________________________\n",
      "dense_1_softmax (Activation) (None, 10)                0         \n",
      "=================================================================\n",
      "Total params: 93,389\n",
      "Trainable params: 93,322\n",
      "Non-trainable params: 67\n",
      "_________________________________________________________________\n",
      "Model: \"mnist_customcnn_model\"\n",
      "_________________________________________________________________\n",
      "Layer (type)                 Output Shape              Param #   \n",
      "=================================================================\n",
      "input_1 (InputLayer)         [(None, 28, 28, 1)]       0         \n",
      "_________________________________________________________________\n",
      "conv2d (Conv2D)              (None, 26, 26, 32)        320       \n",
      "_________________________________________________________________\n",
      "max_pooling2d (MaxPooling2D) (None, 13, 13, 32)        0         \n",
      "_________________________________________________________________\n",
      "conv2d_1 (Conv2D)            (None, 11, 11, 64)        18496     \n",
      "_________________________________________________________________\n",
      "max_pooling2d_1 (MaxPooling2 (None, 5, 5, 64)          0         \n",
      "_________________________________________________________________\n",
      "conv2d_2 (Conv2D)            (None, 3, 3, 64)          36928     \n",
      "_________________________________________________________________\n",
      "flatten (Flatten)            (None, 576)               0         \n",
      "_________________________________________________________________\n",
      "dense (Dense)                (None, 64)                36928     \n",
      "_________________________________________________________________\n",
      "dense_1 (Dense)              (None, 10)                650       \n",
      "=================================================================\n",
      "Total params: 93,322\n",
      "Trainable params: 93,322\n",
      "Non-trainable params: 0\n",
      "_________________________________________________________________\n"
     ]
    }
   ],
   "source": [
    "for w in quantized_model.non_trainable_weights:\n",
    "    print(w)\n",
    "\n",
    "\n",
    "quantized_model.summary()\n",
    "model.summary()"
   ]
  },
  {
   "cell_type": "code",
   "execution_count": null,
   "id": "c326d0d0",
   "metadata": {},
   "outputs": [],
   "source": []
  },
  {
   "cell_type": "code",
   "execution_count": null,
   "id": "2220aec1",
   "metadata": {},
   "outputs": [],
   "source": []
  },
  {
   "cell_type": "code",
   "execution_count": null,
   "id": "ce0c7970",
   "metadata": {},
   "outputs": [],
   "source": []
  },
  {
   "cell_type": "code",
   "execution_count": null,
   "id": "21ccc3dc",
   "metadata": {},
   "outputs": [],
   "source": []
  },
  {
   "cell_type": "code",
   "execution_count": null,
   "id": "7365d3b2",
   "metadata": {},
   "outputs": [],
   "source": []
  },
  {
   "cell_type": "code",
   "execution_count": 38,
   "id": "ec912ce5",
   "metadata": {},
   "outputs": [
    {
     "ename": "NameError",
     "evalue": "name 'tflite_interpreter' is not defined",
     "output_type": "error",
     "traceback": [
      "\u001b[0;31m---------------------------------------------------------------------------\u001b[0m",
      "\u001b[0;31mNameError\u001b[0m                                 Traceback (most recent call last)",
      "\u001b[0;32m/tmp/ipykernel_284/190846188.py\u001b[0m in \u001b[0;36m<module>\u001b[0;34m\u001b[0m\n\u001b[1;32m     35\u001b[0m     \u001b[0mprint\u001b[0m\u001b[0;34m(\u001b[0m\u001b[0;34mf'Inference time of TFLite model: {mean_time}'\u001b[0m\u001b[0;34m)\u001b[0m\u001b[0;34m\u001b[0m\u001b[0;34m\u001b[0m\u001b[0m\n\u001b[1;32m     36\u001b[0m \u001b[0;34m\u001b[0m\u001b[0m\n\u001b[0;32m---> 37\u001b[0;31m \u001b[0mTFLiteInference\u001b[0m\u001b[0;34m(\u001b[0m\u001b[0mmodel_path\u001b[0m\u001b[0;34m=\u001b[0m\u001b[0;34m'./models/converted_model.tflite'\u001b[0m\u001b[0;34m,\u001b[0m\u001b[0mx_test\u001b[0m\u001b[0;34m=\u001b[0m\u001b[0mx_test\u001b[0m\u001b[0;34m,\u001b[0m\u001b[0my_test\u001b[0m\u001b[0;34m=\u001b[0m\u001b[0my_test\u001b[0m\u001b[0;34m)\u001b[0m\u001b[0;34m\u001b[0m\u001b[0;34m\u001b[0m\u001b[0m\n\u001b[0m\u001b[1;32m     38\u001b[0m \u001b[0mTFLiteInference\u001b[0m\u001b[0;34m(\u001b[0m\u001b[0mmodel_path\u001b[0m\u001b[0;34m=\u001b[0m\u001b[0;34m'./models/converted_quant_model_float16.tflite'\u001b[0m\u001b[0;34m,\u001b[0m\u001b[0mx_test\u001b[0m\u001b[0;34m=\u001b[0m\u001b[0mx_test\u001b[0m\u001b[0;34m,\u001b[0m\u001b[0my_test\u001b[0m\u001b[0;34m=\u001b[0m\u001b[0my_test\u001b[0m\u001b[0;34m)\u001b[0m\u001b[0;34m\u001b[0m\u001b[0;34m\u001b[0m\u001b[0m\n\u001b[1;32m     39\u001b[0m \u001b[0mTFLiteInference\u001b[0m\u001b[0;34m(\u001b[0m\u001b[0mmodel_path\u001b[0m\u001b[0;34m=\u001b[0m\u001b[0;34m'./models/converted_quant_model_act16_wei_8.tflite'\u001b[0m\u001b[0;34m,\u001b[0m\u001b[0mx_test\u001b[0m\u001b[0;34m=\u001b[0m\u001b[0mx_test\u001b[0m\u001b[0;34m,\u001b[0m\u001b[0my_test\u001b[0m\u001b[0;34m=\u001b[0m\u001b[0my_test\u001b[0m\u001b[0;34m)\u001b[0m\u001b[0;34m\u001b[0m\u001b[0;34m\u001b[0m\u001b[0m\n",
      "\u001b[0;32m/tmp/ipykernel_284/190846188.py\u001b[0m in \u001b[0;36mTFLiteInference\u001b[0;34m(model_path, x_test, y_test)\u001b[0m\n\u001b[1;32m      5\u001b[0m     \u001b[0minterpreter\u001b[0m \u001b[0;34m=\u001b[0m \u001b[0mtf\u001b[0m\u001b[0;34m.\u001b[0m\u001b[0mlite\u001b[0m\u001b[0;34m.\u001b[0m\u001b[0mInterpreter\u001b[0m\u001b[0;34m(\u001b[0m\u001b[0mmodel_path\u001b[0m\u001b[0;34m=\u001b[0m\u001b[0mmodel_path\u001b[0m\u001b[0;34m)\u001b[0m\u001b[0;34m\u001b[0m\u001b[0;34m\u001b[0m\u001b[0m\n\u001b[1;32m      6\u001b[0m     \u001b[0minterpreter\u001b[0m\u001b[0;34m.\u001b[0m\u001b[0mallocate_tensors\u001b[0m\u001b[0;34m(\u001b[0m\u001b[0;34m)\u001b[0m\u001b[0;34m\u001b[0m\u001b[0;34m\u001b[0m\u001b[0m\n\u001b[0;32m----> 7\u001b[0;31m     \u001b[0mprint\u001b[0m\u001b[0;34m(\u001b[0m\u001b[0mtflite_interpreter\u001b[0m\u001b[0;34m.\u001b[0m\u001b[0mget_input_details\u001b[0m\u001b[0;34m(\u001b[0m\u001b[0;34m)\u001b[0m\u001b[0;34m)\u001b[0m\u001b[0;34m\u001b[0m\u001b[0;34m\u001b[0m\u001b[0m\n\u001b[0m\u001b[1;32m      8\u001b[0m     \u001b[0;31m# Get indexes of input and output layers\u001b[0m\u001b[0;34m\u001b[0m\u001b[0;34m\u001b[0m\u001b[0;34m\u001b[0m\u001b[0m\n\u001b[1;32m      9\u001b[0m     \u001b[0minput_index\u001b[0m \u001b[0;34m=\u001b[0m \u001b[0minterpreter\u001b[0m\u001b[0;34m.\u001b[0m\u001b[0mget_input_details\u001b[0m\u001b[0;34m(\u001b[0m\u001b[0;34m)\u001b[0m\u001b[0;34m[\u001b[0m\u001b[0;36m0\u001b[0m\u001b[0;34m]\u001b[0m\u001b[0;34m[\u001b[0m\u001b[0;34m'index'\u001b[0m\u001b[0;34m]\u001b[0m\u001b[0;34m\u001b[0m\u001b[0;34m\u001b[0m\u001b[0m\n",
      "\u001b[0;31mNameError\u001b[0m: name 'tflite_interpreter' is not defined"
     ]
    }
   ],
   "source": [
    "import time\n",
    "def TFLiteInference(model_path,x_test,y_test):\n",
    "\n",
    "    #Step 1. Load TFLite model and allocate tensors.\n",
    "    interpreter = tf.lite.Interpreter(model_path=model_path)\n",
    "    interpreter.allocate_tensors()\n",
    "    print(tflite_interpreter.get_input_details())\n",
    "    # Get indexes of input and output layers\n",
    "    input_index = interpreter.get_input_details()[0]['index']\n",
    "    output_index = interpreter.get_output_details()[0]['index']\n",
    "\n",
    "    sum_correct=0.0\n",
    "    sum_time=0.0\n",
    "    for idx, data in enumerate(zip(x_test,y_test)):\n",
    "        image=data[0]\n",
    "        label=data[1]\n",
    "        image=tf.expand_dims(image, axis=0) #shape will be [1,32,32,3]\n",
    "        \n",
    "        s_time=time.time()\n",
    "        #Step 2. Transform input data\n",
    "        interpreter.set_tensor(input_index,image)\n",
    "        #Step 3. Run inference\n",
    "        interpreter.invoke()\n",
    "        #Step 4. Interpret output\n",
    "        pred=interpreter.get_tensor(output_index)\n",
    "        \n",
    "        sum_time+=time.time()-s_time\n",
    "        if np.argmax(pred)== np.argmax(label):\n",
    "            sum_correct+=1.0\n",
    "    \n",
    "    mean_acc=sum_correct / float(idx+1)\n",
    "    mean_time=sum_time / float(idx+1)\n",
    "\n",
    "    print(f'Accuracy of TFLite model: {mean_acc}')\n",
    "    print(f'Inference time of TFLite model: {mean_time}')\n",
    "    \n",
    "TFLiteInference(model_path='./models/converted_model.tflite',x_test=x_test,y_test=y_test)\n",
    "TFLiteInference(model_path='./models/converted_quant_model_float16.tflite',x_test=x_test,y_test=y_test)\n",
    "TFLiteInference(model_path='./models/converted_quant_model_act16_wei_8.tflite',x_test=x_test,y_test=y_test)\n",
    "TFLiteInference(model_path='./models/converted_quant_model_int8.tflite',x_test=x_test,y_test=y_test)\n"
   ]
  },
  {
   "cell_type": "code",
   "execution_count": null,
   "id": "eb945f5d",
   "metadata": {},
   "outputs": [],
   "source": []
  },
  {
   "cell_type": "code",
   "execution_count": null,
   "id": "b76cc204",
   "metadata": {},
   "outputs": [],
   "source": []
  }
 ],
 "metadata": {
  "kernelspec": {
   "display_name": "Python 3 (ipykernel)",
   "language": "python",
   "name": "python3"
  },
  "language_info": {
   "codemirror_mode": {
    "name": "ipython",
    "version": 3
   },
   "file_extension": ".py",
   "mimetype": "text/x-python",
   "name": "python",
   "nbconvert_exporter": "python",
   "pygments_lexer": "ipython3",
   "version": "3.7.10"
  }
 },
 "nbformat": 4,
 "nbformat_minor": 5
}
